{
 "cells": [
  {
   "cell_type": "code",
   "execution_count": 2,
   "id": "36f6189d-bcab-4b7c-a5f5-078e97994136",
   "metadata": {},
   "outputs": [],
   "source": [
    "a = 45\n",
    "b = 20\n"
   ]
  },
  {
   "cell_type": "code",
   "execution_count": 3,
   "id": "935b23fd-f0e5-44b9-aa8b-6a044ce53e54",
   "metadata": {},
   "outputs": [
    {
     "data": {
      "text/plain": [
       "65"
      ]
     },
     "execution_count": 3,
     "metadata": {},
     "output_type": "execute_result"
    }
   ],
   "source": [
    "a + b "
   ]
  },
  {
   "cell_type": "code",
   "execution_count": 7,
   "id": "3652fb93-29ea-4c57-af38-78e60c8d0299",
   "metadata": {},
   "outputs": [
    {
     "data": {
      "text/plain": [
       "'Mango'"
      ]
     },
     "execution_count": 7,
     "metadata": {},
     "output_type": "execute_result"
    }
   ],
   "source": [
    "a = (\"Mango\")\n",
    "a"
   ]
  },
  {
   "cell_type": "code",
   "execution_count": 8,
   "id": "99227f5e-0405-4db7-98d9-39c6b9dba4e4",
   "metadata": {},
   "outputs": [
    {
     "data": {
      "text/plain": [
       "str"
      ]
     },
     "execution_count": 8,
     "metadata": {},
     "output_type": "execute_result"
    }
   ],
   "source": [
    "type(a)"
   ]
  },
  {
   "cell_type": "code",
   "execution_count": 10,
   "id": "24864fb3-e8aa-4a48-b4ff-cf2e558c7fc5",
   "metadata": {},
   "outputs": [
    {
     "data": {
      "text/plain": [
       "100"
      ]
     },
     "execution_count": 10,
     "metadata": {},
     "output_type": "execute_result"
    }
   ],
   "source": [
    "d = 100\n",
    "d"
   ]
  },
  {
   "cell_type": "code",
   "execution_count": 11,
   "id": "461daa1f-21a6-4ec9-beb9-40347381e3b7",
   "metadata": {},
   "outputs": [
    {
     "data": {
      "text/plain": [
       "int"
      ]
     },
     "execution_count": 11,
     "metadata": {},
     "output_type": "execute_result"
    }
   ],
   "source": [
    "type(d)"
   ]
  },
  {
   "cell_type": "code",
   "execution_count": 12,
   "id": "0b486022-01d4-4c34-8293-3eb55258c74c",
   "metadata": {},
   "outputs": [
    {
     "data": {
      "text/plain": [
       "20.8"
      ]
     },
     "execution_count": 12,
     "metadata": {},
     "output_type": "execute_result"
    }
   ],
   "source": [
    "b = 20.8\n",
    "b\n"
   ]
  },
  {
   "cell_type": "code",
   "execution_count": 13,
   "id": "01cae345-7fb4-4dec-8259-705fb006a913",
   "metadata": {},
   "outputs": [
    {
     "data": {
      "text/plain": [
       "float"
      ]
     },
     "execution_count": 13,
     "metadata": {},
     "output_type": "execute_result"
    }
   ],
   "source": [
    "type(b)"
   ]
  },
  {
   "cell_type": "code",
   "execution_count": 15,
   "id": "ef55d18a-46c5-4240-bb22-d43ce320c383",
   "metadata": {},
   "outputs": [
    {
     "data": {
      "text/plain": [
       "'@gamil.com'"
      ]
     },
     "execution_count": 15,
     "metadata": {},
     "output_type": "execute_result"
    }
   ],
   "source": [
    "c = (\"@gamil.com\")\n",
    "c \n",
    "\n"
   ]
  },
  {
   "cell_type": "code",
   "execution_count": 17,
   "id": "9c93ded7-619e-47df-8d06-7dd4b92d1ea1",
   "metadata": {},
   "outputs": [
    {
     "data": {
      "text/plain": [
       "str"
      ]
     },
     "execution_count": 17,
     "metadata": {},
     "output_type": "execute_result"
    }
   ],
   "source": [
    "type(c)"
   ]
  },
  {
   "cell_type": "code",
   "execution_count": 18,
   "id": "17e72182-1727-4f16-a478-b40d95b3ed64",
   "metadata": {},
   "outputs": [
    {
     "data": {
      "text/plain": [
       "(2+5j)"
      ]
     },
     "execution_count": 18,
     "metadata": {},
     "output_type": "execute_result"
    }
   ],
   "source": [
    "d = 2+5j\n",
    "d\n"
   ]
  },
  {
   "cell_type": "code",
   "execution_count": 19,
   "id": "4f145a5f-32b8-4246-a1bb-dd16d78d7f70",
   "metadata": {},
   "outputs": [
    {
     "data": {
      "text/plain": [
       "complex"
      ]
     },
     "execution_count": 19,
     "metadata": {},
     "output_type": "execute_result"
    }
   ],
   "source": [
    "type(d)"
   ]
  },
  {
   "cell_type": "code",
   "execution_count": 20,
   "id": "8120f771-4d44-4fb3-a21f-d3d212c2f704",
   "metadata": {},
   "outputs": [
    {
     "data": {
      "text/plain": [
       "10"
      ]
     },
     "execution_count": 20,
     "metadata": {},
     "output_type": "execute_result"
    }
   ],
   "source": [
    "5*2"
   ]
  },
  {
   "cell_type": "markdown",
   "id": "76534df2-ae79-451f-adc2-c0ab7f676925",
   "metadata": {
    "jp-MarkdownHeadingCollapsed": true,
    "tags": []
   },
   "source": [
    "2**5"
   ]
  },
  {
   "cell_type": "code",
   "execution_count": 22,
   "id": "a0da6437-991c-4799-a5f7-adcab6574bba",
   "metadata": {},
   "outputs": [
    {
     "data": {
      "text/plain": [
       "32"
      ]
     },
     "execution_count": 22,
     "metadata": {},
     "output_type": "execute_result"
    }
   ],
   "source": [
    "a = 2**5\n",
    "a"
   ]
  },
  {
   "cell_type": "code",
   "execution_count": 25,
   "id": "75ce8874-6fb8-42c3-8ab9-d2c57bffd6ee",
   "metadata": {},
   "outputs": [
    {
     "name": "stdout",
     "output_type": "stream",
     "text": [
      "a is grrater than 20\n"
     ]
    }
   ],
   "source": [
    "a = 45\n",
    "\n",
    "if a>=20:\n",
    "    print(\"a is grrater than 20\")\n",
    "else:\n",
    "        print(\"a is smaller than 20\")"
   ]
  },
  {
   "cell_type": "code",
   "execution_count": 1,
   "id": "f00e27c2-331a-41be-9508-d0383aa87e2f",
   "metadata": {},
   "outputs": [],
   "source": [
    "d = {\"name\":\"Deepak\",\"Address\":\"Indore\",\"Contact\":123456789}"
   ]
  },
  {
   "cell_type": "code",
   "execution_count": 2,
   "id": "d6e92614-cae7-4a31-8a9b-8f26a11af026",
   "metadata": {},
   "outputs": [
    {
     "data": {
      "text/plain": [
       "{'name': 'Deepak', 'Address': 'Indore', 'Contact': 123456789}"
      ]
     },
     "execution_count": 2,
     "metadata": {},
     "output_type": "execute_result"
    }
   ],
   "source": [
    "d"
   ]
  },
  {
   "cell_type": "code",
   "execution_count": 3,
   "id": "4e2590b2-a759-44ef-980d-dc4d12e580f2",
   "metadata": {},
   "outputs": [
    {
     "data": {
      "text/plain": [
       "dict"
      ]
     },
     "execution_count": 3,
     "metadata": {},
     "output_type": "execute_result"
    }
   ],
   "source": [
    "type(d)"
   ]
  },
  {
   "cell_type": "code",
   "execution_count": 4,
   "id": "386db5ce-942a-4cde-8e3b-3a2b0f2e7d1f",
   "metadata": {},
   "outputs": [
    {
     "ename": "NameError",
     "evalue": "name 'name' is not defined",
     "output_type": "error",
     "traceback": [
      "\u001b[0;31m---------------------------------------------------------------------------\u001b[0m",
      "\u001b[0;31mNameError\u001b[0m                                 Traceback (most recent call last)",
      "Cell \u001b[0;32mIn[4], line 1\u001b[0m\n\u001b[0;32m----> 1\u001b[0m d(\u001b[43mname\u001b[49m)\n",
      "\u001b[0;31mNameError\u001b[0m: name 'name' is not defined"
     ]
    }
   ],
   "source": [
    "d(name)"
   ]
  },
  {
   "cell_type": "code",
   "execution_count": 5,
   "id": "02567eb3-569f-4d40-b166-5fd18914e0a9",
   "metadata": {},
   "outputs": [
    {
     "ename": "TypeError",
     "evalue": "'dict' object is not callable",
     "output_type": "error",
     "traceback": [
      "\u001b[0;31m---------------------------------------------------------------------------\u001b[0m",
      "\u001b[0;31mTypeError\u001b[0m                                 Traceback (most recent call last)",
      "Cell \u001b[0;32mIn[5], line 1\u001b[0m\n\u001b[0;32m----> 1\u001b[0m \u001b[43md\u001b[49m\u001b[43m(\u001b[49m\u001b[38;5;124;43m\"\u001b[39;49m\u001b[38;5;124;43mname\u001b[39;49m\u001b[38;5;124;43m\"\u001b[39;49m\u001b[43m)\u001b[49m\n",
      "\u001b[0;31mTypeError\u001b[0m: 'dict' object is not callable"
     ]
    }
   ],
   "source": [
    "d(\"name\")"
   ]
  },
  {
   "cell_type": "code",
   "execution_count": 6,
   "id": "0c78dca0-ec41-4d20-964d-3145364deea0",
   "metadata": {},
   "outputs": [
    {
     "ename": "NameError",
     "evalue": "name 'name' is not defined",
     "output_type": "error",
     "traceback": [
      "\u001b[0;31m---------------------------------------------------------------------------\u001b[0m",
      "\u001b[0;31mNameError\u001b[0m                                 Traceback (most recent call last)",
      "Cell \u001b[0;32mIn[6], line 1\u001b[0m\n\u001b[0;32m----> 1\u001b[0m d[\u001b[43mname\u001b[49m]\n",
      "\u001b[0;31mNameError\u001b[0m: name 'name' is not defined"
     ]
    }
   ],
   "source": [
    "d[name]"
   ]
  },
  {
   "cell_type": "code",
   "execution_count": 7,
   "id": "c6a61389-6e42-4e5d-9904-bbe59230f601",
   "metadata": {},
   "outputs": [
    {
     "data": {
      "text/plain": [
       "'Deepak'"
      ]
     },
     "execution_count": 7,
     "metadata": {},
     "output_type": "execute_result"
    }
   ],
   "source": [
    "d[\"name\"]"
   ]
  },
  {
   "cell_type": "code",
   "execution_count": 26,
   "id": "dbf16290-3634-4cd9-b1bb-c10abc275d39",
   "metadata": {},
   "outputs": [
    {
     "data": {
      "text/plain": [
       "{'House': [1, 2, 3, 4, 5, 6], 'Email': 'dd@gmail.com'}"
      ]
     },
     "execution_count": 26,
     "metadata": {},
     "output_type": "execute_result"
    }
   ],
   "source": [
    "D"
   ]
  },
  {
   "cell_type": "code",
   "execution_count": 9,
   "id": "d60c17fd-0204-4fb0-b7dc-74d4c41fbccf",
   "metadata": {},
   "outputs": [
    {
     "data": {
      "text/plain": [
       "'Deepak'"
      ]
     },
     "execution_count": 9,
     "metadata": {},
     "output_type": "execute_result"
    }
   ],
   "source": [
    "d[\"name\"]"
   ]
  },
  {
   "cell_type": "code",
   "execution_count": 17,
   "id": "bcb11532-5824-499e-b90d-fac32c127577",
   "metadata": {},
   "outputs": [],
   "source": [
    "D = {\"House\":[1,2,3,4,5,6],\"Email\":\"dd@gmail.com\"}"
   ]
  },
  {
   "cell_type": "code",
   "execution_count": 19,
   "id": "45e9113a-aa99-4c31-8e91-7d1a8e5666fb",
   "metadata": {},
   "outputs": [
    {
     "data": {
      "text/plain": [
       "{'House': [1, 2, 3, 4, 5, 6], 'Email': 'dd@gmail.com'}"
      ]
     },
     "execution_count": 19,
     "metadata": {},
     "output_type": "execute_result"
    }
   ],
   "source": [
    "D"
   ]
  },
  {
   "cell_type": "code",
   "execution_count": 22,
   "id": "15dd66f1-f5cf-4dcb-ac8f-d6eb80248da2",
   "metadata": {},
   "outputs": [
    {
     "data": {
      "text/plain": [
       "[1, 2, 3, 4, 5, 6]"
      ]
     },
     "execution_count": 22,
     "metadata": {},
     "output_type": "execute_result"
    }
   ],
   "source": [
    "D[\"House\"]"
   ]
  },
  {
   "cell_type": "code",
   "execution_count": 23,
   "id": "90563d73-28eb-45c3-8d1d-0edcb2b3243c",
   "metadata": {},
   "outputs": [
    {
     "data": {
      "text/plain": [
       "dict['House']"
      ]
     },
     "execution_count": 23,
     "metadata": {},
     "output_type": "execute_result"
    }
   ],
   "source": [
    "type(D)[\"House\"]"
   ]
  },
  {
   "cell_type": "code",
   "execution_count": 24,
   "id": "18299858-e470-49d6-89bc-c7a47e3091b1",
   "metadata": {},
   "outputs": [
    {
     "data": {
      "text/plain": [
       "{'House': [1, 2, 3, 4, 5, 6], 'Email': 'dd@gmail.com'}"
      ]
     },
     "execution_count": 24,
     "metadata": {},
     "output_type": "execute_result"
    }
   ],
   "source": [
    "D"
   ]
  },
  {
   "cell_type": "code",
   "execution_count": 27,
   "id": "91557a8f-9488-4ebe-9797-5ccfe5ac2b6e",
   "metadata": {},
   "outputs": [
    {
     "data": {
      "text/plain": [
       "{'House': [1, 2, 3, 4, 5, 6], 'Email': 'dd@gmail.com'}"
      ]
     },
     "execution_count": 27,
     "metadata": {},
     "output_type": "execute_result"
    }
   ],
   "source": [
    "d"
   ]
  },
  {
   "cell_type": "code",
   "execution_count": 31,
   "id": "432f0eb9-8b46-4c7f-bdab-0a1dc11f2a66",
   "metadata": {},
   "outputs": [],
   "source": [
    "d = {\"name\":[\"Deepak\",\"Deepu\"],\"Address\":\"Indore\",\"Contact\":123456789}"
   ]
  },
  {
   "cell_type": "code",
   "execution_count": 32,
   "id": "eccd0c26-f8f6-4464-b268-68ce58640942",
   "metadata": {},
   "outputs": [
    {
     "data": {
      "text/plain": [
       "{'name': ['Deepak', 'Deepu'], 'Address': 'Indore', 'Contact': 123456789}"
      ]
     },
     "execution_count": 32,
     "metadata": {},
     "output_type": "execute_result"
    }
   ],
   "source": [
    "d"
   ]
  },
  {
   "cell_type": "code",
   "execution_count": 3,
   "id": "5320ed2b-8309-40a8-96af-f8ea0e3daa1c",
   "metadata": {},
   "outputs": [
    {
     "ename": "NameError",
     "evalue": "name 'd' is not defined",
     "output_type": "error",
     "traceback": [
      "\u001b[0;31m---------------------------------------------------------------------------\u001b[0m",
      "\u001b[0;31mNameError\u001b[0m                                 Traceback (most recent call last)",
      "Cell \u001b[0;32mIn[3], line 1\u001b[0m\n\u001b[0;32m----> 1\u001b[0m \u001b[43md\u001b[49m[\u001b[38;5;124m\"\u001b[39m\u001b[38;5;124mname\u001b[39m\u001b[38;5;124m\"\u001b[39m]\n",
      "\u001b[0;31mNameError\u001b[0m: name 'd' is not defined"
     ]
    }
   ],
   "source": [
    "d[\"name\"]"
   ]
  },
  {
   "cell_type": "code",
   "execution_count": 34,
   "id": "8bea804a-8246-4ad6-980c-508a8c66a97c",
   "metadata": {},
   "outputs": [
    {
     "data": {
      "text/plain": [
       "3"
      ]
     },
     "execution_count": 34,
     "metadata": {},
     "output_type": "execute_result"
    }
   ],
   "source": [
    "len(d)"
   ]
  },
  {
   "cell_type": "code",
   "execution_count": 35,
   "id": "d21c977c-7de1-429d-ac98-ec845f83adc6",
   "metadata": {},
   "outputs": [
    {
     "data": {
      "text/plain": [
       "dict_keys(['name', 'Address', 'Contact'])"
      ]
     },
     "execution_count": 35,
     "metadata": {},
     "output_type": "execute_result"
    }
   ],
   "source": [
    "d.keys()"
   ]
  },
  {
   "cell_type": "code",
   "execution_count": 36,
   "id": "2b410f1f-2443-4e1d-88e6-4a1629e92419",
   "metadata": {},
   "outputs": [
    {
     "data": {
      "text/plain": [
       "dict_values([['Deepak', 'Deepu'], 'Indore', 123456789])"
      ]
     },
     "execution_count": 36,
     "metadata": {},
     "output_type": "execute_result"
    }
   ],
   "source": [
    "d.values()"
   ]
  },
  {
   "cell_type": "code",
   "execution_count": 1,
   "id": "e9e75426-76d2-4705-a181-b3834b11d996",
   "metadata": {},
   "outputs": [],
   "source": [
    "d1 = {\"blood group\":\"b positive\"}"
   ]
  },
  {
   "cell_type": "code",
   "execution_count": 2,
   "id": "6eb8defc-941b-4f27-9918-ce3415f885ad",
   "metadata": {},
   "outputs": [
    {
     "data": {
      "text/plain": [
       "{'blood group': 'b positive'}"
      ]
     },
     "execution_count": 2,
     "metadata": {},
     "output_type": "execute_result"
    }
   ],
   "source": [
    "d1"
   ]
  },
  {
   "cell_type": "code",
   "execution_count": 5,
   "id": "4f387fa6-2a35-4d79-b246-557c892adc54",
   "metadata": {},
   "outputs": [],
   "source": [
    "d = {\"name\":[\"Deepak\",\"Deepu\"],\"Address\":\"Indore\",\"Contact\":123456789}"
   ]
  },
  {
   "cell_type": "code",
   "execution_count": 6,
   "id": "5c3e7636-21fe-49fd-b731-0be466d7ae49",
   "metadata": {},
   "outputs": [
    {
     "data": {
      "text/plain": [
       "{'name': ['Deepak', 'Deepu'], 'Address': 'Indore', 'Contact': 123456789}"
      ]
     },
     "execution_count": 6,
     "metadata": {},
     "output_type": "execute_result"
    }
   ],
   "source": [
    "d"
   ]
  },
  {
   "cell_type": "code",
   "execution_count": 7,
   "id": "b6fedc0e-adaf-437a-847b-61039a4f38d8",
   "metadata": {},
   "outputs": [],
   "source": [
    "d.update(d1)"
   ]
  },
  {
   "cell_type": "code",
   "execution_count": 8,
   "id": "45868e9e-d7d7-4487-bdba-f5401e4573ad",
   "metadata": {},
   "outputs": [
    {
     "data": {
      "text/plain": [
       "{'name': ['Deepak', 'Deepu'],\n",
       " 'Address': 'Indore',\n",
       " 'Contact': 123456789,\n",
       " 'blood group': 'b positive'}"
      ]
     },
     "execution_count": 8,
     "metadata": {},
     "output_type": "execute_result"
    }
   ],
   "source": [
    "d"
   ]
  },
  {
   "cell_type": "code",
   "execution_count": 4,
   "id": "5ce3700d-42bd-42d6-a1ba-8bef41a1e2f9",
   "metadata": {},
   "outputs": [
    {
     "ename": "NameError",
     "evalue": "name 'd' is not defined",
     "output_type": "error",
     "traceback": [
      "\u001b[0;31m---------------------------------------------------------------------------\u001b[0m",
      "\u001b[0;31mNameError\u001b[0m                                 Traceback (most recent call last)",
      "Cell \u001b[0;32mIn[4], line 1\u001b[0m\n\u001b[0;32m----> 1\u001b[0m \u001b[43md\u001b[49m\n",
      "\u001b[0;31mNameError\u001b[0m: name 'd' is not defined"
     ]
    }
   ],
   "source": [
    "d"
   ]
  },
  {
   "cell_type": "code",
   "execution_count": 16,
   "id": "a497eb56-3751-4f61-ae02-a9e9901e8a2d",
   "metadata": {},
   "outputs": [],
   "source": [
    "d = {\"name\":{\"Deepak\",\"Deepu\"},\"Address\":\"Indore\",\"Contact\":123456789}"
   ]
  },
  {
   "cell_type": "code",
   "execution_count": 17,
   "id": "d916e854-31e1-440f-8836-ec6d4e86ef4d",
   "metadata": {},
   "outputs": [
    {
     "data": {
      "text/plain": [
       "{'name': {'Deepak', 'Deepu'}, 'Address': 'Indore', 'Contact': 123456789}"
      ]
     },
     "execution_count": 17,
     "metadata": {},
     "output_type": "execute_result"
    }
   ],
   "source": [
    "d"
   ]
  },
  {
   "cell_type": "code",
   "execution_count": 8,
   "id": "5da5830c-ce98-48e8-825e-01015a5c5c05",
   "metadata": {},
   "outputs": [
    {
     "data": {
      "text/plain": [
       "['Deepak', 'Deepu']"
      ]
     },
     "execution_count": 8,
     "metadata": {},
     "output_type": "execute_result"
    }
   ],
   "source": [
    "d[\"name\"]"
   ]
  },
  {
   "cell_type": "code",
   "execution_count": 19,
   "id": "e9114285-18c4-44f2-9588-f91caee0af96",
   "metadata": {},
   "outputs": [
    {
     "ename": "TypeError",
     "evalue": "'set' object is not callable",
     "output_type": "error",
     "traceback": [
      "\u001b[0;31m---------------------------------------------------------------------------\u001b[0m",
      "\u001b[0;31mTypeError\u001b[0m                                 Traceback (most recent call last)",
      "Cell \u001b[0;32mIn[19], line 1\u001b[0m\n\u001b[0;32m----> 1\u001b[0m \u001b[43md\u001b[49m\u001b[43m[\u001b[49m\u001b[38;5;124;43m\"\u001b[39;49m\u001b[38;5;124;43mname\u001b[39;49m\u001b[38;5;124;43m\"\u001b[39;49m\u001b[43m]\u001b[49m\u001b[43m(\u001b[49m\u001b[38;5;241;43m0\u001b[39;49m\u001b[43m)\u001b[49m\n",
      "\u001b[0;31mTypeError\u001b[0m: 'set' object is not callable"
     ]
    }
   ],
   "source": [
    "d[\"name\"](0)"
   ]
  },
  {
   "cell_type": "code",
   "execution_count": 21,
   "id": "121f6fd8-a6ca-4199-9786-7d53fab2a785",
   "metadata": {},
   "outputs": [
    {
     "data": {
      "text/plain": [
       "((1, 2, 3), ('a', 'b', 'c'))"
      ]
     },
     "execution_count": 21,
     "metadata": {},
     "output_type": "execute_result"
    }
   ],
   "source": [
    "r=((1,2,3),(\"a\",\"b\",\"c\"))\n",
    "r"
   ]
  },
  {
   "cell_type": "code",
   "execution_count": 24,
   "id": "394315fa-60a5-4ca2-a5b2-c49bc2371253",
   "metadata": {},
   "outputs": [
    {
     "ename": "NameError",
     "evalue": "name 'g' is not defined",
     "output_type": "error",
     "traceback": [
      "\u001b[0;31m---------------------------------------------------------------------------\u001b[0m",
      "\u001b[0;31mNameError\u001b[0m                                 Traceback (most recent call last)",
      "Cell \u001b[0;32mIn[24], line 1\u001b[0m\n\u001b[0;32m----> 1\u001b[0m \u001b[43mg\u001b[49m\u001b[38;5;241m.\u001b[39mfromkeys((\u001b[38;5;241m1\u001b[39m,\u001b[38;5;241m2\u001b[39m,\u001b[38;5;241m3\u001b[39m),(\u001b[38;5;124m\"\u001b[39m\u001b[38;5;124ma\u001b[39m\u001b[38;5;124m\"\u001b[39m,\u001b[38;5;124m\"\u001b[39m\u001b[38;5;124mb\u001b[39m\u001b[38;5;124m\"\u001b[39m,\u001b[38;5;124m\"\u001b[39m\u001b[38;5;124mc\u001b[39m\u001b[38;5;124m\"\u001b[39m))\n",
      "\u001b[0;31mNameError\u001b[0m: name 'g' is not defined"
     ]
    }
   ],
   "source": [
    "g.fromkeys((1,2,3),(\"a\",\"b\",\"c\"))"
   ]
  },
  {
   "cell_type": "code",
   "execution_count": 25,
   "id": "21bf6ac5-a08e-478b-a9d6-9c30720da744",
   "metadata": {},
   "outputs": [
    {
     "name": "stdout",
     "output_type": "stream",
     "text": [
      "('Arun', 70)\n",
      "('Varun', 80)\n",
      "('Tarun', 90)\n"
     ]
    }
   ],
   "source": [
    "#Zip Function\n",
    "\n",
    "student = [\"Arun\",\"Varun\",\"Tarun\"]\n",
    "marks = [70,80,90]\n",
    "\n",
    "for i in zip(student,marks):\n",
    "    print(i)"
   ]
  },
  {
   "cell_type": "code",
   "execution_count": 29,
   "id": "19713542-86f5-4d33-862d-39a0843b4470",
   "metadata": {},
   "outputs": [
    {
     "data": {
      "text/plain": [
       "{'Arun': 70, 'Varun': 80, 'Tarun': 90}"
      ]
     },
     "execution_count": 29,
     "metadata": {},
     "output_type": "execute_result"
    }
   ],
   "source": [
    "{student:marks for student,marks in zip(student,marks)}"
   ]
  },
  {
   "cell_type": "code",
   "execution_count": null,
   "id": "cb3200d5-add8-4e66-b0f0-4a12b850e566",
   "metadata": {},
   "outputs": [],
   "source": []
  }
 ],
 "metadata": {
  "kernelspec": {
   "display_name": "Python 3 (ipykernel)",
   "language": "python",
   "name": "python3"
  },
  "language_info": {
   "codemirror_mode": {
    "name": "ipython",
    "version": 3
   },
   "file_extension": ".py",
   "mimetype": "text/x-python",
   "name": "python",
   "nbconvert_exporter": "python",
   "pygments_lexer": "ipython3",
   "version": "3.10.8"
  }
 },
 "nbformat": 4,
 "nbformat_minor": 5
}
