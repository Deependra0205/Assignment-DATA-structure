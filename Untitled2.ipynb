{
 "cells": [
  {
   "cell_type": "code",
   "execution_count": 1,
   "id": "c773e3da-cacf-454e-be68-f0fdebf36a9a",
   "metadata": {},
   "outputs": [
    {
     "name": "stdout",
     "output_type": "stream",
     "text": [
      "Hello\n"
     ]
    }
   ],
   "source": [
    "print(\"Hello\")"
   ]
  },
  {
   "cell_type": "code",
   "execution_count": 2,
   "id": "02d90e2e-9499-46e4-b8af-3726c6d667f3",
   "metadata": {},
   "outputs": [],
   "source": [
    "#Lets do some hard practice on if else, elif, nested if else\n"
   ]
  },
  {
   "cell_type": "code",
   "execution_count": 1,
   "id": "e4fcbf81-2212-4cb5-af87-f62382b7e1ce",
   "metadata": {},
   "outputs": [
    {
     "name": "stdout",
     "output_type": "stream",
     "text": [
      "You are eligible for liscence\n"
     ]
    }
   ],
   "source": [
    "age = 25\n",
    "if (18<=age<=44):\n",
    "    print(\"You are eligible for liscence\")\n",
    "elif (age>=45):\n",
    "    print(\"You will have to pass physical test\")\n",
    "else:\n",
    "    print(\"You are not eligible for liscence\")\n",
    "    "
   ]
  },
  {
   "cell_type": "code",
   "execution_count": 24,
   "id": "678ea31e-f1ea-466a-a67a-6dde2d154a5b",
   "metadata": {},
   "outputs": [
    {
     "name": "stdout",
     "output_type": "stream",
     "text": [
      "Grade D\n"
     ]
    }
   ],
   "source": [
    "Marks = \n",
    "if (Marks>=90):\n",
    "    print(\"Grade A\")\n",
    "elif (80<=Marks<90):\n",
    "    print(\"Grade B\")\n",
    "elif (70<=Marks<80):\n",
    "    print(\"Grade C\")\n",
    "    \n",
    "else:\n",
    "    print(\"Grade D\")"
   ]
  },
  {
   "cell_type": "code",
   "execution_count": 33,
   "id": "49c64cca-e249-4602-a97b-174a646fc4bc",
   "metadata": {},
   "outputs": [
    {
     "name": "stdout",
     "output_type": "stream",
     "text": [
      " Both a and b are greater than 10\n"
     ]
    }
   ],
   "source": [
    "# Nested IF ELSE\n",
    "\n",
    "a = 12\n",
    "b = 11\n",
    "if a > 10 :\n",
    "    if b > 10:\n",
    "        print (\" Both a and b are greater than 10\")\n",
    "    else:\n",
    "        print(\" Only a is greater than 10\")\n",
    "else: \n",
    "    print(\"Check the numnber\")\n"
   ]
  },
  {
   "cell_type": "code",
   "execution_count": 53,
   "id": "a7bab4ca-5c2c-40a9-8265-c8c9f7280378",
   "metadata": {},
   "outputs": [
    {
     "name": "stdin",
     "output_type": "stream",
     "text": [
      "Please enter your name Mohan Lal\n"
     ]
    },
    {
     "name": "stdout",
     "output_type": "stream",
     "text": [
      "You are senior citizen and you also get some extra benefits\n"
     ]
    }
   ],
   "source": [
    "is_vip = True\n",
    "age = 80\n",
    "input (\"Please enter your name\")\n",
    "if is_vip:\n",
    "    if age >= 18:\n",
    "        if age < 65:\n",
    "            print(\"You are eligible for VIP entry\")\n",
    "        else:\n",
    "            print(\"You are senior citizen and you also get some extra benefits\")\n",
    "    else:\n",
    "        print(\"VIP entries is for above 18 years only\")\n",
    "else:\n",
    "    print(\"You are not eligible for VIP entry\")    \n",
    "            "
   ]
  },
  {
   "cell_type": "code",
   "execution_count": 54,
   "id": "6394df85-589d-49c5-a7da-af65c3171dcb",
   "metadata": {},
   "outputs": [
    {
     "name": "stdout",
     "output_type": "stream",
     "text": [
      "Your grade is B+\n"
     ]
    }
   ],
   "source": [
    "score = 85\n",
    "\n",
    "if score >= 90:\n",
    "    grade = 'A'\n",
    "elif score >= 80:\n",
    "    if score >= 85:\n",
    "        grade = 'B+'\n",
    "    else:\n",
    "        grade = 'B'\n",
    "elif score >= 70:\n",
    "    grade = 'C'\n",
    "else:\n",
    "    grade = 'F'\n",
    "\n",
    "print(f\"Your grade is {grade}\")\n"
   ]
  },
  {
   "cell_type": "code",
   "execution_count": 62,
   "id": "f8cb7824-00a2-4507-af6d-2bcb7355acdd",
   "metadata": {},
   "outputs": [
    {
     "name": "stdout",
     "output_type": "stream",
     "text": [
      "2\n",
      "3\n",
      "4\n",
      "5\n",
      "6\n",
      "7\n"
     ]
    }
   ],
   "source": [
    "n = 7\n",
    "i = 2\n",
    "while i <= n :\n",
    "    print(i)\n",
    "    i = i + 1"
   ]
  },
  {
   "cell_type": "code",
   "execution_count": null,
   "id": "a5638f33-a0cd-46c2-a382-66c4fd47b9c3",
   "metadata": {},
   "outputs": [],
   "source": [
    "count = 5 \n",
    "while count > 0 :\n",
    "    print (count)\n",
    "    count = count - 1"
   ]
  },
  {
   "cell_type": "code",
   "execution_count": 2,
   "id": "a094eea4-1762-4771-ae54-c3be1f612795",
   "metadata": {},
   "outputs": [
    {
     "data": {
      "text/plain": [
       "range(0, 10)"
      ]
     },
     "execution_count": 2,
     "metadata": {},
     "output_type": "execute_result"
    }
   ],
   "source": [
    "range(0,10)\n"
   ]
  },
  {
   "cell_type": "code",
   "execution_count": 5,
   "id": "49262d45-aba2-43ec-9b39-44473d9aa120",
   "metadata": {},
   "outputs": [
    {
     "data": {
      "text/plain": [
       "[0, 1, 2, 3, 4, 5, 6, 7, 8, 9]"
      ]
     },
     "execution_count": 5,
     "metadata": {},
     "output_type": "execute_result"
    }
   ],
   "source": [
    "list(range(0,10))"
   ]
  },
  {
   "cell_type": "code",
   "execution_count": 6,
   "id": "f2469b3d-2264-4a7e-bd43-e8eceb84abd5",
   "metadata": {},
   "outputs": [
    {
     "name": "stdout",
     "output_type": "stream",
     "text": [
      "3\n",
      "This is incorrect\n"
     ]
    }
   ],
   "source": [
    "for i in range(0,10):\n",
    "    if i == 3:\n",
    "        print(i)\n",
    "        i = i + 1\n",
    "else:\n",
    "    print(\"This is incorrect\")\n",
    "    "
   ]
  },
  {
   "cell_type": "code",
   "execution_count": 10,
   "id": "a886f99d-28ad-4696-a0a2-20cdb15765b3",
   "metadata": {},
   "outputs": [
    {
     "name": "stdout",
     "output_type": "stream",
     "text": [
      "Grade D\n"
     ]
    }
   ],
   "source": [
    "score = 25\n",
    "if score >= 90:\n",
    "    print(\"Grade A\")\n",
    "elif 80<=score<=90:\n",
    "    print(\"Grade B\")\n",
    "elif 70<=score<=80:\n",
    "    print(\"Grade C\")\n",
    "else:\n",
    "    print(\"Grade D\")"
   ]
  },
  {
   "cell_type": "code",
   "execution_count": 1,
   "id": "56048004-206d-4a7a-91d8-7bb6a959b6ec",
   "metadata": {},
   "outputs": [
    {
     "data": {
      "text/plain": [
       "0"
      ]
     },
     "execution_count": 1,
     "metadata": {},
     "output_type": "execute_result"
    }
   ],
   "source": [
    "2//3\n"
   ]
  },
  {
   "cell_type": "code",
   "execution_count": 3,
   "id": "34e718cb-0019-4013-b1e0-321a4405ba29",
   "metadata": {},
   "outputs": [
    {
     "data": {
      "text/plain": [
       "3"
      ]
     },
     "execution_count": 3,
     "metadata": {},
     "output_type": "execute_result"
    }
   ],
   "source": [
    "10//3"
   ]
  },
  {
   "cell_type": "code",
   "execution_count": 4,
   "id": "0af758f9-2c10-4943-9738-18d612b8a405",
   "metadata": {},
   "outputs": [
    {
     "data": {
      "text/plain": [
       "1"
      ]
     },
     "execution_count": 4,
     "metadata": {},
     "output_type": "execute_result"
    }
   ],
   "source": [
    "6^7"
   ]
  },
  {
   "cell_type": "code",
   "execution_count": 5,
   "id": "5817548d-6542-4a50-88c5-ac5d82d4ab6d",
   "metadata": {},
   "outputs": [
    {
     "data": {
      "text/plain": [
       "4"
      ]
     },
     "execution_count": 5,
     "metadata": {},
     "output_type": "execute_result"
    }
   ],
   "source": [
    "2^6"
   ]
  },
  {
   "cell_type": "code",
   "execution_count": 34,
   "id": "d36d964a-19f6-445c-a9d6-73fa026f6c04",
   "metadata": {},
   "outputs": [
    {
     "name": "stdout",
     "output_type": "stream",
     "text": [
      "* \n",
      "* * \n",
      "* * * \n",
      "* * * * \n"
     ]
    }
   ],
   "source": [
    "row = 1\n",
    "while row <= 4:\n",
    "    col = 1\n",
    "    while col <= row:\n",
    "        print (\"*\", end = \" \")\n",
    "        col = col + 1\n",
    "    print()\n",
    "    row = row + 1\n",
    "        "
   ]
  },
  {
   "cell_type": "code",
   "execution_count": 36,
   "id": "9eed6958-fd92-4bfe-af8e-d7a659f0f1e3",
   "metadata": {},
   "outputs": [
    {
     "name": "stdout",
     "output_type": "stream",
     "text": [
      "*  *  *  *  \n",
      "*  *  *  *  \n",
      "*  *  *  *  \n",
      "*  *  *  *  \n"
     ]
    }
   ],
   "source": [
    "row = 1\n",
    "while row <= 4:\n",
    "    col = 1\n",
    "    while col <= 4:\n",
    "        print (\"*\", end = \"  \")\n",
    "        col = col + 1\n",
    "    print()\n",
    "    row = row + 1"
   ]
  },
  {
   "cell_type": "code",
   "execution_count": 42,
   "id": "9d9aaec9-31e1-438f-b593-6f8919bc75cb",
   "metadata": {},
   "outputs": [
    {
     "name": "stdout",
     "output_type": "stream",
     "text": [
      "Mr. Rajesh\n",
      "Mr. Rani\n",
      "Mr. Yash\n",
      "Mr. Jyoti\n",
      "Mrs. Rajesh\n",
      "Mrs. Rani\n",
      "Mrs. Yash\n",
      "Mrs. Jyoti\n",
      "Kumar Rajesh\n",
      "Kumar Rani\n",
      "Kumar Yash\n",
      "Kumar Jyoti\n",
      "Kumari Rajesh\n",
      "Kumari Rani\n",
      "Kumari Yash\n",
      "Kumari Jyoti\n"
     ]
    }
   ],
   "source": [
    "adjective = [\"Mr.\",\"Mrs.\",\"Kumar\",\"Kumari\"]\n",
    "Name = [\"Rajesh\",\"Rani\",\"Yash\",\"Jyoti\"]\n",
    "for i in adjective:\n",
    "    for j in Name:\n",
    "        print(i,j)"
   ]
  },
  {
   "cell_type": "code",
   "execution_count": 64,
   "id": "593ab51d-1c11-4b32-8332-07ab717cf2f6",
   "metadata": {},
   "outputs": [
    {
     "name": "stdout",
     "output_type": "stream",
     "text": [
      "Rajesh\n",
      "Rani\n",
      "Yash\n",
      "Yash\n"
     ]
    }
   ],
   "source": [
    "Name = [\"Rajesh\",\"Rani\",\"Yash\",\"Jyoti\"]\n",
    "for i in Name:\n",
    "    print(i)\n",
    "    if i == \"Yash\":\n",
    "        print(i)\n",
    "        break\n",
    "else:\n",
    "    print (\"Code is executed\")\n"
   ]
  },
  {
   "cell_type": "code",
   "execution_count": 65,
   "id": "51371c64-01d7-4171-b045-66618c646ee0",
   "metadata": {},
   "outputs": [
    {
     "name": "stdout",
     "output_type": "stream",
     "text": [
      "1\n",
      "2\n",
      "3\n",
      "4\n",
      "5\n",
      "6\n",
      "7\n",
      "8\n",
      "9\n"
     ]
    }
   ],
   "source": [
    "a = [1,2,3,4,5,6,7,8,9]\n",
    "for i in a :\n",
    "    print(i)"
   ]
  },
  {
   "cell_type": "code",
   "execution_count": 77,
   "id": "f888e28a-1501-4039-bb77-16f18a0e6ace",
   "metadata": {},
   "outputs": [
    {
     "name": "stdout",
     "output_type": "stream",
     "text": [
      "1\n",
      "2\n",
      "3\n",
      "4\n"
     ]
    }
   ],
   "source": [
    "for i in a : \n",
    "    if i == 5:\n",
    "        break\n",
    "    print(i)\n",
    "else:\n",
    "    (\"This code is executed\")"
   ]
  },
  {
   "cell_type": "code",
   "execution_count": 82,
   "id": "4ae62a06-d1c3-4d48-a8fb-0e300ee1e150",
   "metadata": {},
   "outputs": [
    {
     "name": "stdout",
     "output_type": "stream",
     "text": [
      "The sum of 5 and 10 is 15\n"
     ]
    }
   ],
   "source": [
    "a = 5\n",
    "b = 10\n",
    "print(f\"The sum of {a} and {b} is {a+b}\")"
   ]
  },
  {
   "cell_type": "code",
   "execution_count": 11,
   "id": "f56f1a7c-befe-408e-ace7-4ee8c2c88c15",
   "metadata": {},
   "outputs": [
    {
     "data": {
      "text/plain": [
       "'Deependra'"
      ]
     },
     "execution_count": 11,
     "metadata": {},
     "output_type": "execute_result"
    }
   ],
   "source": [
    "b = \"Deependra\"\n",
    "b"
   ]
  },
  {
   "cell_type": "code",
   "execution_count": 13,
   "id": "509026b1-b944-481c-a8e9-2bc1645ee776",
   "metadata": {},
   "outputs": [
    {
     "ename": "ValueError",
     "evalue": "invalid literal for int() with base 10: 'Deependra'",
     "output_type": "error",
     "traceback": [
      "\u001b[0;31m---------------------------------------------------------------------------\u001b[0m",
      "\u001b[0;31mValueError\u001b[0m                                Traceback (most recent call last)",
      "Cell \u001b[0;32mIn[13], line 1\u001b[0m\n\u001b[0;32m----> 1\u001b[0m \u001b[38;5;28;43mint\u001b[39;49m\u001b[43m(\u001b[49m\u001b[43mb\u001b[49m\u001b[43m)\u001b[49m\n",
      "\u001b[0;31mValueError\u001b[0m: invalid literal for int() with base 10: 'Deependra'"
     ]
    }
   ],
   "source": []
  },
  {
   "cell_type": "code",
   "execution_count": 12,
   "id": "243a9364-6cf4-4f43-9e78-a636eba33c90",
   "metadata": {},
   "outputs": [
    {
     "data": {
      "text/plain": [
       "str"
      ]
     },
     "execution_count": 12,
     "metadata": {},
     "output_type": "execute_result"
    }
   ],
   "source": [
    "type(b)"
   ]
  },
  {
   "cell_type": "code",
   "execution_count": 6,
   "id": "ec3c4c34-d2fd-4aec-a6ee-c9f41fb77eb0",
   "metadata": {},
   "outputs": [
    {
     "data": {
      "text/plain": [
       "56"
      ]
     },
     "execution_count": 6,
     "metadata": {},
     "output_type": "execute_result"
    }
   ],
   "source": [
    "a = 56\n",
    "a"
   ]
  },
  {
   "cell_type": "code",
   "execution_count": 7,
   "id": "d871e705-e1bd-4002-ba92-d61a321d11ef",
   "metadata": {},
   "outputs": [
    {
     "data": {
      "text/plain": [
       "int"
      ]
     },
     "execution_count": 7,
     "metadata": {},
     "output_type": "execute_result"
    }
   ],
   "source": [
    "type(a)"
   ]
  },
  {
   "cell_type": "code",
   "execution_count": 8,
   "id": "b8b4de35-dc10-49b7-b1f0-90f00d3a91ca",
   "metadata": {},
   "outputs": [
    {
     "data": {
      "text/plain": [
       "'56'"
      ]
     },
     "execution_count": 8,
     "metadata": {},
     "output_type": "execute_result"
    }
   ],
   "source": [
    "str(a)"
   ]
  },
  {
   "cell_type": "code",
   "execution_count": 19,
   "id": "5b18381a-4667-4ce5-96d6-d791094c0ff0",
   "metadata": {},
   "outputs": [
    {
     "data": {
      "text/plain": [
       "['abcd', 'efgh', 'ijkl', 'mnop', 565, 864]"
      ]
     },
     "execution_count": 19,
     "metadata": {},
     "output_type": "execute_result"
    }
   ],
   "source": [
    "list_cont=[\"abcd\",\"efgh\",\"ijkl\",\"mnop\",565,864]\n",
    "list_cont"
   ]
  },
  {
   "cell_type": "code",
   "execution_count": 23,
   "id": "93706f57-73b0-4547-a618-762352c75f88",
   "metadata": {},
   "outputs": [
    {
     "data": {
      "text/plain": [
       "['abcd', 'efgh', 'ijkl', 'stuv', 565, 864]"
      ]
     },
     "execution_count": 23,
     "metadata": {},
     "output_type": "execute_result"
    }
   ],
   "source": [
    "list_cont[3] = \"stuv\"\n",
    "list_cont"
   ]
  },
  {
   "cell_type": "code",
   "execution_count": 1,
   "id": "ca56b569-5f18-48a6-9eea-63cea4d183fb",
   "metadata": {},
   "outputs": [
    {
     "data": {
      "text/plain": [
       "5"
      ]
     },
     "execution_count": 1,
     "metadata": {},
     "output_type": "execute_result"
    }
   ],
   "source": [
    "a = 5\n",
    "a"
   ]
  },
  {
   "cell_type": "code",
   "execution_count": 2,
   "id": "3e58041e-8fac-44e2-a5f9-5e25be25a4db",
   "metadata": {},
   "outputs": [
    {
     "data": {
      "text/plain": [
       "int"
      ]
     },
     "execution_count": 2,
     "metadata": {},
     "output_type": "execute_result"
    }
   ],
   "source": [
    "type(a)"
   ]
  },
  {
   "cell_type": "code",
   "execution_count": 18,
   "id": "3bdae098-313f-41fe-b5de-d345d4078aff",
   "metadata": {},
   "outputs": [
    {
     "data": {
      "text/plain": [
       "['Delhi', 'Indore', 'Mumbai', 45, 86, (4+5j), 5.9, 'Indore']"
      ]
     },
     "execution_count": 18,
     "metadata": {},
     "output_type": "execute_result"
    }
   ],
   "source": [
    "list = [\"Delhi\",\"Indore\",\"Mumbai\", 45 , 86 , 4+5j , 5.9, \"Indore\"]\n",
    "list"
   ]
  },
  {
   "cell_type": "code",
   "execution_count": 4,
   "id": "23dc859d-808b-4e2c-b633-9258399fa9de",
   "metadata": {},
   "outputs": [],
   "source": [
    "list [1] = \"Dewas\""
   ]
  },
  {
   "cell_type": "code",
   "execution_count": 5,
   "id": "a5ef7872-c0fc-4c53-9a94-e214dd757c7f",
   "metadata": {},
   "outputs": [
    {
     "data": {
      "text/plain": [
       "['Delhi', 'Dewas', 'Mumbai', 45, 86, (4+5j), 5.9]"
      ]
     },
     "execution_count": 5,
     "metadata": {},
     "output_type": "execute_result"
    }
   ],
   "source": [
    "list"
   ]
  },
  {
   "cell_type": "code",
   "execution_count": 9,
   "id": "1bf278f7-d094-4ca7-9da6-c80e3ac73434",
   "metadata": {},
   "outputs": [],
   "source": [
    "list.append (\"Indore\")"
   ]
  },
  {
   "cell_type": "code",
   "execution_count": 10,
   "id": "70782c04-84e5-4afb-acfa-3aed23cc4f56",
   "metadata": {},
   "outputs": [
    {
     "data": {
      "text/plain": [
       "['Delhi', 'Dewas', 'Mumbai', 45, 86, (4+5j), 5.9, 'Indore']"
      ]
     },
     "execution_count": 10,
     "metadata": {},
     "output_type": "execute_result"
    }
   ],
   "source": [
    "list"
   ]
  },
  {
   "cell_type": "code",
   "execution_count": 12,
   "id": "5a1a172c-cbd1-431d-a7a2-b9acbbf75b78",
   "metadata": {},
   "outputs": [],
   "source": [
    "list.remove (\"Dewas\")"
   ]
  },
  {
   "cell_type": "code",
   "execution_count": 13,
   "id": "fefbf3f7-a736-444d-b487-d27f929e0f11",
   "metadata": {},
   "outputs": [
    {
     "data": {
      "text/plain": [
       "['Delhi', 'Mumbai', 45, 86, (4+5j), 5.9, 'Indore']"
      ]
     },
     "execution_count": 13,
     "metadata": {},
     "output_type": "execute_result"
    }
   ],
   "source": [
    "list"
   ]
  },
  {
   "cell_type": "code",
   "execution_count": 14,
   "id": "dd910ff8-942d-44aa-b56b-1add3dea403d",
   "metadata": {},
   "outputs": [
    {
     "ename": "NameError",
     "evalue": "name 'a' is not defined",
     "output_type": "error",
     "traceback": [
      "\u001b[0;31m---------------------------------------------------------------------------\u001b[0m",
      "\u001b[0;31mNameError\u001b[0m                                 Traceback (most recent call last)",
      "Cell \u001b[0;32mIn[14], line 1\u001b[0m\n\u001b[0;32m----> 1\u001b[0m x \u001b[38;5;241m=\u001b[39m (\u001b[43ma\u001b[49m,b)\n\u001b[1;32m      2\u001b[0m y \u001b[38;5;241m=\u001b[39m (c,d)\n",
      "\u001b[0;31mNameError\u001b[0m: name 'a' is not defined"
     ]
    }
   ],
   "source": [
    "x = (a,b)\n",
    "y = (c,d)"
   ]
  },
  {
   "cell_type": "code",
   "execution_count": 17,
   "id": "ddd28ec2-71ad-4db3-83d2-3d5d484d0658",
   "metadata": {},
   "outputs": [
    {
     "name": "stdout",
     "output_type": "stream",
     "text": [
      "('Red', 'Yellow', 'white') (1, 2, 3, 4, 5, 6)\n",
      "('Red', 'Yellow', 'white') (1, 2, 3, 4, 5, 6)\n",
      "('Red', 'Yellow', 'white') (1, 2, 3, 4, 5, 6)\n",
      "('Red', 'Yellow', 'white') (1, 2, 3, 4, 5, 6)\n",
      "('Red', 'Yellow', 'white') (1, 2, 3, 4, 5, 6)\n",
      "('Red', 'Yellow', 'white') (1, 2, 3, 4, 5, 6)\n",
      "('Red', 'Yellow', 'white') (1, 2, 3, 4, 5, 6)\n",
      "('Red', 'Yellow', 'white') (1, 2, 3, 4, 5, 6)\n",
      "('Red', 'Yellow', 'white') (1, 2, 3, 4, 5, 6)\n",
      "('Red', 'Yellow', 'white') (1, 2, 3, 4, 5, 6)\n",
      "('Red', 'Yellow', 'white') (1, 2, 3, 4, 5, 6)\n",
      "('Red', 'Yellow', 'white') (1, 2, 3, 4, 5, 6)\n",
      "('Red', 'Yellow', 'white') (1, 2, 3, 4, 5, 6)\n",
      "('Red', 'Yellow', 'white') (1, 2, 3, 4, 5, 6)\n",
      "('Red', 'Yellow', 'white') (1, 2, 3, 4, 5, 6)\n",
      "('Red', 'Yellow', 'white') (1, 2, 3, 4, 5, 6)\n",
      "('Red', 'Yellow', 'white') (1, 2, 3, 4, 5, 6)\n",
      "('Red', 'Yellow', 'white') (1, 2, 3, 4, 5, 6)\n"
     ]
    }
   ],
   "source": [
    "choclate = (\"Red\",\"Yellow\",\"white\")\n",
    "Vegetable = (1,2,3,4,5,6)\n",
    "\n"
   ]
  },
  {
   "cell_type": "code",
   "execution_count": 21,
   "id": "58f033e1-1d56-44b0-bfdd-a4c142084d93",
   "metadata": {},
   "outputs": [
    {
     "data": {
      "text/plain": [
       "(1, 5, 8, 2, 10, 6, 1)"
      ]
     },
     "execution_count": 21,
     "metadata": {},
     "output_type": "execute_result"
    }
   ],
   "source": [
    "a = (1,5,8,2,10,6,1)\n",
    "a"
   ]
  },
  {
   "cell_type": "code",
   "execution_count": 32,
   "id": "2d38bbbc-605c-46a1-83f2-8e465aa02603",
   "metadata": {},
   "outputs": [
    {
     "ename": "TypeError",
     "evalue": "'tuple' object is not callable",
     "output_type": "error",
     "traceback": [
      "\u001b[0;31m---------------------------------------------------------------------------\u001b[0m",
      "\u001b[0;31mTypeError\u001b[0m                                 Traceback (most recent call last)",
      "Cell \u001b[0;32mIn[32], line 1\u001b[0m\n\u001b[0;32m----> 1\u001b[0m \u001b[43ma\u001b[49m\u001b[43m(\u001b[49m\u001b[38;5;241;43m5\u001b[39;49m\u001b[43m)\u001b[49m\n",
      "\u001b[0;31mTypeError\u001b[0m: 'tuple' object is not callable"
     ]
    }
   ],
   "source": []
  },
  {
   "cell_type": "code",
   "execution_count": 23,
   "id": "8b198fe2-9c40-442a-9687-d974e9de9c48",
   "metadata": {},
   "outputs": [
    {
     "data": {
      "text/plain": [
       "{1, 2, 45, 5, 'Hello', 'World'}"
      ]
     },
     "execution_count": 23,
     "metadata": {},
     "output_type": "execute_result"
    }
   ],
   "source": [
    "set = {1,1,1,5,2,5,45,\"Hello\",\"World\"}\n",
    "set"
   ]
  },
  {
   "cell_type": "code",
   "execution_count": 24,
   "id": "ba90c55f-f021-4102-99d9-61b914584488",
   "metadata": {},
   "outputs": [
    {
     "data": {
      "text/plain": [
       "set"
      ]
     },
     "execution_count": 24,
     "metadata": {},
     "output_type": "execute_result"
    }
   ],
   "source": [
    "type(set)"
   ]
  },
  {
   "cell_type": "code",
   "execution_count": 25,
   "id": "dc2bb2fa-f8b6-4ccb-8c69-e62e397aeee5",
   "metadata": {},
   "outputs": [
    {
     "data": {
      "text/plain": [
       "{1, 2, 4, 8, 9}"
      ]
     },
     "execution_count": 25,
     "metadata": {},
     "output_type": "execute_result"
    }
   ],
   "source": [
    "d = {1,1,2,2,4,4,4,4,4,4,8,9,9,}\n",
    "d"
   ]
  },
  {
   "cell_type": "code",
   "execution_count": 26,
   "id": "51e82188-7506-427a-80b0-04a0810653b4",
   "metadata": {},
   "outputs": [
    {
     "data": {
      "text/plain": [
       "set"
      ]
     },
     "execution_count": 26,
     "metadata": {},
     "output_type": "execute_result"
    }
   ],
   "source": [
    "type(d)"
   ]
  },
  {
   "cell_type": "code",
   "execution_count": 33,
   "id": "a20490be-d451-4ac0-8448-e7bb0bf35f93",
   "metadata": {},
   "outputs": [],
   "source": [
    "d.add(7)"
   ]
  },
  {
   "cell_type": "code",
   "execution_count": 34,
   "id": "b0d93d74-87a9-46ad-9ef4-2395197fb008",
   "metadata": {},
   "outputs": [
    {
     "data": {
      "text/plain": [
       "{1, 2, 4, 7, 8, 9}"
      ]
     },
     "execution_count": 34,
     "metadata": {},
     "output_type": "execute_result"
    }
   ],
   "source": [
    "d"
   ]
  },
  {
   "cell_type": "code",
   "execution_count": 37,
   "id": "cc857e24-15eb-4a04-a918-4569cbd3fcaa",
   "metadata": {},
   "outputs": [
    {
     "ename": "KeyError",
     "evalue": "7",
     "output_type": "error",
     "traceback": [
      "\u001b[0;31m---------------------------------------------------------------------------\u001b[0m",
      "\u001b[0;31mKeyError\u001b[0m                                  Traceback (most recent call last)",
      "Cell \u001b[0;32mIn[37], line 1\u001b[0m\n\u001b[0;32m----> 1\u001b[0m \u001b[43md\u001b[49m\u001b[38;5;241;43m.\u001b[39;49m\u001b[43mremove\u001b[49m\u001b[43m(\u001b[49m\u001b[38;5;241;43m7\u001b[39;49m\u001b[43m)\u001b[49m\n",
      "\u001b[0;31mKeyError\u001b[0m: 7"
     ]
    }
   ],
   "source": [
    "d.remove(7)"
   ]
  },
  {
   "cell_type": "code",
   "execution_count": 38,
   "id": "a5bb81f6-bdf2-41d2-8055-793ea32ba66e",
   "metadata": {},
   "outputs": [
    {
     "data": {
      "text/plain": [
       "{1, 2, 4, 8, 9}"
      ]
     },
     "execution_count": 38,
     "metadata": {},
     "output_type": "execute_result"
    }
   ],
   "source": [
    "d"
   ]
  },
  {
   "cell_type": "code",
   "execution_count": 2,
   "id": "e1b19922-fddc-4521-af98-d6cea2101c05",
   "metadata": {},
   "outputs": [],
   "source": [
    "Phonebook = {\"Ajay\":45564,\"Vijay\":7983123,\"Gopal\":8789123}"
   ]
  },
  {
   "cell_type": "code",
   "execution_count": 4,
   "id": "95fc3753-e1eb-4e54-a1d6-e0a7af123e80",
   "metadata": {},
   "outputs": [
    {
     "data": {
      "text/plain": [
       "{'Ajay': 45564, 'Vijay': 7983123, 'Gopal': 8789123}"
      ]
     },
     "execution_count": 4,
     "metadata": {},
     "output_type": "execute_result"
    }
   ],
   "source": [
    "Phonebook"
   ]
  },
  {
   "cell_type": "code",
   "execution_count": 7,
   "id": "ee240805-0ea6-4711-83ce-422db8b45271",
   "metadata": {},
   "outputs": [],
   "source": [
    "Phonebook[\"Vijay\"] = 1234567895456456"
   ]
  },
  {
   "cell_type": "code",
   "execution_count": 8,
   "id": "f78b4d74-a821-404f-ac98-ffc7b6efcc13",
   "metadata": {},
   "outputs": [
    {
     "data": {
      "text/plain": [
       "{'Ajay': 45564, 'Vijay': 1234567895456456, 'Gopal': 8789123}"
      ]
     },
     "execution_count": 8,
     "metadata": {},
     "output_type": "execute_result"
    }
   ],
   "source": [
    "Phonebook"
   ]
  },
  {
   "cell_type": "code",
   "execution_count": 9,
   "id": "429ca803-0afe-48e3-a052-a913fc85ff49",
   "metadata": {},
   "outputs": [
    {
     "data": {
      "text/plain": [
       "dict_keys(['Ajay', 'Vijay', 'Gopal'])"
      ]
     },
     "execution_count": 9,
     "metadata": {},
     "output_type": "execute_result"
    }
   ],
   "source": [
    "Phonebook.keys()"
   ]
  },
  {
   "cell_type": "code",
   "execution_count": 13,
   "id": "55309e46-262c-4520-884b-807124156674",
   "metadata": {},
   "outputs": [
    {
     "data": {
      "text/plain": [
       "dict_values([45564, 1234567895456456, 8789123])"
      ]
     },
     "execution_count": 13,
     "metadata": {},
     "output_type": "execute_result"
    }
   ],
   "source": [
    "Phonebook.values()"
   ]
  },
  {
   "cell_type": "code",
   "execution_count": 21,
   "id": "75ee12cc-f8c2-4d47-be88-d6e5b81d7a64",
   "metadata": {},
   "outputs": [],
   "source": [
    "from array import array"
   ]
  },
  {
   "cell_type": "code",
   "execution_count": 22,
   "id": "a61f9147-fa31-4632-b7fe-1d935d3474fe",
   "metadata": {},
   "outputs": [
    {
     "data": {
      "text/plain": [
       "array('i', [1, 2, 3, 4, 5, 6, 7, 8, 9])"
      ]
     },
     "execution_count": 22,
     "metadata": {},
     "output_type": "execute_result"
    }
   ],
   "source": [
    "array('i', [1,2,3,4,5,6,7,8,9])"
   ]
  },
  {
   "cell_type": "code",
   "execution_count": 23,
   "id": "8458280c-87db-4af2-be6e-b1837100b919",
   "metadata": {},
   "outputs": [
    {
     "data": {
      "text/plain": [
       "array('i', [1, 2, 3, 4])"
      ]
     },
     "execution_count": 23,
     "metadata": {},
     "output_type": "execute_result"
    }
   ],
   "source": [
    "array('i' , [1,2,3,4])"
   ]
  },
  {
   "cell_type": "code",
   "execution_count": null,
   "id": "f899aaec-d599-4b4f-888d-b92961e6500b",
   "metadata": {},
   "outputs": [],
   "source": []
  }
 ],
 "metadata": {
  "kernelspec": {
   "display_name": "Python 3 (ipykernel)",
   "language": "python",
   "name": "python3"
  },
  "language_info": {
   "codemirror_mode": {
    "name": "ipython",
    "version": 3
   },
   "file_extension": ".py",
   "mimetype": "text/x-python",
   "name": "python",
   "nbconvert_exporter": "python",
   "pygments_lexer": "ipython3",
   "version": "3.10.8"
  }
 },
 "nbformat": 4,
 "nbformat_minor": 5
}
