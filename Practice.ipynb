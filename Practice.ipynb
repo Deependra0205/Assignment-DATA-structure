{
 "cells": [
  {
   "cell_type": "code",
   "execution_count": 5,
   "id": "e11abc06-13bd-4b22-b32d-951f1a8f8aa4",
   "metadata": {},
   "outputs": [
    {
     "data": {
      "text/plain": [
       "['Maths', 'Physics', 'English', 'True', 1, 5, 78, 5.8, (2+8j)]"
      ]
     },
     "execution_count": 5,
     "metadata": {},
     "output_type": "execute_result"
    }
   ],
   "source": [
    "subject_list = [\"Maths\",\"Physics\",\"English\",\"True\",1,5,78,5.8,2+8j]\n",
    "subject_list"
   ]
  },
  {
   "cell_type": "code",
   "execution_count": 7,
   "id": "6575bc62-627b-4017-82ed-a8cf3fcde53c",
   "metadata": {},
   "outputs": [
    {
     "data": {
      "text/plain": [
       "'Maths'"
      ]
     },
     "execution_count": 7,
     "metadata": {},
     "output_type": "execute_result"
    }
   ],
   "source": [
    "subject_list[0]"
   ]
  },
  {
   "cell_type": "code",
   "execution_count": 8,
   "id": "bbd55f65-ba83-4522-a034-0177f15adfbb",
   "metadata": {},
   "outputs": [
    {
     "data": {
      "text/plain": [
       "(2+8j)"
      ]
     },
     "execution_count": 8,
     "metadata": {},
     "output_type": "execute_result"
    }
   ],
   "source": [
    "subject_list[-1]"
   ]
  },
  {
   "cell_type": "code",
   "execution_count": 9,
   "id": "a1f46567-b640-44a2-aee6-fa687d85ea0c",
   "metadata": {},
   "outputs": [
    {
     "data": {
      "text/plain": [
       "['Maths', 'Physics', 'Hindi', 'True', 1, 5, 78, 5.8, (2+8j)]"
      ]
     },
     "execution_count": 9,
     "metadata": {},
     "output_type": "execute_result"
    }
   ],
   "source": [
    "subject_list[2] = \"Hindi\"\n",
    "subject_list"
   ]
  },
  {
   "cell_type": "code",
   "execution_count": 10,
   "id": "20db7330-028b-481c-8d2e-db7f51d1fc08",
   "metadata": {},
   "outputs": [
    {
     "name": "stdout",
     "output_type": "stream",
     "text": [
      "Maths\n",
      "Physics\n",
      "Hindi\n",
      "True\n",
      "1\n",
      "5\n",
      "78\n",
      "5.8\n",
      "(2+8j)\n"
     ]
    }
   ],
   "source": [
    "for subject in subject_list:\n",
    "    print(subject)"
   ]
  },
  {
   "cell_type": "code",
   "execution_count": 11,
   "id": "928f9e1b-d879-4cb6-82f3-6f53a6376388",
   "metadata": {},
   "outputs": [
    {
     "data": {
      "text/plain": [
       "['Physics', 'Hindi', 'True', 1, 5, 78, 5.8, (2+8j)]"
      ]
     },
     "execution_count": 11,
     "metadata": {},
     "output_type": "execute_result"
    }
   ],
   "source": [
    "subject_list[1:]"
   ]
  },
  {
   "cell_type": "code",
   "execution_count": 13,
   "id": "f3f9d5fc-4ff4-4477-ae57-07f6f0bdd776",
   "metadata": {},
   "outputs": [
    {
     "data": {
      "text/plain": [
       "['Maths', 'Physics', 'Hindi']"
      ]
     },
     "execution_count": 13,
     "metadata": {},
     "output_type": "execute_result"
    }
   ],
   "source": [
    "subject_list[0:3]"
   ]
  },
  {
   "cell_type": "code",
   "execution_count": 20,
   "id": "96280234-2179-4886-bdad-94dfc61ef0e2",
   "metadata": {},
   "outputs": [
    {
     "data": {
      "text/plain": [
       "['Maths', 'Physics', 'Hindi', 'True', 1, 5, 78, 5.8, (2+8j)]"
      ]
     },
     "execution_count": 20,
     "metadata": {},
     "output_type": "execute_result"
    }
   ],
   "source": [
    "subject_list"
   ]
  },
  {
   "cell_type": "code",
   "execution_count": 21,
   "id": "8abc12b2-c3ef-475d-a29f-c9f8b2f139db",
   "metadata": {},
   "outputs": [
    {
     "data": {
      "text/plain": [
       "[78, 5.8, (2+8j)]"
      ]
     },
     "execution_count": 21,
     "metadata": {},
     "output_type": "execute_result"
    }
   ],
   "source": [
    "subject_list[-3:]"
   ]
  },
  {
   "cell_type": "code",
   "execution_count": 24,
   "id": "b1ac0e80-15b9-49a3-b883-836b88e59174",
   "metadata": {},
   "outputs": [
    {
     "data": {
      "text/plain": [
       "['Maths']"
      ]
     },
     "execution_count": 24,
     "metadata": {},
     "output_type": "execute_result"
    }
   ],
   "source": [
    "subject_list[0:2:4]"
   ]
  },
  {
   "cell_type": "code",
   "execution_count": 25,
   "id": "c708e844-8faa-4aac-b1f8-e1e90235ca28",
   "metadata": {},
   "outputs": [
    {
     "data": {
      "text/plain": [
       "[(2+8j), 5.8, 78, 5, 1, 'True', 'Hindi', 'Physics', 'Maths']"
      ]
     },
     "execution_count": 25,
     "metadata": {},
     "output_type": "execute_result"
    }
   ],
   "source": [
    "subject_list[::-1]"
   ]
  },
  {
   "cell_type": "code",
   "execution_count": 26,
   "id": "7d45a6ce-3956-49c2-8df7-708105a99481",
   "metadata": {},
   "outputs": [
    {
     "data": {
      "text/plain": [
       "['Maths', 'Physics', 'Hindi', 'True', 1, 5, 78, 5.8]"
      ]
     },
     "execution_count": 26,
     "metadata": {},
     "output_type": "execute_result"
    }
   ],
   "source": [
    "subject_list[:-1]"
   ]
  },
  {
   "cell_type": "code",
   "execution_count": 31,
   "id": "e83b8a1d-fd6a-4ff7-86cd-e3fa765bcdff",
   "metadata": {},
   "outputs": [
    {
     "data": {
      "text/plain": [
       "['Maths', 'Physics', 'Hindi', 'True', 1, 5, 78, 5.8, (2+8j)]"
      ]
     },
     "execution_count": 31,
     "metadata": {},
     "output_type": "execute_result"
    }
   ],
   "source": [
    "subject_list"
   ]
  },
  {
   "cell_type": "code",
   "execution_count": 35,
   "id": "cb97900d-e7f7-47aa-b87c-fe83561d0a5c",
   "metadata": {},
   "outputs": [],
   "source": [
    "subject_list.append(False)"
   ]
  },
  {
   "cell_type": "code",
   "execution_count": 33,
   "id": "d5fa97cd-6cc7-49b1-85b3-e2daf7dca104",
   "metadata": {},
   "outputs": [
    {
     "data": {
      "text/plain": [
       "['Maths', 'Physics', 'Hindi', 'True', 1, 5, 78, 5.8, (2+8j), False]"
      ]
     },
     "execution_count": 33,
     "metadata": {},
     "output_type": "execute_result"
    }
   ],
   "source": [
    "subject_list"
   ]
  },
  {
   "cell_type": "code",
   "execution_count": 38,
   "id": "85122b68-fcd5-426b-8502-63ffff76fc68",
   "metadata": {},
   "outputs": [
    {
     "data": {
      "text/plain": [
       "['Maths',\n",
       " 'Physics',\n",
       " 'Hindi',\n",
       " 'True',\n",
       " 1,\n",
       " 5,\n",
       " 78,\n",
       " 5.8,\n",
       " (2+8j),\n",
       " False,\n",
       " False,\n",
       " 'Chemistry']"
      ]
     },
     "execution_count": 38,
     "metadata": {},
     "output_type": "execute_result"
    }
   ],
   "source": [
    "subject_list.append(\"Chemistry\")\n",
    "subject_list"
   ]
  },
  {
   "cell_type": "code",
   "execution_count": 39,
   "id": "f4edf62c-2188-45ac-bcd9-3242bf0b96e6",
   "metadata": {},
   "outputs": [],
   "source": [
    "subject_list.insert(2,\"English\")"
   ]
  },
  {
   "cell_type": "code",
   "execution_count": 40,
   "id": "ac90e2d5-2217-4007-8094-0a4ca0ebf72b",
   "metadata": {},
   "outputs": [
    {
     "data": {
      "text/plain": [
       "['Maths',\n",
       " 'Physics',\n",
       " 'English',\n",
       " 'Hindi',\n",
       " 'True',\n",
       " 1,\n",
       " 5,\n",
       " 78,\n",
       " 5.8,\n",
       " (2+8j),\n",
       " False,\n",
       " False,\n",
       " 'Chemistry']"
      ]
     },
     "execution_count": 40,
     "metadata": {},
     "output_type": "execute_result"
    }
   ],
   "source": [
    "subject_list"
   ]
  },
  {
   "cell_type": "code",
   "execution_count": 41,
   "id": "d4683ba7-ada0-4ce8-90ae-71fd41605f88",
   "metadata": {},
   "outputs": [],
   "source": [
    "subject_list.insert(-3,\"Good\")"
   ]
  },
  {
   "cell_type": "code",
   "execution_count": 42,
   "id": "29587901-1f0e-4f06-bdac-9627197902fc",
   "metadata": {},
   "outputs": [
    {
     "data": {
      "text/plain": [
       "['Maths',\n",
       " 'Physics',\n",
       " 'English',\n",
       " 'Hindi',\n",
       " 'True',\n",
       " 1,\n",
       " 5,\n",
       " 78,\n",
       " 5.8,\n",
       " (2+8j),\n",
       " 'Good',\n",
       " False,\n",
       " False,\n",
       " 'Chemistry']"
      ]
     },
     "execution_count": 42,
     "metadata": {},
     "output_type": "execute_result"
    }
   ],
   "source": [
    "subject_list"
   ]
  },
  {
   "cell_type": "code",
   "execution_count": 44,
   "id": "0b381b0a-aaac-4887-a569-c05873219a2a",
   "metadata": {},
   "outputs": [
    {
     "data": {
      "text/plain": [
       "['Indore', 'Bhopal', 'Ujjain', 'Mumbai', 'Delhi']"
      ]
     },
     "execution_count": 44,
     "metadata": {},
     "output_type": "execute_result"
    }
   ],
   "source": [
    "list1 = [\"Indore\",\"Bhopal\",\"Ujjain\",\"Mumbai\",\"Delhi\"]\n",
    "list1\n"
   ]
  },
  {
   "cell_type": "code",
   "execution_count": 45,
   "id": "f13eb7c9-3c2a-4176-80be-28212f08db3c",
   "metadata": {},
   "outputs": [
    {
     "data": {
      "text/plain": [
       "['Mango', 'Orange', 'Banana', 'Grapes', 'Apple']"
      ]
     },
     "execution_count": 45,
     "metadata": {},
     "output_type": "execute_result"
    }
   ],
   "source": [
    "list2 = [\"Mango\",\"Orange\",\"Banana\",\"Grapes\",\"Apple\"]\n",
    "list2"
   ]
  },
  {
   "cell_type": "code",
   "execution_count": 46,
   "id": "62e6f54f-ee22-428d-8281-2d4a1b2d63cd",
   "metadata": {},
   "outputs": [],
   "source": [
    "list1.extend(list2)"
   ]
  },
  {
   "cell_type": "code",
   "execution_count": 47,
   "id": "de169dd5-b63f-402d-8781-6d6419cb3250",
   "metadata": {},
   "outputs": [
    {
     "data": {
      "text/plain": [
       "['Indore',\n",
       " 'Bhopal',\n",
       " 'Ujjain',\n",
       " 'Mumbai',\n",
       " 'Delhi',\n",
       " 'Mango',\n",
       " 'Orange',\n",
       " 'Banana',\n",
       " 'Grapes',\n",
       " 'Apple']"
      ]
     },
     "execution_count": 47,
     "metadata": {},
     "output_type": "execute_result"
    }
   ],
   "source": [
    "list1"
   ]
  },
  {
   "cell_type": "code",
   "execution_count": 48,
   "id": "16d3fceb-8b14-4454-a249-2d5022dcd43d",
   "metadata": {},
   "outputs": [
    {
     "data": {
      "text/plain": [
       "['Mango',\n",
       " 'Orange',\n",
       " 'Banana',\n",
       " 'Grapes',\n",
       " 'Apple',\n",
       " 'Indore',\n",
       " 'Bhopal',\n",
       " 'Ujjain',\n",
       " 'Mumbai',\n",
       " 'Delhi',\n",
       " 'Mango',\n",
       " 'Orange',\n",
       " 'Banana',\n",
       " 'Grapes',\n",
       " 'Apple']"
      ]
     },
     "execution_count": 48,
     "metadata": {},
     "output_type": "execute_result"
    }
   ],
   "source": [
    "list2.extend(list1)\n",
    "list2"
   ]
  },
  {
   "cell_type": "code",
   "execution_count": 49,
   "id": "b8769394-dee2-4b69-ace0-8f4f434447de",
   "metadata": {},
   "outputs": [
    {
     "data": {
      "text/plain": [
       "['Indore',\n",
       " 'Bhopal',\n",
       " 'Ujjain',\n",
       " 'Mumbai',\n",
       " 'Delhi',\n",
       " 'Mango',\n",
       " 'Orange',\n",
       " 'Banana',\n",
       " 'Grapes',\n",
       " 'Apple',\n",
       " 'Mango',\n",
       " 'Orange',\n",
       " 'Banana',\n",
       " 'Grapes',\n",
       " 'Apple',\n",
       " 'Indore',\n",
       " 'Bhopal',\n",
       " 'Ujjain',\n",
       " 'Mumbai',\n",
       " 'Delhi',\n",
       " 'Mango',\n",
       " 'Orange',\n",
       " 'Banana',\n",
       " 'Grapes',\n",
       " 'Apple']"
      ]
     },
     "execution_count": 49,
     "metadata": {},
     "output_type": "execute_result"
    }
   ],
   "source": [
    "list1 + list2"
   ]
  },
  {
   "cell_type": "code",
   "execution_count": 50,
   "id": "69aceeb9-f067-4155-8c7d-74e6481d5c91",
   "metadata": {},
   "outputs": [
    {
     "data": {
      "text/plain": [
       "['Indore',\n",
       " 'Bhopal',\n",
       " 'Ujjain',\n",
       " 'Mumbai',\n",
       " 'Delhi',\n",
       " 'Mango',\n",
       " 'Orange',\n",
       " 'Banana',\n",
       " 'Grapes',\n",
       " 'Apple']"
      ]
     },
     "execution_count": 50,
     "metadata": {},
     "output_type": "execute_result"
    }
   ],
   "source": [
    "list1"
   ]
  },
  {
   "cell_type": "code",
   "execution_count": 52,
   "id": "d45d4c9b-6022-48fa-ad5a-3b34de8914d0",
   "metadata": {},
   "outputs": [],
   "source": [
    "del(list2)"
   ]
  },
  {
   "cell_type": "code",
   "execution_count": 53,
   "id": "cd1aae03-f535-46fd-9050-c57ee8ee8e32",
   "metadata": {},
   "outputs": [
    {
     "ename": "NameError",
     "evalue": "name 'list2' is not defined",
     "output_type": "error",
     "traceback": [
      "\u001b[0;31m---------------------------------------------------------------------------\u001b[0m",
      "\u001b[0;31mNameError\u001b[0m                                 Traceback (most recent call last)",
      "Cell \u001b[0;32mIn[53], line 1\u001b[0m\n\u001b[0;32m----> 1\u001b[0m \u001b[43mlist2\u001b[49m\n",
      "\u001b[0;31mNameError\u001b[0m: name 'list2' is not defined"
     ]
    }
   ],
   "source": [
    "list2"
   ]
  },
  {
   "cell_type": "code",
   "execution_count": 54,
   "id": "c8451e47-3b63-44c4-8235-20e64781e06f",
   "metadata": {},
   "outputs": [
    {
     "data": {
      "text/plain": [
       "['Indore',\n",
       " 'Bhopal',\n",
       " 'Ujjain',\n",
       " 'Mumbai',\n",
       " 'Delhi',\n",
       " 'Mango',\n",
       " 'Orange',\n",
       " 'Banana',\n",
       " 'Grapes',\n",
       " 'Apple']"
      ]
     },
     "execution_count": 54,
     "metadata": {},
     "output_type": "execute_result"
    }
   ],
   "source": [
    "list1"
   ]
  },
  {
   "cell_type": "code",
   "execution_count": 64,
   "id": "82079f25-f3b2-4de6-bcf5-98fb4e7e90e5",
   "metadata": {},
   "outputs": [
    {
     "data": {
      "text/plain": [
       "['Indore', 'Bhopal', 'Ujjain', 'Mumbai', 'Delhi']"
      ]
     },
     "execution_count": 64,
     "metadata": {},
     "output_type": "execute_result"
    }
   ],
   "source": [
    "list1 = [\"Indore\",\"Bhopal\",\"Ujjain\",\"Mumbai\",\"Delhi\"]\n",
    "list1\n"
   ]
  },
  {
   "cell_type": "code",
   "execution_count": 62,
   "id": "206d8add-77eb-4f39-bb06-595ce6edae0c",
   "metadata": {},
   "outputs": [
    {
     "data": {
      "text/plain": [
       "['Indore',\n",
       " 'Bhopal',\n",
       " 'Ujjain',\n",
       " 'Mumbai',\n",
       " 'Delhi',\n",
       " 'Indore',\n",
       " 'Bhopal',\n",
       " 'Ujjain',\n",
       " 'Mumbai',\n",
       " 'Delhi']"
      ]
     },
     "execution_count": 62,
     "metadata": {},
     "output_type": "execute_result"
    }
   ],
   "source": [
    "list1"
   ]
  },
  {
   "cell_type": "code",
   "execution_count": 63,
   "id": "177c5630-da92-4761-b945-abb52710ee67",
   "metadata": {},
   "outputs": [
    {
     "data": {
      "text/plain": [
       "range(0, 5)"
      ]
     },
     "execution_count": 63,
     "metadata": {},
     "output_type": "execute_result"
    }
   ],
   "source": [
    "range(5)"
   ]
  },
  {
   "cell_type": "code",
   "execution_count": 60,
   "id": "66f9ec15-6b0f-49e4-b082-9b54a4025606",
   "metadata": {},
   "outputs": [
    {
     "data": {
      "text/plain": [
       "[0, 1, 2, 3, 4, 0, 1, 2, 3, 4]"
      ]
     },
     "execution_count": 60,
     "metadata": {},
     "output_type": "execute_result"
    }
   ],
   "source": [
    "list(range(5))*2"
   ]
  },
  {
   "cell_type": "code",
   "execution_count": 65,
   "id": "688395e3-6544-4b1f-b986-62ae0b71ae48",
   "metadata": {},
   "outputs": [
    {
     "data": {
      "text/plain": [
       "['Indore', 'Bhopal', 'Ujjain', 'Mumbai', 'Delhi']"
      ]
     },
     "execution_count": 65,
     "metadata": {},
     "output_type": "execute_result"
    }
   ],
   "source": [
    "list1"
   ]
  },
  {
   "cell_type": "code",
   "execution_count": 66,
   "id": "565b92ef-39b1-48a4-86f4-489b2f1936bf",
   "metadata": {},
   "outputs": [
    {
     "data": {
      "text/plain": [
       "True"
      ]
     },
     "execution_count": 66,
     "metadata": {},
     "output_type": "execute_result"
    }
   ],
   "source": [
    "\"Indore\" in list1"
   ]
  },
  {
   "cell_type": "code",
   "execution_count": 67,
   "id": "865fc605-084d-44b7-bdb9-80eee537f1e5",
   "metadata": {},
   "outputs": [
    {
     "data": {
      "text/plain": [
       "False"
      ]
     },
     "execution_count": 67,
     "metadata": {},
     "output_type": "execute_result"
    }
   ],
   "source": [
    "\"Punjab\" in list1"
   ]
  },
  {
   "cell_type": "code",
   "execution_count": 68,
   "id": "21ef2d78-9515-4714-884f-34aa4a4a386f",
   "metadata": {},
   "outputs": [],
   "source": [
    "a = list1"
   ]
  },
  {
   "cell_type": "code",
   "execution_count": 69,
   "id": "a56be078-d230-4d65-869f-f589e5fe79b4",
   "metadata": {},
   "outputs": [
    {
     "data": {
      "text/plain": [
       "['Indore', 'Bhopal', 'Ujjain', 'Mumbai', 'Delhi']"
      ]
     },
     "execution_count": 69,
     "metadata": {},
     "output_type": "execute_result"
    }
   ],
   "source": [
    "a"
   ]
  },
  {
   "cell_type": "code",
   "execution_count": 79,
   "id": "763151ae-9de6-46d4-8c16-70c4f5cd9e42",
   "metadata": {},
   "outputs": [
    {
     "data": {
      "text/plain": [
       "['Indore',\n",
       " 'Bhopal',\n",
       " 'Ujjain',\n",
       " 'Mumbai',\n",
       " 'Delhi',\n",
       " 'Jaipur',\n",
       " 'Jaipur',\n",
       " 'Jaipur',\n",
       " 'Jaipur',\n",
       " 'Jaipur']"
      ]
     },
     "execution_count": 79,
     "metadata": {},
     "output_type": "execute_result"
    }
   ],
   "source": [
    "list1.append(\"Jaipur\")\n",
    "list1"
   ]
  },
  {
   "cell_type": "code",
   "execution_count": 80,
   "id": "14625661-b558-40a7-b62e-a0610b26d4f3",
   "metadata": {},
   "outputs": [
    {
     "data": {
      "text/plain": [
       "['Indore', 'Bhopal', 'Ujjain', 'Mumbai', 'Delhi']"
      ]
     },
     "execution_count": 80,
     "metadata": {},
     "output_type": "execute_result"
    }
   ],
   "source": [
    "list1 = [\"Indore\",\"Bhopal\",\"Ujjain\",\"Mumbai\",\"Delhi\"]\n",
    "list1\n"
   ]
  },
  {
   "cell_type": "code",
   "execution_count": 82,
   "id": "f28af367-b366-43d6-b0f5-500952faf947",
   "metadata": {},
   "outputs": [
    {
     "data": {
      "text/plain": [
       "['Indore', 'Bhopal', 'Ujjain', 'Mumbai', 'Delhi', 'Jaipur', 'Jaipur']"
      ]
     },
     "execution_count": 82,
     "metadata": {},
     "output_type": "execute_result"
    }
   ],
   "source": [
    "list1.append(\"Jaipur\")\n",
    "list1"
   ]
  },
  {
   "cell_type": "code",
   "execution_count": 84,
   "id": "36e8adbd-70b4-408c-ae4b-9abcde81634f",
   "metadata": {},
   "outputs": [
    {
     "data": {
      "text/plain": [
       "['Indore', 'Bhopal', 'Ujjain', 'Mumbai', 'Delhi', 'Jaipur', 'Jaipur', 'Punjab']"
      ]
     },
     "execution_count": 84,
     "metadata": {},
     "output_type": "execute_result"
    }
   ],
   "source": [
    "list1.append(\"Punjab\")\n",
    "list1"
   ]
  },
  {
   "cell_type": "code",
   "execution_count": 85,
   "id": "1ba9ae00-fca5-446b-9d14-f28f0a096992",
   "metadata": {},
   "outputs": [],
   "source": [
    "a = list1"
   ]
  },
  {
   "cell_type": "code",
   "execution_count": 86,
   "id": "32ba4203-3ffc-4e68-bebe-8bf33c1bd700",
   "metadata": {},
   "outputs": [
    {
     "data": {
      "text/plain": [
       "['Indore', 'Bhopal', 'Ujjain', 'Mumbai', 'Delhi', 'Jaipur', 'Jaipur', 'Punjab']"
      ]
     },
     "execution_count": 86,
     "metadata": {},
     "output_type": "execute_result"
    }
   ],
   "source": [
    "a"
   ]
  },
  {
   "cell_type": "code",
   "execution_count": 87,
   "id": "a38c0b9b-4f8a-4880-8323-76df2bf4a78f",
   "metadata": {},
   "outputs": [
    {
     "data": {
      "text/plain": [
       "['Indore', 'Bhopal', 'Ujjain', 'Mumbai', 'Delhi', 'Jaipur', 'Jaipur', 'Punjab']"
      ]
     },
     "execution_count": 87,
     "metadata": {},
     "output_type": "execute_result"
    }
   ],
   "source": [
    "list1"
   ]
  },
  {
   "cell_type": "code",
   "execution_count": 88,
   "id": "74984efd-dc56-4748-bdd0-2844d7ebdde7",
   "metadata": {},
   "outputs": [],
   "source": [
    "b = list1.copy()"
   ]
  },
  {
   "cell_type": "code",
   "execution_count": 89,
   "id": "5ba3ffaf-c589-4900-b63e-131765dd84f8",
   "metadata": {},
   "outputs": [
    {
     "data": {
      "text/plain": [
       "['Indore', 'Bhopal', 'Ujjain', 'Mumbai', 'Delhi', 'Jaipur', 'Jaipur', 'Punjab']"
      ]
     },
     "execution_count": 89,
     "metadata": {},
     "output_type": "execute_result"
    }
   ],
   "source": [
    "b"
   ]
  },
  {
   "cell_type": "code",
   "execution_count": 90,
   "id": "b28098e9-0c1d-4f18-96d9-3982ad246d92",
   "metadata": {},
   "outputs": [
    {
     "data": {
      "text/plain": [
       "['Indore',\n",
       " 'Bhopal',\n",
       " 'Dewas',\n",
       " 'Ujjain',\n",
       " 'Mumbai',\n",
       " 'Delhi',\n",
       " 'Jaipur',\n",
       " 'Jaipur',\n",
       " 'Punjab']"
      ]
     },
     "execution_count": 90,
     "metadata": {},
     "output_type": "execute_result"
    }
   ],
   "source": [
    "list1.insert(2,\"Dewas\")\n",
    "list1"
   ]
  },
  {
   "cell_type": "code",
   "execution_count": 91,
   "id": "247c641e-41df-42cd-9960-de99d1695835",
   "metadata": {},
   "outputs": [
    {
     "data": {
      "text/plain": [
       "['Indore', 'Bhopal', 'Ujjain', 'Mumbai', 'Delhi', 'Jaipur', 'Jaipur', 'Punjab']"
      ]
     },
     "execution_count": 91,
     "metadata": {},
     "output_type": "execute_result"
    }
   ],
   "source": [
    "b"
   ]
  },
  {
   "cell_type": "code",
   "execution_count": 92,
   "id": "01363770-ec89-4163-93be-43780e4a3fba",
   "metadata": {},
   "outputs": [
    {
     "data": {
      "text/plain": [
       "['Indore',\n",
       " 'Bhopal',\n",
       " 'Dewas',\n",
       " 'Ujjain',\n",
       " 'Mumbai',\n",
       " 'Delhi',\n",
       " 'Jaipur',\n",
       " 'Jaipur',\n",
       " 'Punjab']"
      ]
     },
     "execution_count": 92,
     "metadata": {},
     "output_type": "execute_result"
    }
   ],
   "source": [
    "a"
   ]
  },
  {
   "cell_type": "code",
   "execution_count": 93,
   "id": "6d7213db-66e8-4aca-9be2-719345d8f04e",
   "metadata": {},
   "outputs": [
    {
     "data": {
      "text/plain": [
       "['Bhopal',\n",
       " 'Delhi',\n",
       " 'Dewas',\n",
       " 'Indore',\n",
       " 'Jaipur',\n",
       " 'Jaipur',\n",
       " 'Mumbai',\n",
       " 'Punjab',\n",
       " 'Ujjain']"
      ]
     },
     "execution_count": 93,
     "metadata": {},
     "output_type": "execute_result"
    }
   ],
   "source": [
    "sorted(a)"
   ]
  },
  {
   "cell_type": "code",
   "execution_count": 94,
   "id": "b488f0f3-7e77-400b-8d6c-879d71059f2e",
   "metadata": {},
   "outputs": [
    {
     "data": {
      "text/plain": [
       "9"
      ]
     },
     "execution_count": 94,
     "metadata": {},
     "output_type": "execute_result"
    }
   ],
   "source": [
    "len(a)"
   ]
  },
  {
   "cell_type": "code",
   "execution_count": 98,
   "id": "8b8b496d-a6c4-4980-a44e-aa8d3ea7e5e8",
   "metadata": {},
   "outputs": [
    {
     "data": {
      "text/plain": [
       "1"
      ]
     },
     "execution_count": 98,
     "metadata": {},
     "output_type": "execute_result"
    }
   ],
   "source": [
    "a.count(\"Indore\")"
   ]
  },
  {
   "cell_type": "code",
   "execution_count": 2,
   "id": "f6cf73c3-518f-4307-94e4-5520e089ecc2",
   "metadata": {},
   "outputs": [
    {
     "ename": "NameError",
     "evalue": "name 'list1' is not defined",
     "output_type": "error",
     "traceback": [
      "\u001b[0;31m---------------------------------------------------------------------------\u001b[0m",
      "\u001b[0;31mNameError\u001b[0m                                 Traceback (most recent call last)",
      "Cell \u001b[0;32mIn[2], line 1\u001b[0m\n\u001b[0;32m----> 1\u001b[0m \u001b[43mlist1\u001b[49m\n",
      "\u001b[0;31mNameError\u001b[0m: name 'list1' is not defined"
     ]
    }
   ],
   "source": [
    "list1"
   ]
  },
  {
   "cell_type": "code",
   "execution_count": 3,
   "id": "f059d3d5-f256-480b-b281-a7740c51090d",
   "metadata": {},
   "outputs": [
    {
     "data": {
      "text/plain": [
       "['Indore', 'Bhopal', 'Ujjain', 'Mumbai', 'Delhi']"
      ]
     },
     "execution_count": 3,
     "metadata": {},
     "output_type": "execute_result"
    }
   ],
   "source": [
    "list1 = [\"Indore\",\"Bhopal\",\"Ujjain\",\"Mumbai\",\"Delhi\"]\n",
    "list1"
   ]
  },
  {
   "cell_type": "code",
   "execution_count": 1,
   "id": "82363214-1041-451e-9f10-8f57d1ca357b",
   "metadata": {},
   "outputs": [
    {
     "ename": "NameError",
     "evalue": "name 'list1' is not defined",
     "output_type": "error",
     "traceback": [
      "\u001b[0;31m---------------------------------------------------------------------------\u001b[0m",
      "\u001b[0;31mNameError\u001b[0m                                 Traceback (most recent call last)",
      "Cell \u001b[0;32mIn[1], line 1\u001b[0m\n\u001b[0;32m----> 1\u001b[0m \u001b[43mlist1\u001b[49m\n",
      "\u001b[0;31mNameError\u001b[0m: name 'list1' is not defined"
     ]
    }
   ],
   "source": [
    "list1"
   ]
  },
  {
   "cell_type": "code",
   "execution_count": 2,
   "id": "e6ff03c2-f124-469f-9842-7d9d45c16484",
   "metadata": {},
   "outputs": [
    {
     "data": {
      "text/plain": [
       "['Indore', 'Bhopal', 'Ujjain', 'Mumbai', 'Delhi']"
      ]
     },
     "execution_count": 2,
     "metadata": {},
     "output_type": "execute_result"
    }
   ],
   "source": [
    "list1 = [\"Indore\",\"Bhopal\",\"Ujjain\",\"Mumbai\",\"Delhi\"]\n",
    "list1"
   ]
  },
  {
   "cell_type": "code",
   "execution_count": 4,
   "id": "8c891567-09f3-4a9e-8041-26ed2170be7b",
   "metadata": {},
   "outputs": [],
   "source": [
    "list1.sort()"
   ]
  },
  {
   "cell_type": "code",
   "execution_count": 5,
   "id": "87dba14d-88a0-40f2-a3e9-b0fcb9bc82c8",
   "metadata": {},
   "outputs": [
    {
     "data": {
      "text/plain": [
       "['Bhopal', 'Delhi', 'Indore', 'Mumbai', 'Ujjain']"
      ]
     },
     "execution_count": 5,
     "metadata": {},
     "output_type": "execute_result"
    }
   ],
   "source": [
    "list1"
   ]
  },
  {
   "cell_type": "code",
   "execution_count": 7,
   "id": "7b8b110b-74ca-47d4-89be-4f73bdcc7e80",
   "metadata": {},
   "outputs": [
    {
     "data": {
      "text/plain": [
       "'Ujjain'"
      ]
     },
     "execution_count": 7,
     "metadata": {},
     "output_type": "execute_result"
    }
   ],
   "source": [
    "list1.pop()"
   ]
  },
  {
   "cell_type": "code",
   "execution_count": 8,
   "id": "20877aa6-9539-49e3-87bb-57258008c64f",
   "metadata": {},
   "outputs": [
    {
     "data": {
      "text/plain": [
       "['Bhopal', 'Delhi', 'Indore', 'Mumbai']"
      ]
     },
     "execution_count": 8,
     "metadata": {},
     "output_type": "execute_result"
    }
   ],
   "source": [
    "list1"
   ]
  },
  {
   "cell_type": "code",
   "execution_count": 9,
   "id": "98fb09fc-3832-40f0-a768-0553994b5d1a",
   "metadata": {},
   "outputs": [
    {
     "data": {
      "text/plain": [
       "'Delhi'"
      ]
     },
     "execution_count": 9,
     "metadata": {},
     "output_type": "execute_result"
    }
   ],
   "source": [
    "list1.pop(1)"
   ]
  },
  {
   "cell_type": "code",
   "execution_count": 10,
   "id": "3647d598-2c96-405a-b537-2e35b0f3cb2d",
   "metadata": {},
   "outputs": [
    {
     "data": {
      "text/plain": [
       "['Bhopal', 'Indore', 'Mumbai']"
      ]
     },
     "execution_count": 10,
     "metadata": {},
     "output_type": "execute_result"
    }
   ],
   "source": [
    "list1"
   ]
  },
  {
   "cell_type": "code",
   "execution_count": 11,
   "id": "b5136082-861a-42e2-8dcd-a8023b7ca148",
   "metadata": {},
   "outputs": [
    {
     "data": {
      "text/plain": [
       "(10, 20, 30, 40)"
      ]
     },
     "execution_count": 11,
     "metadata": {},
     "output_type": "execute_result"
    }
   ],
   "source": [
    "prices = 10, 20, 30, 40\n",
    "prices"
   ]
  },
  {
   "cell_type": "code",
   "execution_count": 12,
   "id": "7f42861b-5cc6-4439-ab13-ed5cf3244f94",
   "metadata": {},
   "outputs": [
    {
     "data": {
      "text/plain": [
       "[20, 40, 60, 80]"
      ]
     },
     "execution_count": 12,
     "metadata": {},
     "output_type": "execute_result"
    }
   ],
   "source": [
    "[price * 2 for price in prices]"
   ]
  },
  {
   "cell_type": "code",
   "execution_count": 15,
   "id": "5d597131-7c02-4dd8-81a7-afc36ea0f11a",
   "metadata": {},
   "outputs": [
    {
     "data": {
      "text/plain": [
       "['abc.doc', 'abc.ppt', 'abc.exl', 'abc.pdf']"
      ]
     },
     "execution_count": 15,
     "metadata": {},
     "output_type": "execute_result"
    }
   ],
   "source": [
    "file_name = [\"abc.doc\",\"abc.ppt\",\"abc.exl\",\"abc.pdf\"]\n",
    "file_name"
   ]
  },
  {
   "cell_type": "code",
   "execution_count": 25,
   "id": "a3366445-2961-4007-a73f-f41639dd21d9",
   "metadata": {},
   "outputs": [
    {
     "data": {
      "text/plain": [
       "['doc', 'ppt', 'exl', 'pdf']"
      ]
     },
     "execution_count": 25,
     "metadata": {},
     "output_type": "execute_result"
    }
   ],
   "source": [
    "[file.split(\".\")[1] for file in file_name]"
   ]
  },
  {
   "cell_type": "code",
   "execution_count": 1,
   "id": "a072899d-632d-4d06-bf63-28f0e138c859",
   "metadata": {},
   "outputs": [],
   "source": [
    "#Tuple are ordered collection of elements, it contains heterogeneous value. Tuples are immutable/unchangable. This is used by astics ()"
   ]
  },
  {
   "cell_type": "code",
   "execution_count": 15,
   "id": "487c891d-f9f9-4f71-a062-6b0b6eab6567",
   "metadata": {},
   "outputs": [],
   "source": [
    "a = (1,1,1,5,23,2,\"Indore\",\"Bhopal\",\"Dewas\",\"Indore\")"
   ]
  },
  {
   "cell_type": "code",
   "execution_count": 16,
   "id": "63cc1f0b-fa3f-4502-8687-777d49b49867",
   "metadata": {},
   "outputs": [
    {
     "data": {
      "text/plain": [
       "(1, 1, 1, 5, 23, 2, 'Indore', 'Bhopal', 'Dewas', 'Indore')"
      ]
     },
     "execution_count": 16,
     "metadata": {},
     "output_type": "execute_result"
    }
   ],
   "source": [
    "a"
   ]
  },
  {
   "cell_type": "code",
   "execution_count": 11,
   "id": "f0a94a77-fef8-44c7-918e-96fd2ecf523f",
   "metadata": {},
   "outputs": [
    {
     "data": {
      "text/plain": [
       "tuple"
      ]
     },
     "execution_count": 11,
     "metadata": {},
     "output_type": "execute_result"
    }
   ],
   "source": [
    "type(a)"
   ]
  },
  {
   "cell_type": "code",
   "execution_count": 19,
   "id": "5d77a7b5-5166-4e35-8eb6-c35390f395a0",
   "metadata": {},
   "outputs": [
    {
     "data": {
      "text/plain": [
       "2"
      ]
     },
     "execution_count": 19,
     "metadata": {},
     "output_type": "execute_result"
    }
   ],
   "source": [
    "a.count(\"Indore\")"
   ]
  },
  {
   "cell_type": "code",
   "execution_count": 26,
   "id": "0dbdde06-03ab-4ee9-916c-81c0dbaf9ef4",
   "metadata": {},
   "outputs": [
    {
     "data": {
      "text/plain": [
       "8"
      ]
     },
     "execution_count": 26,
     "metadata": {},
     "output_type": "execute_result"
    }
   ],
   "source": [
    "a.index(\"Dewas\")"
   ]
  },
  {
   "cell_type": "code",
   "execution_count": 27,
   "id": "4d849aa2-d173-4ed2-852e-c0573883317f",
   "metadata": {},
   "outputs": [
    {
     "name": "stdout",
     "output_type": "stream",
     "text": [
      "Index of 'e': 1\n"
     ]
    }
   ],
   "source": [
    "vowels = ('a', 'e', 'i', 'o', 'u')\n",
    "index_of_e = vowels.index('e')\n",
    "print(\"Index of 'e':\", index_of_e)  # Output: 1\n"
   ]
  },
  {
   "cell_type": "code",
   "execution_count": 28,
   "id": "bd434a74-1980-4f4c-be1f-2f2041f7e190",
   "metadata": {},
   "outputs": [
    {
     "data": {
      "text/plain": [
       "(1,\n",
       " 1,\n",
       " 1,\n",
       " 5,\n",
       " 23,\n",
       " 2,\n",
       " 'Indore',\n",
       " 'Bhopal',\n",
       " 'Dewas',\n",
       " 'Indore',\n",
       " 1,\n",
       " 1,\n",
       " 1,\n",
       " 5,\n",
       " 23,\n",
       " 2,\n",
       " 'Indore',\n",
       " 'Bhopal',\n",
       " 'Dewas',\n",
       " 'Indore')"
      ]
     },
     "execution_count": 28,
     "metadata": {},
     "output_type": "execute_result"
    }
   ],
   "source": [
    "a*2"
   ]
  },
  {
   "cell_type": "code",
   "execution_count": 30,
   "id": "27aea918-16d5-46d6-9201-ff3df6aec407",
   "metadata": {},
   "outputs": [
    {
     "data": {
      "text/plain": [
       "(1, 1, 1, 5, 23, 2, 'Indore', 'Bhopal', 'Dewas', 'Indore')"
      ]
     },
     "execution_count": 30,
     "metadata": {},
     "output_type": "execute_result"
    }
   ],
   "source": [
    "a"
   ]
  },
  {
   "cell_type": "code",
   "execution_count": 38,
   "id": "8069031f-a890-4895-a0df-4801daefbf3a",
   "metadata": {},
   "outputs": [
    {
     "data": {
      "text/plain": [
       "(1, 1, 1, 5, 23, 2, 'Indore', 'Bhopal', 'Dewas', 'Indore')"
      ]
     },
     "execution_count": 38,
     "metadata": {},
     "output_type": "execute_result"
    }
   ],
   "source": [
    "a[::1] #Slicing"
   ]
  },
  {
   "cell_type": "code",
   "execution_count": 39,
   "id": "450692f2-8b31-4a08-918c-4681f6af50e9",
   "metadata": {},
   "outputs": [
    {
     "name": "stdout",
     "output_type": "stream",
     "text": [
      "1\n",
      "1\n",
      "1\n",
      "5\n",
      "23\n",
      "2\n",
      "Indore\n",
      "Bhopal\n",
      "Dewas\n",
      "Indore\n"
     ]
    }
   ],
   "source": [
    "for i in a: #Iterate\n",
    "    print(i)"
   ]
  },
  {
   "cell_type": "code",
   "execution_count": 43,
   "id": "b547b915-3293-4e89-9973-4bc03cd40e49",
   "metadata": {},
   "outputs": [
    {
     "data": {
      "text/plain": [
       "(1, 1, 1, 5, 23, 2, 'Indore', 'Bhopal', 'Dewas', 'Indore')"
      ]
     },
     "execution_count": 43,
     "metadata": {},
     "output_type": "execute_result"
    }
   ],
   "source": [
    "a"
   ]
  },
  {
   "cell_type": "code",
   "execution_count": 44,
   "id": "669be8a7-23f0-4d5c-ac6d-47c7dcc4f117",
   "metadata": {},
   "outputs": [
    {
     "ename": "TypeError",
     "evalue": "'>' not supported between instances of 'str' and 'int'",
     "output_type": "error",
     "traceback": [
      "\u001b[0;31m---------------------------------------------------------------------------\u001b[0m",
      "\u001b[0;31mTypeError\u001b[0m                                 Traceback (most recent call last)",
      "Cell \u001b[0;32mIn[44], line 1\u001b[0m\n\u001b[0;32m----> 1\u001b[0m \u001b[38;5;28;43mmax\u001b[39;49m\u001b[43m(\u001b[49m\u001b[43ma\u001b[49m\u001b[43m)\u001b[49m\n",
      "\u001b[0;31mTypeError\u001b[0m: '>' not supported between instances of 'str' and 'int'"
     ]
    }
   ],
   "source": [
    "max(a)"
   ]
  },
  {
   "cell_type": "code",
   "execution_count": 45,
   "id": "213663b8-01d9-4e83-8417-8d9648aeb6ed",
   "metadata": {},
   "outputs": [],
   "source": [
    "t1 = (1,2,3,4,5)"
   ]
  },
  {
   "cell_type": "code",
   "execution_count": 46,
   "id": "1799845a-d9e6-4c82-8ae1-39d96ac183b9",
   "metadata": {},
   "outputs": [],
   "source": [
    "t2 = (6,7,8,9,10)"
   ]
  },
  {
   "cell_type": "code",
   "execution_count": 50,
   "id": "d05fc08e-d57c-4e67-ba37-dca2664fc372",
   "metadata": {},
   "outputs": [],
   "source": [
    "t3 = (t1 , t2) #Nested tuple - It combines two tuples"
   ]
  },
  {
   "cell_type": "code",
   "execution_count": 51,
   "id": "36df06fd-3375-4e88-be00-f3e5924442c5",
   "metadata": {},
   "outputs": [
    {
     "data": {
      "text/plain": [
       "((1, 2, 3, 4, 5), (6, 7, 8, 9, 10))"
      ]
     },
     "execution_count": 51,
     "metadata": {},
     "output_type": "execute_result"
    }
   ],
   "source": [
    "t3"
   ]
  },
  {
   "cell_type": "code",
   "execution_count": 52,
   "id": "c9a90b95-b3b1-4597-b573-0688460373d2",
   "metadata": {},
   "outputs": [
    {
     "data": {
      "text/plain": [
       "5"
      ]
     },
     "execution_count": 52,
     "metadata": {},
     "output_type": "execute_result"
    }
   ],
   "source": [
    "len(t1)"
   ]
  },
  {
   "cell_type": "code",
   "execution_count": 53,
   "id": "2fb97993-f531-4a4a-9844-bfdf2706bfd2",
   "metadata": {},
   "outputs": [
    {
     "data": {
      "text/plain": [
       "(1, 2, 3, 4, 5, 6, 7, 8, 9, 10)"
      ]
     },
     "execution_count": 53,
     "metadata": {},
     "output_type": "execute_result"
    }
   ],
   "source": [
    "t1 + t2"
   ]
  },
  {
   "cell_type": "code",
   "execution_count": 54,
   "id": "85a50846-adad-4d51-946c-1528b88e40b4",
   "metadata": {},
   "outputs": [
    {
     "data": {
      "text/plain": [
       "(1, 2, 3, 4, 5)"
      ]
     },
     "execution_count": 54,
     "metadata": {},
     "output_type": "execute_result"
    }
   ],
   "source": [
    "t1"
   ]
  },
  {
   "cell_type": "code",
   "execution_count": 55,
   "id": "6f028bd3-2828-4395-9a43-bbd1b55fde5d",
   "metadata": {},
   "outputs": [
    {
     "data": {
      "text/plain": [
       "True"
      ]
     },
     "execution_count": 55,
     "metadata": {},
     "output_type": "execute_result"
    }
   ],
   "source": [
    "2 in t1"
   ]
  },
  {
   "cell_type": "code",
   "execution_count": 56,
   "id": "b3c40e97-5498-4d62-a13b-f5b1cec6ed54",
   "metadata": {},
   "outputs": [
    {
     "data": {
      "text/plain": [
       "False"
      ]
     },
     "execution_count": 56,
     "metadata": {},
     "output_type": "execute_result"
    }
   ],
   "source": [
    "6 in t1"
   ]
  },
  {
   "cell_type": "code",
   "execution_count": 57,
   "id": "d6283472-8292-4d0a-990f-3185b0cbcc95",
   "metadata": {},
   "outputs": [],
   "source": [
    "#Sets are unordered value. It does not allow duplicate elements and do not allow indexing. It contains unique elements. {}"
   ]
  },
  {
   "cell_type": "code",
   "execution_count": 64,
   "id": "e3311dcd-7600-41dd-a1d9-0a6d557a44c9",
   "metadata": {},
   "outputs": [],
   "source": [
    "s = {1,1,1,1,2,2,2,\"Indore\",58.7,5+6j,(5,78,95)}"
   ]
  },
  {
   "cell_type": "code",
   "execution_count": 65,
   "id": "5548ec6a-b8fa-47e3-a645-9484f6558764",
   "metadata": {},
   "outputs": [
    {
     "data": {
      "text/plain": [
       "{(5+6j), (5, 78, 95), 1, 2, 58.7, 'Indore'}"
      ]
     },
     "execution_count": 65,
     "metadata": {},
     "output_type": "execute_result"
    }
   ],
   "source": [
    "s"
   ]
  },
  {
   "cell_type": "code",
   "execution_count": 60,
   "id": "81c371c2-b705-4e83-8eb9-58c065f2640f",
   "metadata": {},
   "outputs": [
    {
     "data": {
      "text/plain": [
       "set"
      ]
     },
     "execution_count": 60,
     "metadata": {},
     "output_type": "execute_result"
    }
   ],
   "source": [
    "type(s)"
   ]
  },
  {
   "cell_type": "code",
   "execution_count": 61,
   "id": "b70d3325-eef2-41f5-b3bc-fabb9f7958a8",
   "metadata": {},
   "outputs": [
    {
     "ename": "TypeError",
     "evalue": "'set' object is not subscriptable",
     "output_type": "error",
     "traceback": [
      "\u001b[0;31m---------------------------------------------------------------------------\u001b[0m",
      "\u001b[0;31mTypeError\u001b[0m                                 Traceback (most recent call last)",
      "Cell \u001b[0;32mIn[61], line 1\u001b[0m\n\u001b[0;32m----> 1\u001b[0m \u001b[43ms\u001b[49m\u001b[43m[\u001b[49m\u001b[38;5;241;43m2\u001b[39;49m\u001b[43m]\u001b[49m\n",
      "\u001b[0;31mTypeError\u001b[0m: 'set' object is not subscriptable"
     ]
    }
   ],
   "source": [
    "s[2]"
   ]
  },
  {
   "cell_type": "code",
   "execution_count": 66,
   "id": "b86efd98-a5d7-4617-b6ee-b1d56daff027",
   "metadata": {},
   "outputs": [
    {
     "name": "stdout",
     "output_type": "stream",
     "text": [
      "1\n",
      "2\n",
      "(5+6j)\n",
      "(5, 78, 95)\n",
      "58.7\n",
      "Indore\n"
     ]
    }
   ],
   "source": [
    "for i in s:\n",
    "    print(i)"
   ]
  },
  {
   "cell_type": "code",
   "execution_count": 68,
   "id": "b9667a0f-d218-409b-8f12-800214c0e861",
   "metadata": {},
   "outputs": [],
   "source": [
    "s.add(\"Dewas\")"
   ]
  },
  {
   "cell_type": "code",
   "execution_count": 69,
   "id": "0f6cac3b-4dd8-4b24-b337-1bb5f344efcf",
   "metadata": {},
   "outputs": [
    {
     "data": {
      "text/plain": [
       "{(5+6j), (5, 78, 95), 1, 2, 58.7, 'Dewas', 'Indore'}"
      ]
     },
     "execution_count": 69,
     "metadata": {},
     "output_type": "execute_result"
    }
   ],
   "source": [
    "s"
   ]
  },
  {
   "cell_type": "code",
   "execution_count": 70,
   "id": "eeabb946-5547-434f-a4dc-23db338ab2b5",
   "metadata": {},
   "outputs": [
    {
     "data": {
      "text/plain": [
       "1"
      ]
     },
     "execution_count": 70,
     "metadata": {},
     "output_type": "execute_result"
    }
   ],
   "source": [
    "s.pop()"
   ]
  },
  {
   "cell_type": "code",
   "execution_count": 71,
   "id": "90648c83-6586-4809-8ef9-aa213f4b30f3",
   "metadata": {},
   "outputs": [
    {
     "data": {
      "text/plain": [
       "{(5+6j), (5, 78, 95), 2, 58.7, 'Dewas', 'Indore'}"
      ]
     },
     "execution_count": 71,
     "metadata": {},
     "output_type": "execute_result"
    }
   ],
   "source": [
    "s"
   ]
  },
  {
   "cell_type": "code",
   "execution_count": 74,
   "id": "4a4c712e-6461-4961-b0b3-360aa12c8335",
   "metadata": {},
   "outputs": [
    {
     "data": {
      "text/plain": [
       "{(5+6j), (5, 78, 95), 2, 58.7, 'Dewas', 'Indore'}"
      ]
     },
     "execution_count": 74,
     "metadata": {},
     "output_type": "execute_result"
    }
   ],
   "source": [
    "s"
   ]
  },
  {
   "cell_type": "code",
   "execution_count": 75,
   "id": "e6122fc1-ea39-49cc-934d-eec449065dec",
   "metadata": {},
   "outputs": [
    {
     "data": {
      "text/plain": [
       "{(5+6j), (5, 78, 95), 2, 58.7, 'Dewas', 'Indore'}"
      ]
     },
     "execution_count": 75,
     "metadata": {},
     "output_type": "execute_result"
    }
   ],
   "source": [
    "s"
   ]
  },
  {
   "cell_type": "code",
   "execution_count": 78,
   "id": "0795897a-4d13-4f92-a6c4-9fd73f7ebd08",
   "metadata": {},
   "outputs": [],
   "source": [
    "s.remove(\"Dewas\")"
   ]
  },
  {
   "cell_type": "code",
   "execution_count": 79,
   "id": "1405ef40-cca8-4608-a1ad-99a980f02ad9",
   "metadata": {},
   "outputs": [
    {
     "data": {
      "text/plain": [
       "{(5+6j), (5, 78, 95), 2, 58.7, 'Indore'}"
      ]
     },
     "execution_count": 79,
     "metadata": {},
     "output_type": "execute_result"
    }
   ],
   "source": [
    "s"
   ]
  },
  {
   "cell_type": "code",
   "execution_count": 84,
   "id": "84a722f7-f8a2-4359-aafb-970a8bdc0d2f",
   "metadata": {},
   "outputs": [],
   "source": [
    "s.add(\"Ujjain\")"
   ]
  },
  {
   "cell_type": "code",
   "execution_count": 85,
   "id": "666d38ae-9a66-418d-935d-79d510f9d65b",
   "metadata": {},
   "outputs": [
    {
     "data": {
      "text/plain": [
       "{(5+6j), (5, 78, 95), 2, 58.7, 'Indore', 'U', 'Ujjain', 'a', 'i', 'j', 'n'}"
      ]
     },
     "execution_count": 85,
     "metadata": {},
     "output_type": "execute_result"
    }
   ],
   "source": [
    "s"
   ]
  },
  {
   "cell_type": "code",
   "execution_count": 87,
   "id": "d483e3ea-f70d-4849-b1d9-fd8b63c9cc9f",
   "metadata": {},
   "outputs": [],
   "source": [
    "s.update([\"Bhopal\"])"
   ]
  },
  {
   "cell_type": "code",
   "execution_count": 88,
   "id": "f0062fd0-1666-4764-88dd-3001c29f3fc7",
   "metadata": {},
   "outputs": [
    {
     "data": {
      "text/plain": [
       "{(5+6j),\n",
       " (5, 78, 95),\n",
       " 2,\n",
       " 58.7,\n",
       " 'Bhopal',\n",
       " 'Indore',\n",
       " 'U',\n",
       " 'Ujjain',\n",
       " 'a',\n",
       " 'i',\n",
       " 'j',\n",
       " 'n'}"
      ]
     },
     "execution_count": 88,
     "metadata": {},
     "output_type": "execute_result"
    }
   ],
   "source": [
    "s"
   ]
  },
  {
   "cell_type": "code",
   "execution_count": 89,
   "id": "b6fe44a9-d8e4-41f8-95ef-de9206003c44",
   "metadata": {},
   "outputs": [],
   "source": [
    "#Set Operations\n"
   ]
  },
  {
   "cell_type": "code",
   "execution_count": 90,
   "id": "f48da2d2-9e60-4775-96ba-03651dc01d77",
   "metadata": {},
   "outputs": [],
   "source": [
    "#Union Operation - It means A OR B and it is represented by |\n",
    "A = {1,2,3,4,5}\n",
    "B = {4,5,6,7,8,9}\n"
   ]
  },
  {
   "cell_type": "code",
   "execution_count": 103,
   "id": "c4476bb4-11a2-4649-9548-b45915de4d38",
   "metadata": {},
   "outputs": [
    {
     "data": {
      "text/plain": [
       "{1, 2, 3, 4, 5}"
      ]
     },
     "execution_count": 103,
     "metadata": {},
     "output_type": "execute_result"
    }
   ],
   "source": [
    "A"
   ]
  },
  {
   "cell_type": "code",
   "execution_count": 104,
   "id": "6d9f5b35-fe58-4b15-883f-256e444222fd",
   "metadata": {},
   "outputs": [
    {
     "data": {
      "text/plain": [
       "{6, 7, 8, 9}"
      ]
     },
     "execution_count": 104,
     "metadata": {},
     "output_type": "execute_result"
    }
   ],
   "source": [
    "B"
   ]
  },
  {
   "cell_type": "code",
   "execution_count": 94,
   "id": "1796b50b-9970-4752-9c99-bf84dcb458a0",
   "metadata": {},
   "outputs": [
    {
     "data": {
      "text/plain": [
       "{1, 2, 3, 4, 5, 6, 7, 8, 9}"
      ]
     },
     "execution_count": 94,
     "metadata": {},
     "output_type": "execute_result"
    }
   ],
   "source": [
    "A | B"
   ]
  },
  {
   "cell_type": "code",
   "execution_count": 95,
   "id": "93a9fa48-82d5-4e1e-8b13-1861599debd6",
   "metadata": {},
   "outputs": [],
   "source": [
    "# Intersection Operation - It gives common value .It means A AND B. It is represented by &.\n"
   ]
  },
  {
   "cell_type": "code",
   "execution_count": 100,
   "id": "46dbcdc7-b011-4c33-b5bf-42c401ca2181",
   "metadata": {},
   "outputs": [
    {
     "data": {
      "text/plain": [
       "{1, 2, 3, 4, 5}"
      ]
     },
     "execution_count": 100,
     "metadata": {},
     "output_type": "execute_result"
    }
   ],
   "source": [
    "A"
   ]
  },
  {
   "cell_type": "code",
   "execution_count": 102,
   "id": "727fd54e-411f-47ae-8075-3eec3c1ee451",
   "metadata": {},
   "outputs": [
    {
     "data": {
      "text/plain": [
       "{6, 7, 8, 9}"
      ]
     },
     "execution_count": 102,
     "metadata": {},
     "output_type": "execute_result"
    }
   ],
   "source": [
    "B"
   ]
  },
  {
   "cell_type": "code",
   "execution_count": 99,
   "id": "b9b61f82-da9b-48b8-b352-3a8718b2aef4",
   "metadata": {},
   "outputs": [
    {
     "data": {
      "text/plain": [
       "set()"
      ]
     },
     "execution_count": 99,
     "metadata": {},
     "output_type": "execute_result"
    }
   ],
   "source": [
    "A&B"
   ]
  },
  {
   "cell_type": "code",
   "execution_count": 105,
   "id": "8de7dae8-da43-46f7-93df-49a3877dbe29",
   "metadata": {},
   "outputs": [],
   "source": [
    "A = {3,4,5}\n",
    "B = {4,5,6,7,8,9}"
   ]
  },
  {
   "cell_type": "code",
   "execution_count": 106,
   "id": "8ee90428-3ba2-400d-bd1f-b9e254601b2b",
   "metadata": {},
   "outputs": [
    {
     "data": {
      "text/plain": [
       "{4, 5}"
      ]
     },
     "execution_count": 106,
     "metadata": {},
     "output_type": "execute_result"
    }
   ],
   "source": [
    "A & B "
   ]
  },
  {
   "cell_type": "code",
   "execution_count": 109,
   "id": "3f622f5b-c58c-49be-9707-8fb3c27d5a8a",
   "metadata": {},
   "outputs": [
    {
     "data": {
      "text/plain": [
       "{1, 2, 3}"
      ]
     },
     "execution_count": 109,
     "metadata": {},
     "output_type": "execute_result"
    }
   ],
   "source": [
    "#Difference Operation = It is operated by substraction sign (-). It gives result which is present in first set only.\n",
    "\n",
    "A - B\n"
   ]
  },
  {
   "cell_type": "code",
   "execution_count": 111,
   "id": "6581ea72-6079-4e06-862a-2014a1c46009",
   "metadata": {},
   "outputs": [
    {
     "data": {
      "text/plain": [
       "{1, 2, 3, 25}"
      ]
     },
     "execution_count": 111,
     "metadata": {},
     "output_type": "execute_result"
    }
   ],
   "source": [
    "A = {1,2,3,25}\n",
    "B = {4,5,6,7,8,9}\n",
    "\n",
    "A - B"
   ]
  },
  {
   "cell_type": "code",
   "execution_count": 113,
   "id": "6d992d0c-e538-43d1-bc3e-3e9273b7f369",
   "metadata": {},
   "outputs": [
    {
     "data": {
      "text/plain": [
       "{1, 2, 3, 4, 5, 6, 7, 8, 9, 25}"
      ]
     },
     "execution_count": 113,
     "metadata": {},
     "output_type": "execute_result"
    }
   ],
   "source": [
    "# Symmetric Elements - It gives all values except common value. It is operated by sign ^.\n",
    "\n",
    "A ^ B \n"
   ]
  },
  {
   "cell_type": "code",
   "execution_count": 114,
   "id": "11ffe653-9d8c-411e-8b64-6eae45383ae7",
   "metadata": {},
   "outputs": [],
   "source": [
    "A = {1,2,3,4,5,6}\n",
    "B = {4,5,6,7,8,9}"
   ]
  },
  {
   "cell_type": "code",
   "execution_count": 115,
   "id": "80fbb82b-a32c-4991-9d8d-043a6db7110b",
   "metadata": {},
   "outputs": [
    {
     "data": {
      "text/plain": [
       "{1, 2, 3, 7, 8, 9}"
      ]
     },
     "execution_count": 115,
     "metadata": {},
     "output_type": "execute_result"
    }
   ],
   "source": [
    "A ^ B"
   ]
  },
  {
   "cell_type": "code",
   "execution_count": 119,
   "id": "d8380a28-449f-476c-9f4d-038f9f15af39",
   "metadata": {},
   "outputs": [
    {
     "data": {
      "text/plain": [
       "frozenset({1, 2, 3})"
      ]
     },
     "execution_count": 119,
     "metadata": {},
     "output_type": "execute_result"
    }
   ],
   "source": [
    "# Frozen Set\n",
    "a = frozenset([1,2,3])\n",
    "a\n"
   ]
  },
  {
   "cell_type": "code",
   "execution_count": 120,
   "id": "0effc84c-7c1f-4ca8-9fcc-b8eeb829e788",
   "metadata": {},
   "outputs": [
    {
     "data": {
      "text/plain": [
       "frozenset"
      ]
     },
     "execution_count": 120,
     "metadata": {},
     "output_type": "execute_result"
    }
   ],
   "source": [
    "type(a)"
   ]
  },
  {
   "cell_type": "code",
   "execution_count": 121,
   "id": "33afb3f2-2d80-4f84-8393-f3a941b2e7d0",
   "metadata": {},
   "outputs": [
    {
     "ename": "AttributeError",
     "evalue": "'frozenset' object has no attribute 'add'",
     "output_type": "error",
     "traceback": [
      "\u001b[0;31m---------------------------------------------------------------------------\u001b[0m",
      "\u001b[0;31mAttributeError\u001b[0m                            Traceback (most recent call last)",
      "Cell \u001b[0;32mIn[121], line 1\u001b[0m\n\u001b[0;32m----> 1\u001b[0m \u001b[43ma\u001b[49m\u001b[38;5;241;43m.\u001b[39;49m\u001b[43madd\u001b[49m(\u001b[38;5;241m89\u001b[39m)\n",
      "\u001b[0;31mAttributeError\u001b[0m: 'frozenset' object has no attribute 'add'"
     ]
    }
   ],
   "source": [
    "a.add(89)"
   ]
  },
  {
   "cell_type": "code",
   "execution_count": 122,
   "id": "f996ec3a-f53e-44a8-b424-18296f6505a6",
   "metadata": {},
   "outputs": [
    {
     "data": {
      "text/plain": [
       "frozenset({1, 2, 3})"
      ]
     },
     "execution_count": 122,
     "metadata": {},
     "output_type": "execute_result"
    }
   ],
   "source": [
    "a"
   ]
  },
  {
   "cell_type": "code",
   "execution_count": 123,
   "id": "66aa3a6b-aefb-4119-8e19-ac5657436733",
   "metadata": {},
   "outputs": [],
   "source": [
    "# Dictrionaries - It is a data structure which stores data in for of key value pair. Keys are immutable and unique.Dictionaries are unordered.It is opeated by {}.\n",
    "\n",
    "dic = {\"name\" : \"Pooja\" , \"Address\" : \"Indore\" , \"Occupation\" : \"Accountant\"}"
   ]
  },
  {
   "cell_type": "code",
   "execution_count": 124,
   "id": "7575583c-ac5e-4330-ae9f-20b3a17a48a3",
   "metadata": {},
   "outputs": [
    {
     "data": {
      "text/plain": [
       "{'name': 'Pooja', 'Address': 'Indore', 'Occupation': 'Accountant'}"
      ]
     },
     "execution_count": 124,
     "metadata": {},
     "output_type": "execute_result"
    }
   ],
   "source": [
    "dic"
   ]
  },
  {
   "cell_type": "code",
   "execution_count": 125,
   "id": "91b70c69-3964-4d71-8307-5144efe16d8d",
   "metadata": {},
   "outputs": [
    {
     "data": {
      "text/plain": [
       "'Pooja'"
      ]
     },
     "execution_count": 125,
     "metadata": {},
     "output_type": "execute_result"
    }
   ],
   "source": [
    "dic[\"name\"]"
   ]
  },
  {
   "cell_type": "code",
   "execution_count": 126,
   "id": "d7acdec4-2476-4f83-84f6-89e08e435979",
   "metadata": {},
   "outputs": [
    {
     "data": {
      "text/plain": [
       "dict_keys(['name', 'Address', 'Occupation'])"
      ]
     },
     "execution_count": 126,
     "metadata": {},
     "output_type": "execute_result"
    }
   ],
   "source": [
    "dic.keys()"
   ]
  },
  {
   "cell_type": "code",
   "execution_count": 127,
   "id": "3d1a68f1-7218-443f-a0d1-996fde1c759e",
   "metadata": {},
   "outputs": [
    {
     "data": {
      "text/plain": [
       "dict_values(['Pooja', 'Indore', 'Accountant'])"
      ]
     },
     "execution_count": 127,
     "metadata": {},
     "output_type": "execute_result"
    }
   ],
   "source": [
    "dic.values()"
   ]
  },
  {
   "cell_type": "code",
   "execution_count": 128,
   "id": "9a4d2818-91f1-4d6f-b644-be0cddfb8b16",
   "metadata": {},
   "outputs": [
    {
     "data": {
      "text/plain": [
       "3"
      ]
     },
     "execution_count": 128,
     "metadata": {},
     "output_type": "execute_result"
    }
   ],
   "source": [
    "len(dic)"
   ]
  },
  {
   "cell_type": "code",
   "execution_count": 1,
   "id": "e96b1235-a6af-4ce6-86e9-2adb11699dbd",
   "metadata": {},
   "outputs": [],
   "source": [
    "# Functions \n",
    "# User defined functions"
   ]
  },
  {
   "cell_type": "code",
   "execution_count": 19,
   "id": "d48e69a8-1a5f-46c3-b5ac-d716336c3f7c",
   "metadata": {},
   "outputs": [],
   "source": [
    "def greet(name):\n",
    "    return(\"Welcome to the office\",name)"
   ]
  },
  {
   "cell_type": "code",
   "execution_count": 20,
   "id": "c0dfd7dc-0c81-4394-b4ef-fa74f14b93b0",
   "metadata": {},
   "outputs": [
    {
     "name": "stdout",
     "output_type": "stream",
     "text": [
      "Welcome to the office Harsh\n"
     ]
    }
   ],
   "source": [
    "greet(\"Harsh\")"
   ]
  },
  {
   "cell_type": "code",
   "execution_count": 13,
   "id": "55de88b7-50b1-4aa2-937e-75b379100d7f",
   "metadata": {},
   "outputs": [
    {
     "name": "stdout",
     "output_type": "stream",
     "text": [
      "Welcome to the office Aditya\n"
     ]
    }
   ],
   "source": [
    "greet(\"Aditya\")"
   ]
  },
  {
   "cell_type": "code",
   "execution_count": 14,
   "id": "88a0092b-b376-4ed7-8b14-1e4873c282ed",
   "metadata": {},
   "outputs": [
    {
     "name": "stdout",
     "output_type": "stream",
     "text": [
      "Welcome to the office Sanju\n"
     ]
    }
   ],
   "source": [
    "greet(\"Sanju\")"
   ]
  },
  {
   "cell_type": "code",
   "execution_count": 23,
   "id": "785d6680-c230-4b92-9448-5778b1981ba1",
   "metadata": {},
   "outputs": [
    {
     "name": "stdout",
     "output_type": "stream",
     "text": [
      "Welcome to the office Sanju\n"
     ]
    },
    {
     "ename": "TypeError",
     "evalue": "unsupported operand type(s) for +: 'NoneType' and 'str'",
     "output_type": "error",
     "traceback": [
      "\u001b[0;31m---------------------------------------------------------------------------\u001b[0m",
      "\u001b[0;31mTypeError\u001b[0m                                 Traceback (most recent call last)",
      "Cell \u001b[0;32mIn[23], line 1\u001b[0m\n\u001b[0;32m----> 1\u001b[0m \u001b[43mgreet\u001b[49m\u001b[43m(\u001b[49m\u001b[38;5;124;43m\"\u001b[39;49m\u001b[38;5;124;43mSanju\u001b[39;49m\u001b[38;5;124;43m\"\u001b[39;49m\u001b[43m)\u001b[49m\u001b[43m \u001b[49m\u001b[38;5;241;43m+\u001b[39;49m\u001b[43m \u001b[49m\u001b[43m(\u001b[49m\u001b[38;5;124;43m\"\u001b[39;49m\u001b[38;5;124;43mHave a good day\u001b[39;49m\u001b[38;5;124;43m\"\u001b[39;49m\u001b[43m)\u001b[49m\n",
      "\u001b[0;31mTypeError\u001b[0m: unsupported operand type(s) for +: 'NoneType' and 'str'"
     ]
    }
   ],
   "source": [
    "greet(\"Sanju\") + (\"Have a good day\")"
   ]
  },
  {
   "cell_type": "code",
   "execution_count": 28,
   "id": "e3aa5256-dc99-48d8-9ae5-6a450f4aa7a9",
   "metadata": {},
   "outputs": [
    {
     "name": "stdout",
     "output_type": "stream",
     "text": [
      "Welcome to the office Harsh\n"
     ]
    },
    {
     "ename": "TypeError",
     "evalue": "unsupported operand type(s) for +: 'NoneType' and 'str'",
     "output_type": "error",
     "traceback": [
      "\u001b[0;31m---------------------------------------------------------------------------\u001b[0m",
      "\u001b[0;31mTypeError\u001b[0m                                 Traceback (most recent call last)",
      "Cell \u001b[0;32mIn[28], line 1\u001b[0m\n\u001b[0;32m----> 1\u001b[0m \u001b[43mgreet\u001b[49m\u001b[43m(\u001b[49m\u001b[38;5;124;43m\"\u001b[39;49m\u001b[38;5;124;43mHarsh\u001b[39;49m\u001b[38;5;124;43m\"\u001b[39;49m\u001b[43m)\u001b[49m\u001b[43m \u001b[49m\u001b[38;5;241;43m+\u001b[39;49m\u001b[43m \u001b[49m\u001b[38;5;124;43m\"\u001b[39;49m\u001b[38;5;124;43mHave a nice day\u001b[39;49m\u001b[38;5;124;43m\"\u001b[39;49m\n",
      "\u001b[0;31mTypeError\u001b[0m: unsupported operand type(s) for +: 'NoneType' and 'str'"
     ]
    }
   ],
   "source": [
    "greet(\"Harsh\") + \"Have a nice day\""
   ]
  },
  {
   "cell_type": "code",
   "execution_count": 45,
   "id": "33e3ded9-aa51-4710-a060-1adda157c685",
   "metadata": {},
   "outputs": [
    {
     "data": {
      "text/plain": [
       "('Welcome to the office', 1, 45, 189, 'Indore', (5+6j))"
      ]
     },
     "execution_count": 45,
     "metadata": {},
     "output_type": "execute_result"
    }
   ],
   "source": [
    "def greet():\n",
    "    return \"Welcome to the office\",1,45,189,\"Indore\",5+6j\n",
    "\n",
    "greet()"
   ]
  },
  {
   "cell_type": "code",
   "execution_count": 52,
   "id": "e6982d98-09bf-491a-8c9c-1d7ac0429092",
   "metadata": {},
   "outputs": [],
   "source": [
    "a,b,c,d,e,f = greet()"
   ]
  },
  {
   "cell_type": "code",
   "execution_count": 47,
   "id": "4a6f9aee-c93f-4b5d-9b92-65429ae422b7",
   "metadata": {},
   "outputs": [
    {
     "data": {
      "text/plain": [
       "'Welcome to the office'"
      ]
     },
     "execution_count": 47,
     "metadata": {},
     "output_type": "execute_result"
    }
   ],
   "source": [
    "a"
   ]
  },
  {
   "cell_type": "code",
   "execution_count": 48,
   "id": "0374f5a8-6917-4bc8-82b5-e51915824a54",
   "metadata": {},
   "outputs": [
    {
     "data": {
      "text/plain": [
       "1"
      ]
     },
     "execution_count": 48,
     "metadata": {},
     "output_type": "execute_result"
    }
   ],
   "source": [
    "b"
   ]
  },
  {
   "cell_type": "code",
   "execution_count": 50,
   "id": "cfbad937-80e5-4182-826b-14bfad9e173e",
   "metadata": {},
   "outputs": [
    {
     "data": {
      "text/plain": [
       "'Indore'"
      ]
     },
     "execution_count": 50,
     "metadata": {},
     "output_type": "execute_result"
    }
   ],
   "source": [
    "e"
   ]
  },
  {
   "cell_type": "markdown",
   "id": "985b317b-c09f-4827-af20-0883620a94c8",
   "metadata": {},
   "source": [
    "##### "
   ]
  },
  {
   "cell_type": "code",
   "execution_count": 68,
   "id": "950bd142-b3b2-4265-b09e-2cda1d56aff6",
   "metadata": {},
   "outputs": [],
   "source": [
    "def abcd():\n",
    "    math = 2+3+8+9*7\n",
    "    return math"
   ]
  },
  {
   "cell_type": "code",
   "execution_count": 69,
   "id": "4de81483-ca1b-4099-9b69-4a48794eedf7",
   "metadata": {},
   "outputs": [
    {
     "data": {
      "text/plain": [
       "76"
      ]
     },
     "execution_count": 69,
     "metadata": {},
     "output_type": "execute_result"
    }
   ],
   "source": [
    "abcd()"
   ]
  },
  {
   "cell_type": "code",
   "execution_count": 70,
   "id": "b92c80fa-1ec3-45e1-b5e6-b34a339d98ce",
   "metadata": {},
   "outputs": [
    {
     "data": {
      "text/plain": [
       "int"
      ]
     },
     "execution_count": 70,
     "metadata": {},
     "output_type": "execute_result"
    }
   ],
   "source": [
    "type(abcd())"
   ]
  },
  {
   "cell_type": "code",
   "execution_count": 71,
   "id": "db766125-00cc-4e7f-b346-29a4246d0680",
   "metadata": {},
   "outputs": [
    {
     "data": {
      "text/plain": [
       "25"
      ]
     },
     "execution_count": 71,
     "metadata": {},
     "output_type": "execute_result"
    }
   ],
   "source": [
    "5*5"
   ]
  },
  {
   "cell_type": "code",
   "execution_count": 78,
   "id": "93e73ad0-aa6c-47a2-9f97-53218ed8e290",
   "metadata": {},
   "outputs": [],
   "source": [
    "def con(a , b):\n",
    "    return a + b"
   ]
  },
  {
   "cell_type": "code",
   "execution_count": 79,
   "id": "d1395126-22fd-4776-992e-7d5c68421d96",
   "metadata": {},
   "outputs": [
    {
     "ename": "TypeError",
     "evalue": "con() missing 1 required positional argument: 'b'",
     "output_type": "error",
     "traceback": [
      "\u001b[0;31m---------------------------------------------------------------------------\u001b[0m",
      "\u001b[0;31mTypeError\u001b[0m                                 Traceback (most recent call last)",
      "Cell \u001b[0;32mIn[79], line 1\u001b[0m\n\u001b[0;32m----> 1\u001b[0m \u001b[43mcon\u001b[49m\u001b[43m(\u001b[49m\u001b[38;5;241;43m5\u001b[39;49m\u001b[43m \u001b[49m\u001b[38;5;241;43m+\u001b[39;49m\u001b[43m \u001b[49m\u001b[38;5;241;43m6\u001b[39;49m\u001b[43m)\u001b[49m\n",
      "\u001b[0;31mTypeError\u001b[0m: con() missing 1 required positional argument: 'b'"
     ]
    }
   ],
   "source": [
    "con(5 + 6)"
   ]
  },
  {
   "cell_type": "code",
   "execution_count": 80,
   "id": "68660262-3666-4eea-a4bf-627bd8f8b0d1",
   "metadata": {},
   "outputs": [],
   "source": [
    "def add(a,b):\n",
    "    return a+b"
   ]
  },
  {
   "cell_type": "code",
   "execution_count": 82,
   "id": "50b93191-3535-49ec-bc1e-b7a0e26c0f3c",
   "metadata": {},
   "outputs": [
    {
     "data": {
      "text/plain": [
       "11"
      ]
     },
     "execution_count": 82,
     "metadata": {},
     "output_type": "execute_result"
    }
   ],
   "source": [
    "add(5,6)"
   ]
  },
  {
   "cell_type": "code",
   "execution_count": 86,
   "id": "88b94ce7-da90-46ec-b6e0-33d9adfc3273",
   "metadata": {},
   "outputs": [
    {
     "data": {
      "text/plain": [
       "'Pooja'"
      ]
     },
     "execution_count": 86,
     "metadata": {},
     "output_type": "execute_result"
    }
   ],
   "source": [
    "add(\"Poo\" , \"ja\")"
   ]
  },
  {
   "cell_type": "code",
   "execution_count": 87,
   "id": "190e1a30-e479-476b-8fbd-af53ff1b05a7",
   "metadata": {},
   "outputs": [
    {
     "data": {
      "text/plain": [
       "[1, 2, 3, 4, 5, 6]"
      ]
     },
     "execution_count": 87,
     "metadata": {},
     "output_type": "execute_result"
    }
   ],
   "source": [
    "add([1,2,3,],[4,5,6])"
   ]
  },
  {
   "cell_type": "code",
   "execution_count": 88,
   "id": "c7d052af-8d26-438f-8c2e-75fc64c85187",
   "metadata": {},
   "outputs": [
    {
     "data": {
      "text/plain": [
       "('Welcome to the office', 1, 45, 189, 'Indore', (5+6j))"
      ]
     },
     "execution_count": 88,
     "metadata": {},
     "output_type": "execute_result"
    }
   ],
   "source": [
    "greet()"
   ]
  },
  {
   "cell_type": "code",
   "execution_count": 2,
   "id": "d134e3df-9992-42f5-81dd-6c6e4ea29085",
   "metadata": {},
   "outputs": [
    {
     "ename": "NameError",
     "evalue": "name 'add' is not defined",
     "output_type": "error",
     "traceback": [
      "\u001b[0;31m---------------------------------------------------------------------------\u001b[0m",
      "\u001b[0;31mNameError\u001b[0m                                 Traceback (most recent call last)",
      "Cell \u001b[0;32mIn[2], line 1\u001b[0m\n\u001b[0;32m----> 1\u001b[0m \u001b[43madd\u001b[49m(b \u001b[38;5;241m=\u001b[39m \u001b[38;5;124m\"\u001b[39m\u001b[38;5;124mskills\u001b[39m\u001b[38;5;124m\"\u001b[39m , a\u001b[38;5;241m=\u001b[39m \u001b[38;5;124m\"\u001b[39m\u001b[38;5;124mpw\u001b[39m\u001b[38;5;124m\"\u001b[39m)\n",
      "\u001b[0;31mNameError\u001b[0m: name 'add' is not defined"
     ]
    }
   ],
   "source": [
    "add(b = \"skills\" , a= \"pw\")"
   ]
  },
  {
   "cell_type": "code",
   "execution_count": 3,
   "id": "6d4e24fb-451b-45e6-a6c4-fb5d44f19efa",
   "metadata": {},
   "outputs": [
    {
     "ename": "NameError",
     "evalue": "name 'add' is not defined",
     "output_type": "error",
     "traceback": [
      "\u001b[0;31m---------------------------------------------------------------------------\u001b[0m",
      "\u001b[0;31mNameError\u001b[0m                                 Traceback (most recent call last)",
      "Cell \u001b[0;32mIn[3], line 1\u001b[0m\n\u001b[0;32m----> 1\u001b[0m \u001b[43madd\u001b[49m(b \u001b[38;5;241m=\u001b[39m \u001b[38;5;124m\"\u001b[39m\u001b[38;5;124mskills\u001b[39m\u001b[38;5;124m\"\u001b[39m , a\u001b[38;5;241m=\u001b[39m \u001b[38;5;124m\"\u001b[39m\u001b[38;5;124mpw\u001b[39m\u001b[38;5;124m\"\u001b[39m)\n",
      "\u001b[0;31mNameError\u001b[0m: name 'add' is not defined"
     ]
    }
   ],
   "source": [
    "add(b = \"skills\" , a= \"pw\")"
   ]
  },
  {
   "cell_type": "code",
   "execution_count": 4,
   "id": "7a07272d-b05c-4eef-b6d2-1fb96a929dd1",
   "metadata": {},
   "outputs": [],
   "source": [
    "def add(a,b):\n",
    "    return a+b"
   ]
  },
  {
   "cell_type": "code",
   "execution_count": 5,
   "id": "a61fa924-1723-44ec-9cee-286e4d54cb70",
   "metadata": {},
   "outputs": [
    {
     "data": {
      "text/plain": [
       "'pwskills'"
      ]
     },
     "execution_count": 5,
     "metadata": {},
     "output_type": "execute_result"
    }
   ],
   "source": [
    "add(b = \"skills\" , a= \"pw\")"
   ]
  },
  {
   "cell_type": "code",
   "execution_count": 3,
   "id": "0b03410c-c702-4e75-bd05-16f07ea85309",
   "metadata": {},
   "outputs": [],
   "source": [
    "def add_three_number():\n",
    "    a = int(input(\"Enter first number\"))\n",
    "    b = int(input(\"Enter second number\"))\n",
    "    c = int(input(\"Enter third number\"))\n",
    "    return a+b+c "
   ]
  },
  {
   "cell_type": "code",
   "execution_count": 4,
   "id": "aded46ed-8a26-4a41-a9ee-da0a67f1a519",
   "metadata": {},
   "outputs": [
    {
     "name": "stdin",
     "output_type": "stream",
     "text": [
      "Enter first number 50\n",
      "Enter second number 20\n",
      "Enter third number 89\n"
     ]
    },
    {
     "data": {
      "text/plain": [
       "159"
      ]
     },
     "execution_count": 4,
     "metadata": {},
     "output_type": "execute_result"
    }
   ],
   "source": [
    "add_three_number()"
   ]
  },
  {
   "cell_type": "code",
   "execution_count": 13,
   "id": "d3a41455-6c66-403e-a3d6-517c07148d40",
   "metadata": {},
   "outputs": [],
   "source": [
    "def list_to_number(a):\n",
    "    n = []\n",
    "    for i in a:\n",
    "        if type(i) == int or type(i) == float:\n",
    "            n.append(i)\n",
    "    return n"
   ]
  },
  {
   "cell_type": "code",
   "execution_count": 11,
   "id": "47841e2f-d8dc-499a-8d08-92a94ba47719",
   "metadata": {},
   "outputs": [
    {
     "data": {
      "text/plain": [
       "[1, 2, 45.8]"
      ]
     },
     "execution_count": 11,
     "metadata": {},
     "output_type": "execute_result"
    }
   ],
   "source": [
    "list_to_number([1,2,45.8,\"Indore\",\"True\"])"
   ]
  },
  {
   "cell_type": "code",
   "execution_count": 25,
   "id": "c1691534-7f9d-49d2-8d85-93c86f6ad29b",
   "metadata": {},
   "outputs": [],
   "source": [
    "def list_to_number(a):\n",
    "    n = []\n",
    "    for i in a:\n",
    "        if type(i) == list:\n",
    "            for j in i:\n",
    "                if type(j) == int or type(j) == float:\n",
    "                    n.append(j)\n",
    "    else:\n",
    "        if type(i) == int or type(i) == float  or type(i) == list:\n",
    "            n.append(i)\n",
    "    return n"
   ]
  },
  {
   "cell_type": "code",
   "execution_count": 27,
   "id": "656e95f5-8f57-42f2-9f76-7173e3d5bd09",
   "metadata": {},
   "outputs": [
    {
     "ename": "TypeError",
     "evalue": "list_to_number() takes 1 positional argument but 2 were given",
     "output_type": "error",
     "traceback": [
      "\u001b[0;31m---------------------------------------------------------------------------\u001b[0m",
      "\u001b[0;31mTypeError\u001b[0m                                 Traceback (most recent call last)",
      "Cell \u001b[0;32mIn[27], line 1\u001b[0m\n\u001b[0;32m----> 1\u001b[0m \u001b[43mlist_to_number\u001b[49m\u001b[43m(\u001b[49m\u001b[43m[\u001b[49m\u001b[38;5;241;43m1\u001b[39;49m\u001b[43m,\u001b[49m\u001b[38;5;241;43m2\u001b[39;49m\u001b[43m,\u001b[49m\u001b[38;5;241;43m3\u001b[39;49m\u001b[43m,\u001b[49m\u001b[38;5;124;43m\"\u001b[39;49m\u001b[38;5;124;43mIndore\u001b[39;49m\u001b[38;5;124;43m\"\u001b[39;49m\u001b[43m,\u001b[49m\u001b[38;5;241;43m45.89\u001b[39;49m\u001b[43m]\u001b[49m\u001b[43m,\u001b[49m\u001b[43m[\u001b[49m\u001b[38;5;241;43m123\u001b[39;49m\u001b[43m,\u001b[49m\u001b[38;5;241;43m345\u001b[39;49m\u001b[43m,\u001b[49m\u001b[38;5;241;43m456\u001b[39;49m\u001b[43m]\u001b[49m\u001b[43m)\u001b[49m\n",
      "\u001b[0;31mTypeError\u001b[0m: list_to_number() takes 1 positional argument but 2 were given"
     ]
    }
   ],
   "source": [
    "list_to_number([1,2,3,\"Indore\",45.89],[123,345,456])"
   ]
  },
  {
   "cell_type": "code",
   "execution_count": 38,
   "id": "360e99ca-d05b-4f11-9da5-b64fd1fecf99",
   "metadata": {},
   "outputs": [],
   "source": [
    "def list_to_number(a):\n",
    "    n = []\n",
    "    for i in a:\n",
    "        if type(i) == list:\n",
    "            for j in i:\n",
    "                if type(j) == int or type(j) == float:\n",
    "                    n.append(j)\n",
    "        else:\n",
    "            if type(i) == int or type(i) == float:\n",
    "                n.append(i)\n",
    "        \n",
    "    return n"
   ]
  },
  {
   "cell_type": "code",
   "execution_count": 39,
   "id": "b66278f2-f024-4b20-9335-6552c1b87cac",
   "metadata": {},
   "outputs": [
    {
     "data": {
      "text/plain": [
       "[1, 2, 3, 45.89, 123, 345, 456]"
      ]
     },
     "execution_count": 39,
     "metadata": {},
     "output_type": "execute_result"
    }
   ],
   "source": [
    "list_to_number([1,2,3,\"Indore\",45.89,[123,345,456]])"
   ]
  },
  {
   "cell_type": "code",
   "execution_count": 1,
   "id": "d0abd969-f4a8-46e0-9e4f-92bdae324a15",
   "metadata": {},
   "outputs": [],
   "source": [
    "def addition():\n",
    "    return a+b"
   ]
  },
  {
   "cell_type": "code",
   "execution_count": 2,
   "id": "011c22c8-a7c3-4123-a66b-5b13294ce1ac",
   "metadata": {},
   "outputs": [],
   "source": [
    "a = 9\n",
    "b = 5"
   ]
  },
  {
   "cell_type": "code",
   "execution_count": 3,
   "id": "cb7e3b94-8b5c-4b0a-8b68-492ba525884f",
   "metadata": {},
   "outputs": [
    {
     "data": {
      "text/plain": [
       "14"
      ]
     },
     "execution_count": 3,
     "metadata": {},
     "output_type": "execute_result"
    }
   ],
   "source": [
    "addition()"
   ]
  },
  {
   "cell_type": "code",
   "execution_count": 10,
   "id": "82734920-a3d4-4311-8aa3-27b63c68defe",
   "metadata": {},
   "outputs": [],
   "source": [
    "def only_numericvalue(a):\n",
    "    n = []\n",
    "    for i in a:\n",
    "        if type(i) == list:\n",
    "            for j in i:\n",
    "                if type(j) == int or type(j) == float:\n",
    "                    n.append(j)\n",
    "        else:\n",
    "            if type(i) == int or type(i) == float:\n",
    "                n.append(i)\n",
    "    return(n)"
   ]
  },
  {
   "cell_type": "code",
   "execution_count": 11,
   "id": "5a2486f0-1dc0-4b14-b752-4b6692663cbf",
   "metadata": {},
   "outputs": [
    {
     "data": {
      "text/plain": [
       "[1, 2, 3, 45.89, 123, 345, 456]"
      ]
     },
     "execution_count": 11,
     "metadata": {},
     "output_type": "execute_result"
    }
   ],
   "source": [
    "only_numericvalue([1,2,3,\"Indore\",45.89,[123,345,456]])"
   ]
  },
  {
   "cell_type": "code",
   "execution_count": 12,
   "id": "7c8b5197-a6a8-44b1-a49a-7d9d32c79904",
   "metadata": {},
   "outputs": [],
   "source": [
    "def add(a,b):\n",
    "    return a+b"
   ]
  },
  {
   "cell_type": "code",
   "execution_count": 13,
   "id": "0e3760a5-e26c-484b-9e92-80d2e83433e3",
   "metadata": {},
   "outputs": [
    {
     "data": {
      "text/plain": [
       "11"
      ]
     },
     "execution_count": 13,
     "metadata": {},
     "output_type": "execute_result"
    }
   ],
   "source": [
    "add(5,6)"
   ]
  },
  {
   "cell_type": "code",
   "execution_count": 15,
   "id": "0b6e51ba-6008-4c54-b9b5-c737e9d1a491",
   "metadata": {},
   "outputs": [
    {
     "data": {
      "text/plain": [
       "3"
      ]
     },
     "execution_count": 15,
     "metadata": {},
     "output_type": "execute_result"
    }
   ],
   "source": [
    "add(b=1 , a=2)"
   ]
  },
  {
   "cell_type": "code",
   "execution_count": 16,
   "id": "757af77c-70c8-4c82-b37a-4f7d44624361",
   "metadata": {},
   "outputs": [],
   "source": [
    "def add(*a,b):\n",
    "    return a+b"
   ]
  },
  {
   "cell_type": "code",
   "execution_count": 17,
   "id": "35e4c253-e7cb-4178-8661-1b4acbcd1a52",
   "metadata": {},
   "outputs": [
    {
     "ename": "TypeError",
     "evalue": "add() missing 1 required keyword-only argument: 'b'",
     "output_type": "error",
     "traceback": [
      "\u001b[0;31m---------------------------------------------------------------------------\u001b[0m",
      "\u001b[0;31mTypeError\u001b[0m                                 Traceback (most recent call last)",
      "Cell \u001b[0;32mIn[17], line 1\u001b[0m\n\u001b[0;32m----> 1\u001b[0m \u001b[43madd\u001b[49m\u001b[43m(\u001b[49m\u001b[38;5;241;43m5\u001b[39;49m\u001b[43m,\u001b[49m\u001b[38;5;241;43m6\u001b[39;49m\u001b[43m,\u001b[49m\u001b[38;5;241;43m7\u001b[39;49m\u001b[43m,\u001b[49m\u001b[38;5;241;43m8\u001b[39;49m\u001b[43m,\u001b[49m\u001b[38;5;241;43m9\u001b[39;49m\u001b[43m)\u001b[49m\n",
      "\u001b[0;31mTypeError\u001b[0m: add() missing 1 required keyword-only argument: 'b'"
     ]
    }
   ],
   "source": [
    "add(5,6,7,8,9)"
   ]
  },
  {
   "cell_type": "code",
   "execution_count": 29,
   "id": "31c9282e-e63f-4446-ac90-e6e173fd5a91",
   "metadata": {},
   "outputs": [],
   "source": [
    "def add(*abcd):\n",
    "    s = 0\n",
    "    for i in abcd:\n",
    "        s = s+i\n",
    "    return s"
   ]
  },
  {
   "cell_type": "code",
   "execution_count": 30,
   "id": "1055747e-ec44-4c4c-a022-c1830cfff948",
   "metadata": {},
   "outputs": [
    {
     "data": {
      "text/plain": [
       "55"
      ]
     },
     "execution_count": 30,
     "metadata": {},
     "output_type": "execute_result"
    }
   ],
   "source": [
    "add(1,2,3,4,5,6,7,8,9,10)"
   ]
  },
  {
   "cell_type": "code",
   "execution_count": 3,
   "id": "e9612690-0d24-4ae4-8ac7-11a4f330053f",
   "metadata": {},
   "outputs": [],
   "source": [
    "def add (a,b):\n",
    "    return a+b"
   ]
  },
  {
   "cell_type": "code",
   "execution_count": 5,
   "id": "337f3960-ad5e-4b8a-870b-9d7db0b75d88",
   "metadata": {},
   "outputs": [
    {
     "data": {
      "text/plain": [
       "9"
      ]
     },
     "execution_count": 5,
     "metadata": {},
     "output_type": "execute_result"
    }
   ],
   "source": [
    "add(4,5,)"
   ]
  },
  {
   "cell_type": "code",
   "execution_count": 6,
   "id": "974a3c2b-6a3d-47fa-ab11-13ca7f31d1d6",
   "metadata": {},
   "outputs": [],
   "source": [
    "# Variable argument\n",
    "\n",
    "def run(*abcd,a):\n",
    "    return abcd , a"
   ]
  },
  {
   "cell_type": "code",
   "execution_count": 8,
   "id": "d8f8b6a9-1af7-4a6a-9001-b8bbd68c9330",
   "metadata": {},
   "outputs": [
    {
     "data": {
      "text/plain": [
       "((4, 54, 6, 84746), 'Hello')"
      ]
     },
     "execution_count": 8,
     "metadata": {},
     "output_type": "execute_result"
    }
   ],
   "source": [
    "run(4,54,6,84746,a = \"Hello\")"
   ]
  },
  {
   "cell_type": "code",
   "execution_count": 9,
   "id": "832a970f-641d-4521-8ea5-4e9770ab350a",
   "metadata": {},
   "outputs": [
    {
     "data": {
      "text/plain": [
       "function"
      ]
     },
     "execution_count": 9,
     "metadata": {},
     "output_type": "execute_result"
    }
   ],
   "source": [
    "type(run)"
   ]
  },
  {
   "cell_type": "code",
   "execution_count": 27,
   "id": "6da28196-edb4-48c0-b1b6-91b107f16e4c",
   "metadata": {},
   "outputs": [],
   "source": [
    "def golu(*abcd,):\n",
    "    l = []\n",
    "    for i in abcd:\n",
    "        if type(i) == list:\n",
    "            l.append(i) \n",
    "            return l"
   ]
  },
  {
   "cell_type": "code",
   "execution_count": 28,
   "id": "a3becbdb-7805-40e9-be0d-7160530f5655",
   "metadata": {},
   "outputs": [
    {
     "data": {
      "text/plain": [
       "[[45, 6, 8, 'Hello']]"
      ]
     },
     "execution_count": 28,
     "metadata": {},
     "output_type": "execute_result"
    }
   ],
   "source": [
    "golu(1,2,3,4,5,6,[45,6,8,\"Hello\"])"
   ]
  },
  {
   "cell_type": "code",
   "execution_count": 30,
   "id": "a8e17f57-bff6-48bc-a940-f5f145b3c0a4",
   "metadata": {},
   "outputs": [],
   "source": [
    "def team(name,project):\n",
    "    return f\"{name} is working on {project}\""
   ]
  },
  {
   "cell_type": "code",
   "execution_count": 31,
   "id": "b7a65b37-1e10-4573-a9f8-c444ecdd3ad1",
   "metadata": {},
   "outputs": [
    {
     "ename": "NameError",
     "evalue": "name 'Deepak' is not defined",
     "output_type": "error",
     "traceback": [
      "\u001b[0;31m---------------------------------------------------------------------------\u001b[0m",
      "\u001b[0;31mNameError\u001b[0m                                 Traceback (most recent call last)",
      "Cell \u001b[0;32mIn[31], line 1\u001b[0m\n\u001b[0;32m----> 1\u001b[0m team(\u001b[43mDeepak\u001b[49m,Indore)\n",
      "\u001b[0;31mNameError\u001b[0m: name 'Deepak' is not defined"
     ]
    }
   ],
   "source": [
    "team("
   ]
  },
  {
   "cell_type": "code",
   "execution_count": 34,
   "id": "5c310243-e45b-4a48-abb2-eb3e0c249707",
   "metadata": {},
   "outputs": [],
   "source": [
    "def greet():\n",
    "    message = \"Hello\"\n",
    "    print(message)"
   ]
  },
  {
   "cell_type": "code",
   "execution_count": 35,
   "id": "3b8657ce-869b-4bdf-a8fb-cec32df464ec",
   "metadata": {},
   "outputs": [
    {
     "name": "stdout",
     "output_type": "stream",
     "text": [
      "Hello\n"
     ]
    }
   ],
   "source": [
    "greet()"
   ]
  },
  {
   "cell_type": "code",
   "execution_count": 36,
   "id": "80d426de-3e20-4200-ad13-03802f72cfb1",
   "metadata": {},
   "outputs": [],
   "source": [
    "def greet(name):\n",
    "    return (\"welcome to the office\",name)"
   ]
  },
  {
   "cell_type": "code",
   "execution_count": 38,
   "id": "8f93f60e-4495-4594-8de2-6889bc5fcd61",
   "metadata": {},
   "outputs": [
    {
     "data": {
      "text/plain": [
       "('welcome to the office', 'Harsh')"
      ]
     },
     "execution_count": 38,
     "metadata": {},
     "output_type": "execute_result"
    }
   ],
   "source": [
    "greet(\"Harsh\")"
   ]
  },
  {
   "cell_type": "code",
   "execution_count": 44,
   "id": "a2129a7d-32d2-43e6-9fbb-babe6464b73f",
   "metadata": {},
   "outputs": [],
   "source": [
    "a = \" World\"\n",
    "b = \" How ! are you\"\n",
    "def greet():\n",
    "    message = \"Hello\" + a + b\n",
    "    print(message)"
   ]
  },
  {
   "cell_type": "code",
   "execution_count": 40,
   "id": "e545322b-d6af-41a4-9941-461bf38996e1",
   "metadata": {},
   "outputs": [
    {
     "name": "stdout",
     "output_type": "stream",
     "text": [
      "HelloWorld\n"
     ]
    }
   ],
   "source": [
    "greet()"
   ]
  },
  {
   "cell_type": "code",
   "execution_count": 41,
   "id": "3331d278-ecbe-4245-9d9e-49fa407ed202",
   "metadata": {},
   "outputs": [
    {
     "name": "stdout",
     "output_type": "stream",
     "text": [
      "HelloWorld\n"
     ]
    }
   ],
   "source": [
    "greet()"
   ]
  },
  {
   "cell_type": "code",
   "execution_count": 45,
   "id": "7af1d25d-7574-4f71-ad9f-5eb54ed37ebc",
   "metadata": {},
   "outputs": [
    {
     "name": "stdout",
     "output_type": "stream",
     "text": [
      "Hello World How ! are you\n"
     ]
    }
   ],
   "source": [
    "greet()"
   ]
  },
  {
   "cell_type": "code",
   "execution_count": null,
   "id": "e071f02f-f285-4fee-99bf-ebd2a25f4d06",
   "metadata": {},
   "outputs": [],
   "source": [
    "def print_details(**kwargs):\n",
    "    for key, value in kwargs.items():\n",
    "        print(f\"{key}: {value}\")"
   ]
  }
 ],
 "metadata": {
  "kernelspec": {
   "display_name": "Python 3 (ipykernel)",
   "language": "python",
   "name": "python3"
  },
  "language_info": {
   "codemirror_mode": {
    "name": "ipython",
    "version": 3
   },
   "file_extension": ".py",
   "mimetype": "text/x-python",
   "name": "python",
   "nbconvert_exporter": "python",
   "pygments_lexer": "ipython3",
   "version": "3.10.8"
  }
 },
 "nbformat": 4,
 "nbformat_minor": 5
}
