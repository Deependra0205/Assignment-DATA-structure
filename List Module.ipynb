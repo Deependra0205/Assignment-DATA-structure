{
 "cells": [
  {
   "cell_type": "code",
   "execution_count": 1,
   "id": "7e45eba7-2468-44a6-8845-5f545c7eb0c8",
   "metadata": {},
   "outputs": [
    {
     "data": {
      "text/plain": [
       "['Mango', 'Banana', 'Grapes', 'Orange']"
      ]
     },
     "execution_count": 1,
     "metadata": {},
     "output_type": "execute_result"
    }
   ],
   "source": [
    "Fruits_list = [\"Mango\",\"Banana\",\"Grapes\",\"Orange\"]\n",
    "Fruits_list"
   ]
  },
  {
   "cell_type": "code",
   "execution_count": 2,
   "id": "516a9d87-9d6f-42ef-83dd-c8ce9992b8e2",
   "metadata": {},
   "outputs": [
    {
     "data": {
      "text/plain": [
       "'Grapes'"
      ]
     },
     "execution_count": 2,
     "metadata": {},
     "output_type": "execute_result"
    }
   ],
   "source": [
    "Fruits_list[2]"
   ]
  },
  {
   "cell_type": "code",
   "execution_count": 3,
   "id": "a322177d-ee45-4a3e-bd63-3e9fc6339a02",
   "metadata": {},
   "outputs": [],
   "source": [
    "Fruits_list[2] = \"Apple\""
   ]
  },
  {
   "cell_type": "code",
   "execution_count": 4,
   "id": "1caa2222-909f-44a7-83d2-befb0b7887da",
   "metadata": {},
   "outputs": [
    {
     "data": {
      "text/plain": [
       "['Mango', 'Banana', 'Apple', 'Orange']"
      ]
     },
     "execution_count": 4,
     "metadata": {},
     "output_type": "execute_result"
    }
   ],
   "source": [
    "Fruits_list"
   ]
  },
  {
   "cell_type": "code",
   "execution_count": 6,
   "id": "75f5a738-45f1-47a1-93a4-d47a1393bed6",
   "metadata": {},
   "outputs": [],
   "source": [
    "Fruits_list.append(\"Grapes\")"
   ]
  },
  {
   "cell_type": "code",
   "execution_count": 7,
   "id": "b60b51ca-e4a4-490e-99e6-3ef692ca6ac2",
   "metadata": {},
   "outputs": [
    {
     "data": {
      "text/plain": [
       "['Mango', 'Banana', 'Apple', 'Orange', 'Grapes']"
      ]
     },
     "execution_count": 7,
     "metadata": {},
     "output_type": "execute_result"
    }
   ],
   "source": [
    "Fruits_list"
   ]
  },
  {
   "cell_type": "code",
   "execution_count": 9,
   "id": "5ccba241-4a9e-4ea7-b87d-4d92bc7cfa02",
   "metadata": {},
   "outputs": [],
   "source": [
    "Fruits_list.insert(2,\"watermelon\")"
   ]
  },
  {
   "cell_type": "code",
   "execution_count": 10,
   "id": "db6247b0-9131-4d2f-b250-a7fb143a295d",
   "metadata": {},
   "outputs": [
    {
     "data": {
      "text/plain": [
       "['Mango', 'Banana', 'watermelon', 'Apple', 'Orange', 'Grapes']"
      ]
     },
     "execution_count": 10,
     "metadata": {},
     "output_type": "execute_result"
    }
   ],
   "source": [
    "Fruits_list"
   ]
  },
  {
   "cell_type": "code",
   "execution_count": 11,
   "id": "cfbab604-7c6c-4346-b1af-262ca5c2d729",
   "metadata": {},
   "outputs": [],
   "source": [
    "Veg_list = [\"Potato\",\"Tomato\",\"Spinach\"]"
   ]
  },
  {
   "cell_type": "code",
   "execution_count": 12,
   "id": "9404242b-acf7-4185-812d-c9f3e8095444",
   "metadata": {},
   "outputs": [
    {
     "data": {
      "text/plain": [
       "['Potato', 'Tomato', 'Spinach']"
      ]
     },
     "execution_count": 12,
     "metadata": {},
     "output_type": "execute_result"
    }
   ],
   "source": [
    "Veg_list"
   ]
  },
  {
   "cell_type": "code",
   "execution_count": 13,
   "id": "8c809ccd-a16e-4ae9-bba3-c3a758d04ede",
   "metadata": {},
   "outputs": [],
   "source": [
    "Fruits_list.extend(Veg_list)"
   ]
  },
  {
   "cell_type": "code",
   "execution_count": 14,
   "id": "49b80459-38d6-4fca-8ef0-edf64fe2af07",
   "metadata": {},
   "outputs": [
    {
     "data": {
      "text/plain": [
       "['Mango',\n",
       " 'Banana',\n",
       " 'watermelon',\n",
       " 'Apple',\n",
       " 'Orange',\n",
       " 'Grapes',\n",
       " 'Potato',\n",
       " 'Tomato',\n",
       " 'Spinach']"
      ]
     },
     "execution_count": 14,
     "metadata": {},
     "output_type": "execute_result"
    }
   ],
   "source": [
    "Fruits_list"
   ]
  },
  {
   "cell_type": "code",
   "execution_count": 15,
   "id": "95d6a03d-0cff-4be9-980c-e06ff8b9886d",
   "metadata": {},
   "outputs": [],
   "source": [
    "Fruits_list = [\"Mango\",\"Banana\",\"Grapes\",\"Orange\"]"
   ]
  },
  {
   "cell_type": "code",
   "execution_count": 16,
   "id": "eaa9de32-f190-4aae-81dc-e92784114bde",
   "metadata": {},
   "outputs": [
    {
     "data": {
      "text/plain": [
       "['Mango', 'Banana', 'Grapes', 'Orange', 'Potato', 'Tomato', 'Spinach']"
      ]
     },
     "execution_count": 16,
     "metadata": {},
     "output_type": "execute_result"
    }
   ],
   "source": [
    "Fruits_list + Veg_list"
   ]
  },
  {
   "cell_type": "code",
   "execution_count": 17,
   "id": "e4f534f0-57ae-4631-938c-cdbab7bad9d0",
   "metadata": {},
   "outputs": [
    {
     "data": {
      "text/plain": [
       "['Potato', 'Tomato', 'Spinach']"
      ]
     },
     "execution_count": 17,
     "metadata": {},
     "output_type": "execute_result"
    }
   ],
   "source": [
    "Veg_list"
   ]
  },
  {
   "cell_type": "code",
   "execution_count": 18,
   "id": "a6445bd6-7aac-423e-862e-e53173fe6465",
   "metadata": {},
   "outputs": [
    {
     "data": {
      "text/plain": [
       "[0, 1, 2, 3, 4, 5, 6, 7, 8, 9]"
      ]
     },
     "execution_count": 18,
     "metadata": {},
     "output_type": "execute_result"
    }
   ],
   "source": [
    "list(range(10))"
   ]
  },
  {
   "cell_type": "code",
   "execution_count": 19,
   "id": "f5717d15-5044-4a3a-9e99-7f858db5742a",
   "metadata": {},
   "outputs": [
    {
     "data": {
      "text/plain": [
       "[0,\n",
       " 1,\n",
       " 2,\n",
       " 3,\n",
       " 4,\n",
       " 5,\n",
       " 6,\n",
       " 7,\n",
       " 8,\n",
       " 9,\n",
       " 0,\n",
       " 1,\n",
       " 2,\n",
       " 3,\n",
       " 4,\n",
       " 5,\n",
       " 6,\n",
       " 7,\n",
       " 8,\n",
       " 9,\n",
       " 0,\n",
       " 1,\n",
       " 2,\n",
       " 3,\n",
       " 4,\n",
       " 5,\n",
       " 6,\n",
       " 7,\n",
       " 8,\n",
       " 9]"
      ]
     },
     "execution_count": 19,
     "metadata": {},
     "output_type": "execute_result"
    }
   ],
   "source": [
    "list(range(10))*3"
   ]
  },
  {
   "cell_type": "code",
   "execution_count": 23,
   "id": "199c8b20-cda9-431a-a46e-988ec34a6495",
   "metadata": {},
   "outputs": [
    {
     "data": {
      "text/plain": [
       "['Mango',\n",
       " 'Banana',\n",
       " 'Grapes',\n",
       " 'Orange',\n",
       " 'Mango',\n",
       " 'Banana',\n",
       " 'Grapes',\n",
       " 'Orange',\n",
       " 'Mango',\n",
       " 'Banana',\n",
       " 'Grapes',\n",
       " 'Orange']"
      ]
     },
     "execution_count": 23,
     "metadata": {},
     "output_type": "execute_result"
    }
   ],
   "source": [
    "Fruits_list * 3"
   ]
  },
  {
   "cell_type": "code",
   "execution_count": 26,
   "id": "f70d15b2-08c7-4b47-81db-43cd97d69332",
   "metadata": {},
   "outputs": [
    {
     "data": {
      "text/plain": [
       "['Mango', 'Banana', 'Grapes', 'Orange']"
      ]
     },
     "execution_count": 26,
     "metadata": {},
     "output_type": "execute_result"
    }
   ],
   "source": [
    "Fruits_list"
   ]
  },
  {
   "cell_type": "code",
   "execution_count": 25,
   "id": "82ef146c-e67b-4840-8e42-40e99050beda",
   "metadata": {},
   "outputs": [
    {
     "data": {
      "text/plain": [
       "False"
      ]
     },
     "execution_count": 25,
     "metadata": {},
     "output_type": "execute_result"
    }
   ],
   "source": [
    "\"Apple\" in Fruits_list"
   ]
  },
  {
   "cell_type": "code",
   "execution_count": 28,
   "id": "9c9bc016-95e8-4f54-bf77-84b73eed185a",
   "metadata": {},
   "outputs": [
    {
     "data": {
      "text/plain": [
       "4"
      ]
     },
     "execution_count": 28,
     "metadata": {},
     "output_type": "execute_result"
    }
   ],
   "source": [
    "len(Fruits_list)"
   ]
  },
  {
   "cell_type": "code",
   "execution_count": 29,
   "id": "312115df-5c6e-4b0b-a1e8-c52894ce1618",
   "metadata": {},
   "outputs": [
    {
     "data": {
      "text/plain": [
       "['Banana', 'Grapes', 'Mango', 'Orange']"
      ]
     },
     "execution_count": 29,
     "metadata": {},
     "output_type": "execute_result"
    }
   ],
   "source": [
    "sorted(Fruits_list)"
   ]
  },
  {
   "cell_type": "code",
   "execution_count": 31,
   "id": "371ea27d-eb64-4b65-8fd2-5c057381d3a0",
   "metadata": {},
   "outputs": [],
   "source": [
    "del Fruits_list"
   ]
  },
  {
   "cell_type": "code",
   "execution_count": 32,
   "id": "aad6f8a6-dea4-4e48-b51c-fca0ac77d15a",
   "metadata": {},
   "outputs": [
    {
     "ename": "NameError",
     "evalue": "name 'Fruits_list' is not defined",
     "output_type": "error",
     "traceback": [
      "\u001b[0;31m---------------------------------------------------------------------------\u001b[0m",
      "\u001b[0;31mNameError\u001b[0m                                 Traceback (most recent call last)",
      "Cell \u001b[0;32mIn[32], line 1\u001b[0m\n\u001b[0;32m----> 1\u001b[0m \u001b[43mFruits_list\u001b[49m\n",
      "\u001b[0;31mNameError\u001b[0m: name 'Fruits_list' is not defined"
     ]
    }
   ],
   "source": [
    "Fruits_list"
   ]
  },
  {
   "cell_type": "code",
   "execution_count": 33,
   "id": "016573e0-e48d-40aa-a387-8e7568488e24",
   "metadata": {},
   "outputs": [],
   "source": [
    "Fruits_list = [\"Mango\",\"Banana\",\"Grapes\",\"Orange\"]"
   ]
  },
  {
   "cell_type": "code",
   "execution_count": 34,
   "id": "b4882aed-9379-41b6-9446-658428c37235",
   "metadata": {},
   "outputs": [
    {
     "data": {
      "text/plain": [
       "['Mango', 'Banana', 'Grapes', 'Orange']"
      ]
     },
     "execution_count": 34,
     "metadata": {},
     "output_type": "execute_result"
    }
   ],
   "source": [
    "Fruits_list"
   ]
  },
  {
   "cell_type": "code",
   "execution_count": 39,
   "id": "0d50a3f4-9bcc-4297-bd4e-16a8e48dc08e",
   "metadata": {},
   "outputs": [
    {
     "data": {
      "text/plain": [
       "[]"
      ]
     },
     "execution_count": 39,
     "metadata": {},
     "output_type": "execute_result"
    }
   ],
   "source": [
    "Fruits_list"
   ]
  },
  {
   "cell_type": "code",
   "execution_count": 36,
   "id": "dbd59fdf-2979-4f34-af92-27d2cc9197bf",
   "metadata": {},
   "outputs": [
    {
     "data": {
      "text/plain": [
       "[]"
      ]
     },
     "execution_count": 36,
     "metadata": {},
     "output_type": "execute_result"
    }
   ],
   "source": [
    "Fruits_list"
   ]
  },
  {
   "cell_type": "code",
   "execution_count": 40,
   "id": "d324a4fb-1a12-4b19-97b9-ac16b225bb8a",
   "metadata": {},
   "outputs": [],
   "source": [
    "Fruits_list = [\"Mango\",\"Banana\",\"Grapes\",\"Orange\"]"
   ]
  },
  {
   "cell_type": "code",
   "execution_count": 41,
   "id": "8f8c0c04-91da-4c57-8f05-1e30a4327228",
   "metadata": {},
   "outputs": [
    {
     "data": {
      "text/plain": [
       "'Orange'"
      ]
     },
     "execution_count": 41,
     "metadata": {},
     "output_type": "execute_result"
    }
   ],
   "source": [
    "Fruits_list.pop()"
   ]
  },
  {
   "cell_type": "code",
   "execution_count": 42,
   "id": "29b506cb-0b8f-49d4-930c-9a5e9e16b9e2",
   "metadata": {},
   "outputs": [
    {
     "data": {
      "text/plain": [
       "['Mango', 'Banana', 'Grapes']"
      ]
     },
     "execution_count": 42,
     "metadata": {},
     "output_type": "execute_result"
    }
   ],
   "source": [
    "Fruits_list"
   ]
  },
  {
   "cell_type": "code",
   "execution_count": 44,
   "id": "70a5fe95-ad98-4300-8308-ee01f5f3fccf",
   "metadata": {},
   "outputs": [
    {
     "data": {
      "text/plain": [
       "'Grapes'"
      ]
     },
     "execution_count": 44,
     "metadata": {},
     "output_type": "execute_result"
    }
   ],
   "source": [
    "Fruits_list.pop(-1)"
   ]
  },
  {
   "cell_type": "code",
   "execution_count": 45,
   "id": "d8196828-acde-46c1-b092-a74b6c5ff359",
   "metadata": {},
   "outputs": [
    {
     "data": {
      "text/plain": [
       "['Mango', 'Banana']"
      ]
     },
     "execution_count": 45,
     "metadata": {},
     "output_type": "execute_result"
    }
   ],
   "source": [
    "Fruits_list"
   ]
  },
  {
   "cell_type": "code",
   "execution_count": null,
   "id": "7d34ebc1-6f2c-43ec-9d37-591c1da2d3a6",
   "metadata": {},
   "outputs": [],
   "source": []
  }
 ],
 "metadata": {
  "kernelspec": {
   "display_name": "Python 3 (ipykernel)",
   "language": "python",
   "name": "python3"
  },
  "language_info": {
   "codemirror_mode": {
    "name": "ipython",
    "version": 3
   },
   "file_extension": ".py",
   "mimetype": "text/x-python",
   "name": "python",
   "nbconvert_exporter": "python",
   "pygments_lexer": "ipython3",
   "version": "3.10.8"
  }
 },
 "nbformat": 4,
 "nbformat_minor": 5
}
