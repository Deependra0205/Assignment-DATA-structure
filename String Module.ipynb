{
 "cells": [
  {
   "cell_type": "code",
   "execution_count": 1,
   "id": "7f775953-de26-48b3-bf14-8ad1f436286c",
   "metadata": {},
   "outputs": [],
   "source": [
    "# String Module"
   ]
  },
  {
   "cell_type": "code",
   "execution_count": 2,
   "id": "0946393f-2ca6-4633-8f2a-9dbd753baa44",
   "metadata": {},
   "outputs": [],
   "source": [
    "#ASCII representation\n",
    "char=\"A\""
   ]
  },
  {
   "cell_type": "code",
   "execution_count": 3,
   "id": "56f3adad-78ca-4482-8742-22d4a46f1e87",
   "metadata": {},
   "outputs": [
    {
     "data": {
      "text/plain": [
       "'A'"
      ]
     },
     "execution_count": 3,
     "metadata": {},
     "output_type": "execute_result"
    }
   ],
   "source": [
    "char"
   ]
  },
  {
   "cell_type": "code",
   "execution_count": 4,
   "id": "ba57d66d-bb6a-4db9-8598-ff229f58b5ec",
   "metadata": {},
   "outputs": [
    {
     "data": {
      "text/plain": [
       "65"
      ]
     },
     "execution_count": 4,
     "metadata": {},
     "output_type": "execute_result"
    }
   ],
   "source": [
    "ord(char)"
   ]
  },
  {
   "cell_type": "code",
   "execution_count": 8,
   "id": "5e6a8a2b-6a69-4314-ae2c-7a4e3066e0eb",
   "metadata": {},
   "outputs": [
    {
     "data": {
      "text/plain": [
       "'A'"
      ]
     },
     "execution_count": 8,
     "metadata": {},
     "output_type": "execute_result"
    }
   ],
   "source": [
    "chr(65)"
   ]
  },
  {
   "cell_type": "code",
   "execution_count": 12,
   "id": "fb19955f-0018-4471-9348-f9e288e8dacf",
   "metadata": {},
   "outputs": [
    {
     "data": {
      "text/plain": [
       "70"
      ]
     },
     "execution_count": 12,
     "metadata": {},
     "output_type": "execute_result"
    }
   ],
   "source": [
    "ord(\"F\")"
   ]
  },
  {
   "cell_type": "code",
   "execution_count": 14,
   "id": "eeb98c68-ba26-4153-9f26-e888a561b5a4",
   "metadata": {},
   "outputs": [
    {
     "data": {
      "text/plain": [
       "'Z'"
      ]
     },
     "execution_count": 14,
     "metadata": {},
     "output_type": "execute_result"
    }
   ],
   "source": [
    "chr(90)"
   ]
  },
  {
   "cell_type": "code",
   "execution_count": 16,
   "id": "1b57c2fc-2486-4672-b65a-cfab24bba78e",
   "metadata": {},
   "outputs": [],
   "source": [
    "#UNICODE represenatation"
   ]
  },
  {
   "cell_type": "code",
   "execution_count": 17,
   "id": "89ee3bb3-2930-41c1-b676-782d27dbf86d",
   "metadata": {},
   "outputs": [
    {
     "data": {
      "text/plain": [
       "'Ω'"
      ]
     },
     "execution_count": 17,
     "metadata": {},
     "output_type": "execute_result"
    }
   ],
   "source": [
    "'\\u03A9'"
   ]
  },
  {
   "cell_type": "code",
   "execution_count": 18,
   "id": "510c8b47-4004-4d6b-8ec2-529936cb9e84",
   "metadata": {},
   "outputs": [
    {
     "data": {
      "text/plain": [
       "'ࡅ'"
      ]
     },
     "execution_count": 18,
     "metadata": {},
     "output_type": "execute_result"
    }
   ],
   "source": [
    "'\\u0845'"
   ]
  },
  {
   "cell_type": "code",
   "execution_count": 19,
   "id": "50e03459-7fba-4c11-87ad-2396f9d3d4d8",
   "metadata": {},
   "outputs": [
    {
     "ename": "SyntaxError",
     "evalue": "unterminated string literal (detected at line 1) (2178431395.py, line 1)",
     "output_type": "error",
     "traceback": [
      "\u001b[0;36m  Cell \u001b[0;32mIn[19], line 1\u001b[0;36m\u001b[0m\n\u001b[0;31m    'I'm a student'\u001b[0m\n\u001b[0m                  ^\u001b[0m\n\u001b[0;31mSyntaxError\u001b[0m\u001b[0;31m:\u001b[0m unterminated string literal (detected at line 1)\n"
     ]
    }
   ],
   "source": [
    "'I'm a student'"
   ]
  },
  {
   "cell_type": "code",
   "execution_count": 20,
   "id": "0f2e93bb-7c76-45a0-9303-c2847b31c129",
   "metadata": {},
   "outputs": [
    {
     "data": {
      "text/plain": [
       "\"I'm a student\""
      ]
     },
     "execution_count": 20,
     "metadata": {},
     "output_type": "execute_result"
    }
   ],
   "source": [
    "\"I'm a student\""
   ]
  },
  {
   "cell_type": "code",
   "execution_count": 21,
   "id": "2bab29a4-b83f-4c6e-9290-13b9612f3bfc",
   "metadata": {},
   "outputs": [
    {
     "data": {
      "text/plain": [
       "\"I'm a student\""
      ]
     },
     "execution_count": 21,
     "metadata": {},
     "output_type": "execute_result"
    }
   ],
   "source": [
    "\"\"\"I'm a student\"\"\""
   ]
  },
  {
   "cell_type": "code",
   "execution_count": 24,
   "id": "030bc721-b06c-45bc-ae9a-e07d0328bf0a",
   "metadata": {},
   "outputs": [],
   "source": [
    "#Concatenation >> It combines two or more strings"
   ]
  },
  {
   "cell_type": "code",
   "execution_count": 27,
   "id": "e0a5afc4-4ccc-48f7-8d28-680b9a50a5d3",
   "metadata": {},
   "outputs": [
    {
     "data": {
      "text/plain": [
       "'Hello World'"
      ]
     },
     "execution_count": 27,
     "metadata": {},
     "output_type": "execute_result"
    }
   ],
   "source": [
    "\"Hello\" + \" World\""
   ]
  },
  {
   "cell_type": "code",
   "execution_count": 29,
   "id": "73f9a23d-0255-47bb-96ec-773ffc8faffb",
   "metadata": {},
   "outputs": [
    {
     "data": {
      "text/plain": [
       "'Hello World = All Good'"
      ]
     },
     "execution_count": 29,
     "metadata": {},
     "output_type": "execute_result"
    }
   ],
   "source": [
    "\"Hello\" + \" World\" + \" = All Good\""
   ]
  },
  {
   "cell_type": "code",
   "execution_count": 30,
   "id": "5acef79b-8bee-4ee8-b7e5-4b8476e60f64",
   "metadata": {},
   "outputs": [],
   "source": [
    "#Extraction/Slicing/Indexing of string"
   ]
  },
  {
   "cell_type": "code",
   "execution_count": 31,
   "id": "89174cd0-aed1-4975-84ba-6e1a3e9f9b5b",
   "metadata": {},
   "outputs": [],
   "source": [
    "a = \"Deependra\""
   ]
  },
  {
   "cell_type": "code",
   "execution_count": 32,
   "id": "18584de0-8061-49d6-99a7-1b3df7dc1431",
   "metadata": {},
   "outputs": [
    {
     "data": {
      "text/plain": [
       "'Deependra'"
      ]
     },
     "execution_count": 32,
     "metadata": {},
     "output_type": "execute_result"
    }
   ],
   "source": [
    "a"
   ]
  },
  {
   "cell_type": "code",
   "execution_count": 33,
   "id": "720bdd1e-1a1a-4b60-872f-b4a27a4239b1",
   "metadata": {},
   "outputs": [
    {
     "data": {
      "text/plain": [
       "'n'"
      ]
     },
     "execution_count": 33,
     "metadata": {},
     "output_type": "execute_result"
    }
   ],
   "source": [
    "a[5]"
   ]
  },
  {
   "cell_type": "code",
   "execution_count": 34,
   "id": "ad11c025-8950-44e3-ac49-9d45b18af81d",
   "metadata": {},
   "outputs": [
    {
     "data": {
      "text/plain": [
       "'I am a student'"
      ]
     },
     "execution_count": 34,
     "metadata": {},
     "output_type": "execute_result"
    }
   ],
   "source": [
    "a = \"I am a student\"\n",
    "a"
   ]
  },
  {
   "cell_type": "code",
   "execution_count": 35,
   "id": "73161df8-d7af-4323-b9b6-b30df9e7c8de",
   "metadata": {},
   "outputs": [
    {
     "data": {
      "text/plain": [
       "'I am'"
      ]
     },
     "execution_count": 35,
     "metadata": {},
     "output_type": "execute_result"
    }
   ],
   "source": [
    "a[0:4]"
   ]
  },
  {
   "cell_type": "code",
   "execution_count": 36,
   "id": "27ec6ed6-c0ed-4471-a1c2-f4daaa077ce8",
   "metadata": {},
   "outputs": [
    {
     "data": {
      "text/plain": [
       "'a stu'"
      ]
     },
     "execution_count": 36,
     "metadata": {},
     "output_type": "execute_result"
    }
   ],
   "source": [
    "a[5:10]"
   ]
  },
  {
   "cell_type": "code",
   "execution_count": 37,
   "id": "ba9d9435-e72b-4a8f-9d6d-1dad17618533",
   "metadata": {},
   "outputs": [
    {
     "data": {
      "text/plain": [
       "'I am a student'"
      ]
     },
     "execution_count": 37,
     "metadata": {},
     "output_type": "execute_result"
    }
   ],
   "source": [
    "a[0:]"
   ]
  },
  {
   "cell_type": "code",
   "execution_count": 38,
   "id": "c0a2579f-34f9-4599-9aed-9b16ea5df9c0",
   "metadata": {},
   "outputs": [
    {
     "data": {
      "text/plain": [
       "'I am a stud'"
      ]
     },
     "execution_count": 38,
     "metadata": {},
     "output_type": "execute_result"
    }
   ],
   "source": [
    "a[:-3]"
   ]
  },
  {
   "cell_type": "code",
   "execution_count": 39,
   "id": "9495a259-267c-4626-9354-e6ee44ec722a",
   "metadata": {},
   "outputs": [],
   "source": [
    "a = \"Deependra\""
   ]
  },
  {
   "cell_type": "code",
   "execution_count": 40,
   "id": "f114360e-0a47-4fb6-878e-336f0d51b602",
   "metadata": {},
   "outputs": [
    {
     "data": {
      "text/plain": [
       "'Deependra'"
      ]
     },
     "execution_count": 40,
     "metadata": {},
     "output_type": "execute_result"
    }
   ],
   "source": [
    "a"
   ]
  },
  {
   "cell_type": "code",
   "execution_count": 41,
   "id": "f46b5911-25fe-4bb5-baad-73ba1f5e3d77",
   "metadata": {},
   "outputs": [
    {
     "data": {
      "text/plain": [
       "'Deep'"
      ]
     },
     "execution_count": 41,
     "metadata": {},
     "output_type": "execute_result"
    }
   ],
   "source": [
    "a[:-5]"
   ]
  },
  {
   "cell_type": "code",
   "execution_count": 42,
   "id": "6e0fffd5-3d45-4c65-b7ce-130ba3e89c1b",
   "metadata": {},
   "outputs": [
    {
     "data": {
      "text/plain": [
       "'endra'"
      ]
     },
     "execution_count": 42,
     "metadata": {},
     "output_type": "execute_result"
    }
   ],
   "source": [
    "a[4:]"
   ]
  },
  {
   "cell_type": "code",
   "execution_count": 43,
   "id": "ccddd203-d787-4852-a4b6-ede00e9dbd39",
   "metadata": {},
   "outputs": [
    {
     "data": {
      "text/plain": [
       "'endra'"
      ]
     },
     "execution_count": 43,
     "metadata": {},
     "output_type": "execute_result"
    }
   ],
   "source": [
    "a[-5:]"
   ]
  },
  {
   "cell_type": "code",
   "execution_count": 5,
   "id": "e64ab71c-d2df-4d00-9b0e-27ef92beb64c",
   "metadata": {},
   "outputs": [
    {
     "name": "stdout",
     "output_type": "stream",
     "text": [
      "Valid Email_ID\n"
     ]
    }
   ],
   "source": [
    "Email_ID = \"abc123@gmail.com\"\n",
    "if \"@\" in Email_ID:\n",
    "    print(\"Valid Email_ID\")\n",
    "else:\n",
    "    print(\"Invalid Email_ID\")\n",
    "          "
   ]
  },
  {
   "cell_type": "code",
   "execution_count": 6,
   "id": "4560fb42-7ee6-4ac4-bf44-d463ff38608f",
   "metadata": {},
   "outputs": [],
   "source": [
    "#String Ordering"
   ]
  },
  {
   "cell_type": "code",
   "execution_count": 7,
   "id": "12672a05-8307-449b-b7ab-fc271288109f",
   "metadata": {},
   "outputs": [
    {
     "data": {
      "text/plain": [
       "['Bhopal', 'Bombay', 'Delhi', 'Surat']"
      ]
     },
     "execution_count": 7,
     "metadata": {},
     "output_type": "execute_result"
    }
   ],
   "source": [
    "Name = (\"Delhi\",\"Bhopal\",\"Surat\",\"Bombay\")\n",
    "sorted(Name)"
   ]
  },
  {
   "cell_type": "code",
   "execution_count": 15,
   "id": "86fd28ad-e1cc-4531-a22f-a582f91ad338",
   "metadata": {},
   "outputs": [
    {
     "data": {
      "text/plain": [
       "'          Suresh                                  '"
      ]
     },
     "execution_count": 15,
     "metadata": {},
     "output_type": "execute_result"
    }
   ],
   "source": [
    "Name = (\"          Suresh                                  \")\n",
    "Name"
   ]
  },
  {
   "cell_type": "code",
   "execution_count": 16,
   "id": "7daae646-4ebb-4853-a4f2-c63ae9901f29",
   "metadata": {},
   "outputs": [
    {
     "data": {
      "text/plain": [
       "'Suresh'"
      ]
     },
     "execution_count": 16,
     "metadata": {},
     "output_type": "execute_result"
    }
   ],
   "source": [
    "Name.strip()"
   ]
  },
  {
   "cell_type": "code",
   "execution_count": 17,
   "id": "9489eba3-da2f-41ea-8ad6-c28051d3b2c5",
   "metadata": {},
   "outputs": [],
   "source": [
    "Table = \"Name\\tAge\\tGrade\\nAjay\\t56\\tA\\nVijay\\t23\\tB\""
   ]
  },
  {
   "cell_type": "code",
   "execution_count": 18,
   "id": "86768740-43bb-4b2e-8a41-08d91cff7613",
   "metadata": {},
   "outputs": [
    {
     "name": "stdout",
     "output_type": "stream",
     "text": [
      "Name\tAge\tGrade\n",
      "Ajay\t56\tA\n",
      "Vijay\t23\tB\n"
     ]
    }
   ],
   "source": [
    "print(Table)"
   ]
  },
  {
   "cell_type": "code",
   "execution_count": 21,
   "id": "df0a92f1-6bcb-4fac-a845-b68c2124da02",
   "metadata": {},
   "outputs": [],
   "source": [
    "a = \"Hello I \\ram Deependra Dubey\""
   ]
  },
  {
   "cell_type": "code",
   "execution_count": 22,
   "id": "2f77e574-8cea-4408-82a5-5e44b48f1934",
   "metadata": {},
   "outputs": [
    {
     "name": "stdout",
     "output_type": "stream",
     "text": [
      "am Deependra Dubey\n"
     ]
    }
   ],
   "source": []
  },
  {
   "cell_type": "code",
   "execution_count": 25,
   "id": "ba724d0c-a15d-4443-8de1-20f9ca75f557",
   "metadata": {},
   "outputs": [
    {
     "name": "stdout",
     "output_type": "stream",
     "text": [
      " Hello Ajay, what is your 45\n"
     ]
    }
   ],
   "source": [
    "Name = \"Ajay\"\n",
    "age = 45\n",
    "Greeting = f\" Hello {Name}, what is your {age}\"\n",
    "print(Greeting)"
   ]
  },
  {
   "cell_type": "code",
   "execution_count": 2,
   "id": "e36c3c8a-7fb0-42cd-9144-fea2096c7ae4",
   "metadata": {},
   "outputs": [
    {
     "data": {
      "text/plain": [
       "'Deependra'"
      ]
     },
     "execution_count": 2,
     "metadata": {},
     "output_type": "execute_result"
    }
   ],
   "source": [
    "name = \"Deependra\"\n",
    "name"
   ]
  },
  {
   "cell_type": "code",
   "execution_count": 3,
   "id": "76148eb5-1b2e-48ff-9824-5a2d5f87ab51",
   "metadata": {},
   "outputs": [
    {
     "data": {
      "text/plain": [
       "9"
      ]
     },
     "execution_count": 3,
     "metadata": {},
     "output_type": "execute_result"
    }
   ],
   "source": [
    "len(name)"
   ]
  },
  {
   "cell_type": "code",
   "execution_count": 8,
   "id": "9807a1a4-d06b-4b7e-b9b1-c157dd348a7b",
   "metadata": {},
   "outputs": [
    {
     "name": "stdout",
     "output_type": "stream",
     "text": [
      "D\n",
      "e\n",
      "e\n",
      "p\n",
      "e\n",
      "n\n",
      "d\n",
      "r\n",
      "a\n",
      "Counting is done\n"
     ]
    }
   ],
   "source": [
    "count = 0\n",
    "for i in name:\n",
    "    print(i)\n",
    "    count = count + 1\n",
    "else: \n",
    "    print(\"Counting is done\")"
   ]
  },
  {
   "cell_type": "code",
   "execution_count": null,
   "id": "b283d775-0a50-4e44-be4e-e03b6a5126d1",
   "metadata": {},
   "outputs": [],
   "source": []
  }
 ],
 "metadata": {
  "kernelspec": {
   "display_name": "Python 3 (ipykernel)",
   "language": "python",
   "name": "python3"
  },
  "language_info": {
   "codemirror_mode": {
    "name": "ipython",
    "version": 3
   },
   "file_extension": ".py",
   "mimetype": "text/x-python",
   "name": "python",
   "nbconvert_exporter": "python",
   "pygments_lexer": "ipython3",
   "version": "3.10.8"
  }
 },
 "nbformat": 4,
 "nbformat_minor": 5
}
