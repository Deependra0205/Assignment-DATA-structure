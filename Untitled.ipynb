{
 "cells": [
  {
   "cell_type": "code",
   "execution_count": 2,
   "id": "64b387fc-cde2-48f6-a2fb-7c61aa3f7a64",
   "metadata": {},
   "outputs": [],
   "source": [
    "a=10"
   ]
  },
  {
   "cell_type": "code",
   "execution_count": 3,
   "id": "52dceddd-db77-46d1-b6eb-ec1159d76d67",
   "metadata": {},
   "outputs": [],
   "source": [
    "b=20"
   ]
  },
  {
   "cell_type": "code",
   "execution_count": 4,
   "id": "35477bb2-20c2-4040-a94b-8638666d1f24",
   "metadata": {},
   "outputs": [
    {
     "data": {
      "text/plain": [
       "30"
      ]
     },
     "execution_count": 4,
     "metadata": {},
     "output_type": "execute_result"
    }
   ],
   "source": [
    "a+b"
   ]
  },
  {
   "cell_type": "markdown",
   "id": "42284f97-c9f1-4837-a764-0242d6037e61",
   "metadata": {},
   "source": [
    "#Hello"
   ]
  },
  {
   "cell_type": "markdown",
   "id": "903d6078-a1cf-4bf7-921c-4d8f57dc6320",
   "metadata": {},
   "source": [
    "# Hello"
   ]
  },
  {
   "cell_type": "markdown",
   "id": "25e92756-d5d7-4a7d-9cb9-2b3c79b576fa",
   "metadata": {},
   "source": [
    "## Hello"
   ]
  },
  {
   "cell_type": "markdown",
   "id": "ab11d557-f6e6-4495-a867-da2bf42e1234",
   "metadata": {},
   "source": [
    "#### Hello"
   ]
  },
  {
   "cell_type": "code",
   "execution_count": 5,
   "id": "bbc6a7d9-caee-4289-b531-cb2751e8d721",
   "metadata": {},
   "outputs": [
    {
     "name": "stdout",
     "output_type": "stream",
     "text": [
      " Hello World\n"
     ]
    }
   ],
   "source": [
    "print(\" Hello World\")"
   ]
  },
  {
   "cell_type": "code",
   "execution_count": 6,
   "id": "cbc83aa4-9b7a-47bf-b6b1-0698e94b5950",
   "metadata": {},
   "outputs": [],
   "source": [
    "c = \"Deependra\""
   ]
  },
  {
   "cell_type": "code",
   "execution_count": 7,
   "id": "bbd61bed-38a6-4f1d-8a97-bdb0cfaa9f3c",
   "metadata": {},
   "outputs": [
    {
     "data": {
      "text/plain": [
       "'Deependra'"
      ]
     },
     "execution_count": 7,
     "metadata": {},
     "output_type": "execute_result"
    }
   ],
   "source": [
    "c"
   ]
  },
  {
   "cell_type": "code",
   "execution_count": 8,
   "id": "049c18de-860b-4b39-93dd-ada6feed30ac",
   "metadata": {},
   "outputs": [],
   "source": [
    "d = True"
   ]
  },
  {
   "cell_type": "code",
   "execution_count": 9,
   "id": "71b0654c-cf22-4398-ac31-7e2807908fe7",
   "metadata": {},
   "outputs": [],
   "source": [
    "e = False\n"
   ]
  },
  {
   "cell_type": "code",
   "execution_count": 10,
   "id": "d14e3cac-a0e3-43a6-ac94-85a06659d72c",
   "metadata": {},
   "outputs": [
    {
     "data": {
      "text/plain": [
       "False"
      ]
     },
     "execution_count": 10,
     "metadata": {},
     "output_type": "execute_result"
    }
   ],
   "source": [
    "a > b"
   ]
  },
  {
   "cell_type": "code",
   "execution_count": 12,
   "id": "f3934ff0-0a37-400b-b9c6-5cb9b0ba9541",
   "metadata": {},
   "outputs": [
    {
     "data": {
      "text/plain": [
       "0"
      ]
     },
     "execution_count": 12,
     "metadata": {},
     "output_type": "execute_result"
    }
   ],
   "source": [
    "d-d"
   ]
  },
  {
   "cell_type": "code",
   "execution_count": 13,
   "id": "063b7f16-a2fd-4dcd-8429-9edcd4e229f8",
   "metadata": {},
   "outputs": [
    {
     "data": {
      "text/plain": [
       "1"
      ]
     },
     "execution_count": 13,
     "metadata": {},
     "output_type": "execute_result"
    }
   ],
   "source": [
    "d-e"
   ]
  },
  {
   "cell_type": "code",
   "execution_count": 14,
   "id": "f48695f7-36e7-4d6d-84ba-93ce79ab8621",
   "metadata": {},
   "outputs": [
    {
     "data": {
      "text/plain": [
       "2"
      ]
     },
     "execution_count": 14,
     "metadata": {},
     "output_type": "execute_result"
    }
   ],
   "source": [
    "d+d"
   ]
  },
  {
   "cell_type": "code",
   "execution_count": 15,
   "id": "5a81f3ab-645f-41b6-bd7c-8afafe781ba2",
   "metadata": {},
   "outputs": [
    {
     "data": {
      "text/plain": [
       "int"
      ]
     },
     "execution_count": 15,
     "metadata": {},
     "output_type": "execute_result"
    }
   ],
   "source": [
    "type(a)\n"
   ]
  },
  {
   "cell_type": "code",
   "execution_count": 16,
   "id": "b0282c6c-6c26-4778-b3af-e1d7d793ffb1",
   "metadata": {},
   "outputs": [
    {
     "data": {
      "text/plain": [
       "builtin_function_or_method"
      ]
     },
     "execution_count": 16,
     "metadata": {},
     "output_type": "execute_result"
    }
   ],
   "source": [
    "type(print)"
   ]
  },
  {
   "cell_type": "code",
   "execution_count": 17,
   "id": "9087826a-3170-4ca8-8dc6-24c176d79f03",
   "metadata": {},
   "outputs": [
    {
     "data": {
      "text/plain": [
       "str"
      ]
     },
     "execution_count": 17,
     "metadata": {},
     "output_type": "execute_result"
    }
   ],
   "source": [
    "type(c)"
   ]
  },
  {
   "cell_type": "code",
   "execution_count": 18,
   "id": "0148ee8d-0629-466a-a1bc-a707720015cb",
   "metadata": {},
   "outputs": [
    {
     "data": {
      "text/plain": [
       "bool"
      ]
     },
     "execution_count": 18,
     "metadata": {},
     "output_type": "execute_result"
    }
   ],
   "source": [
    "type(d)"
   ]
  },
  {
   "cell_type": "code",
   "execution_count": 20,
   "id": "347fddf0-b5da-497d-86f4-ecb25e39d168",
   "metadata": {},
   "outputs": [],
   "source": [
    "f=None"
   ]
  },
  {
   "cell_type": "code",
   "execution_count": 21,
   "id": "6ad13d53-abc3-4a30-97ae-cf0b09664115",
   "metadata": {},
   "outputs": [],
   "source": [
    "f"
   ]
  },
  {
   "cell_type": "code",
   "execution_count": 22,
   "id": "045c49e9-1de6-48ca-9675-c0e838ee3f4a",
   "metadata": {},
   "outputs": [],
   "source": [
    "f"
   ]
  },
  {
   "cell_type": "code",
   "execution_count": 23,
   "id": "7ffb9d0c-595d-48fd-bafb-69c3f6ce92c8",
   "metadata": {},
   "outputs": [
    {
     "data": {
      "text/plain": [
       "NoneType"
      ]
     },
     "execution_count": 23,
     "metadata": {},
     "output_type": "execute_result"
    }
   ],
   "source": [
    "type(f)"
   ]
  },
  {
   "cell_type": "code",
   "execution_count": 24,
   "id": "c671946e-e0fc-405b-abd1-1fc430db300e",
   "metadata": {},
   "outputs": [],
   "source": [
    "com = 7+9j"
   ]
  },
  {
   "cell_type": "code",
   "execution_count": 25,
   "id": "fc7f0122-fdb1-4596-a526-999672a3a3d7",
   "metadata": {},
   "outputs": [
    {
     "data": {
      "text/plain": [
       "complex"
      ]
     },
     "execution_count": 25,
     "metadata": {},
     "output_type": "execute_result"
    }
   ],
   "source": [
    "type(com)\n"
   ]
  },
  {
   "cell_type": "code",
   "execution_count": 26,
   "id": "43b6bbb0-f8bf-4316-b2c3-e651a982e9a6",
   "metadata": {},
   "outputs": [],
   "source": [
    "j=5"
   ]
  },
  {
   "cell_type": "code",
   "execution_count": 27,
   "id": "fb91a370-6b0b-4706-a84c-7f18ed5fb778",
   "metadata": {},
   "outputs": [
    {
     "data": {
      "text/plain": [
       "5"
      ]
     },
     "execution_count": 27,
     "metadata": {},
     "output_type": "execute_result"
    }
   ],
   "source": [
    "j"
   ]
  },
  {
   "cell_type": "code",
   "execution_count": 28,
   "id": "a43dce41-0ae5-41ad-b1b8-5632b482f84e",
   "metadata": {},
   "outputs": [],
   "source": [
    "Com=7+9j"
   ]
  },
  {
   "cell_type": "code",
   "execution_count": 31,
   "id": "0be8d632-4e57-4db9-bec8-127ae9506e54",
   "metadata": {},
   "outputs": [
    {
     "data": {
      "text/plain": [
       "7.0"
      ]
     },
     "execution_count": 31,
     "metadata": {},
     "output_type": "execute_result"
    }
   ],
   "source": [
    "com.real"
   ]
  },
  {
   "cell_type": "code",
   "execution_count": 34,
   "id": "6a70f339-d89c-44ab-b646-c75367ecc270",
   "metadata": {},
   "outputs": [
    {
     "data": {
      "text/plain": [
       "9.0"
      ]
     },
     "execution_count": 34,
     "metadata": {},
     "output_type": "execute_result"
    }
   ],
   "source": [
    "com.imag"
   ]
  },
  {
   "cell_type": "code",
   "execution_count": null,
   "id": "e374f01c-10dd-4527-a585-9421ad77eef5",
   "metadata": {},
   "outputs": [],
   "source": []
  }
 ],
 "metadata": {
  "kernelspec": {
   "display_name": "Python 3 (ipykernel)",
   "language": "python",
   "name": "python3"
  },
  "language_info": {
   "codemirror_mode": {
    "name": "ipython",
    "version": 3
   },
   "file_extension": ".py",
   "mimetype": "text/x-python",
   "name": "python",
   "nbconvert_exporter": "python",
   "pygments_lexer": "ipython3",
   "version": "3.10.8"
  }
 },
 "nbformat": 4,
 "nbformat_minor": 5
}
