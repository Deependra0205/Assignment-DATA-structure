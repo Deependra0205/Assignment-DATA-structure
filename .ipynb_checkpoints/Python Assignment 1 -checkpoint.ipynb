{
 "cells": [
  {
   "cell_type": "code",
   "execution_count": 4,
   "id": "fc21dc24-30e9-425f-b3f6-02d5f572e496",
   "metadata": {
    "tags": []
   },
   "outputs": [],
   "source": [
    "#Question1 = Explain the key features of Python that make it a popular choice for programming\n",
    "Answer = \"\"\"There are various key features which make Python popular language for programming. Some of them are given below.\n",
    "1. Easy sytax makes Python readble and easy to understand. \n",
    "2. It is user friendly and easy to operate. \n",
    "3. Its huge libraraies and community helps to solve complex coding problems with simple and easy steps.\n",
    "4. Python can be easily integrated with other programming languages like C,C++, Java.\n",
    "5. Understanding and execution of codes has the actual meaning line by line.\n",
    "6. Python is a versatile application. It can be user in various sectors like data science, game developing, web developing, business application, software development.\n",
    "7. Python is one of the huge demanding progrmming language all over the globe.\n",
    "8. Rapid development of python is helpful for debugging. \"\"\""
   ]
  },
  {
   "cell_type": "code",
   "execution_count": 8,
   "id": "ecb4abca-d481-40a3-a343-8208e4380654",
   "metadata": {},
   "outputs": [],
   "source": [
    "#Question2 = Describe the role of predefined keywords in Python and provide examples of how they are used in a program.\n",
    "Answer = \"\"\"Predefined keywords are fixed words which have specific meaning in language. These kepwords play important role in defining syntax and pstructure of python code.\n",
    "These keywords cannot be used as variables, functions.\n",
    "\n",
    "Examples of predefined keywords.\n",
    "if, elif, else,for, while, in, input, with, or, return , continue etc\"\"\""
   ]
  },
  {
   "cell_type": "code",
   "execution_count": 13,
   "id": "df189fb1-f662-40ff-ba1b-f23199e1bd6c",
   "metadata": {},
   "outputs": [
    {
     "name": "stdout",
     "output_type": "stream",
     "text": [
      "You are a minor.\n"
     ]
    }
   ],
   "source": [
    "# Example of if, elif and else keyword\n",
    "age = 15\n",
    "if age < 18:\n",
    "    print(\"You are a minor.\")\n",
    "elif age >= 18:\n",
    "    print(\"You are an adult.\")\n",
    "else:\n",
    "    print(\"Invalid age.\")"
   ]
  },
  {
   "cell_type": "code",
   "execution_count": 14,
   "id": "eb01b60f-e6cb-45e4-abf9-9a1b42f0a706",
   "metadata": {
    "collapsed": true,
    "jupyter": {
     "outputs_hidden": true
    },
    "tags": []
   },
   "outputs": [
    {
     "ename": "NameError",
     "evalue": "name 'Apple' is not defined",
     "output_type": "error",
     "traceback": [
      "\u001b[0;31m---------------------------------------------------------------------------\u001b[0m",
      "\u001b[0;31mNameError\u001b[0m                                 Traceback (most recent call last)",
      "Cell \u001b[0;32mIn[14], line 5\u001b[0m\n\u001b[1;32m      1\u001b[0m \u001b[38;5;66;03m#Question3 = Compare and contrast mutable and immutable objects in Python with examples\u001b[39;00m\n\u001b[1;32m      2\u001b[0m Answer \u001b[38;5;241m=\u001b[39m \u001b[38;5;124m\"\"\"\u001b[39m\u001b[38;5;124m Mutable Objects - These are the objects which can be modified or editied after their creation. There content can be changeable.\u001b[39m\n\u001b[1;32m      3\u001b[0m \u001b[38;5;124mExamples of Mutable Objects are:\u001b[39m\n\u001b[1;32m      4\u001b[0m \u001b[38;5;124mLists, Dictionaries, Sets\u001b[39m\u001b[38;5;124m\"\"\"\u001b[39m\n\u001b[0;32m----> 5\u001b[0m List \u001b[38;5;241m=\u001b[39m [\u001b[43mApple\u001b[49m,Orange,Mango,Banana]\n\u001b[1;32m      6\u001b[0m List\n",
      "\u001b[0;31mNameError\u001b[0m: name 'Apple' is not defined"
     ]
    }
   ],
   "source": [
    "#Question3 = Compare and contrast mutable and immutable objects in Python with examples\n",
    "Answer = \"\"\" Mutable Objects - These are the objects which can be modified or editied after their creation. There content can be changeable.\n",
    "Examples of Mutable Objects are:\n",
    "Lists, Dictionaries, Sets\"\"\"\n"
   ]
  },
  {
   "cell_type": "code",
   "execution_count": 16,
   "id": "743c636d-76fe-4b6c-9183-c0e185e2a412",
   "metadata": {},
   "outputs": [
    {
     "data": {
      "text/plain": [
       "['Apple', 'Orange', 'Mango', 'Banana']"
      ]
     },
     "execution_count": 16,
     "metadata": {},
     "output_type": "execute_result"
    }
   ],
   "source": [
    "fruit_list = [\"Apple\",\"Orange\",\"Mango\",\"Banana\"]\n",
    "fruit_list"
   ]
  },
  {
   "cell_type": "code",
   "execution_count": 20,
   "id": "2502de7f-2391-4806-b2b3-108e064670a8",
   "metadata": {},
   "outputs": [
    {
     "data": {
      "text/plain": [
       "['Apple', 'Orange', 'Grapes', 'Banana']"
      ]
     },
     "execution_count": 20,
     "metadata": {},
     "output_type": "execute_result"
    }
   ],
   "source": [
    "fruit_list[2]\n",
    "fruit_list[2] = \"Grapes\"\n",
    "fruit_list\n",
    "#Here it can be seen clearly that list is mutable object."
   ]
  },
  {
   "cell_type": "code",
   "execution_count": null,
   "id": "e8a67872-1111-4e6b-89cb-4867e5f55dfb",
   "metadata": {},
   "outputs": [],
   "source": [
    "\"\"\" Immutable Objects - This cannot be modified or editable. There values are contant after creation. Its values are unchangable.\n",
    "Example of Immutable Objects are:\n",
    "Tuple,Strings, Floats, Integers\"\"\""
   ]
  },
  {
   "cell_type": "code",
   "execution_count": 21,
   "id": "90c3c469-2ba4-4cee-925c-df95a916d1ac",
   "metadata": {},
   "outputs": [
    {
     "data": {
      "text/plain": [
       "('English', 'Hindi', 'Maths', 'Physics')"
      ]
     },
     "execution_count": 21,
     "metadata": {},
     "output_type": "execute_result"
    }
   ],
   "source": [
    "subjects = (\"English\",\"Hindi\",\"Maths\",\"Physics\")\n",
    "subjects"
   ]
  },
  {
   "cell_type": "code",
   "execution_count": 24,
   "id": "a99c544b-9b6b-427f-a161-d2187fe53874",
   "metadata": {},
   "outputs": [
    {
     "ename": "TypeError",
     "evalue": "'tuple' object does not support item assignment",
     "output_type": "error",
     "traceback": [
      "\u001b[0;31m---------------------------------------------------------------------------\u001b[0m",
      "\u001b[0;31mTypeError\u001b[0m                                 Traceback (most recent call last)",
      "Cell \u001b[0;32mIn[24], line 2\u001b[0m\n\u001b[1;32m      1\u001b[0m subjects[\u001b[38;5;241m1\u001b[39m]\n\u001b[0;32m----> 2\u001b[0m \u001b[43msubjects\u001b[49m\u001b[43m[\u001b[49m\u001b[38;5;241;43m1\u001b[39;49m\u001b[43m]\u001b[49m \u001b[38;5;241m=\u001b[39m \u001b[38;5;124m\"\u001b[39m\u001b[38;5;124mChemistry\u001b[39m\u001b[38;5;124m\"\u001b[39m\n",
      "\u001b[0;31mTypeError\u001b[0m: 'tuple' object does not support item assignment"
     ]
    }
   ],
   "source": [
    "subjects[1]\n",
    "subjects[1] = \"Chemistry\"\n",
    "#Here thsi error clarifies that tuple is immutable object. Its values are unchangeable. "
   ]
  },
  {
   "cell_type": "code",
   "execution_count": 26,
   "id": "91e39cc7-dcf4-4ec6-9190-7af32ad64d73",
   "metadata": {},
   "outputs": [],
   "source": [
    "#Question4 =  Discuss the different types of operators in Python and provide examples of how they are used\n",
    "Answer = \"\"\" Operators are special keywords or symbol that are used to perform some operation on variables or values.\n",
    "Various types of operators are as follows:\n",
    "1. Arithmatic operator: +,-,*,/\n",
    "2. Comparison Operator: ==,!=,>,<,<=,>=\n",
    "3. Logical Operator: AND,OR,NOT\n",
    "4. Bitwise Operator: &,|,~,^ XOR\n",
    "5. Assignment Operator\n",
    "6. Membership Operator\n",
    "7. Identity Operator: is , is not\n",
    "8. Modulus Operator: %\n",
    "9. Floor Operator: // \n",
    "\"\"\""
   ]
  },
  {
   "cell_type": "code",
   "execution_count": 27,
   "id": "96ca0c51-bc6c-45f3-9bd1-da1fdb3f3b4c",
   "metadata": {},
   "outputs": [
    {
     "data": {
      "text/plain": [
       "25"
      ]
     },
     "execution_count": 27,
     "metadata": {},
     "output_type": "execute_result"
    }
   ],
   "source": [
    "#Examples of various operators\n",
    "#Arithmatic Operator\n",
    "a = 10\n",
    "b = 15\n",
    "a + b"
   ]
  },
  {
   "cell_type": "code",
   "execution_count": 28,
   "id": "248838a5-56c6-4f39-b4e9-d42e18783d38",
   "metadata": {},
   "outputs": [
    {
     "data": {
      "text/plain": [
       "False"
      ]
     },
     "execution_count": 28,
     "metadata": {},
     "output_type": "execute_result"
    }
   ],
   "source": [
    "#Comparison Operator\n",
    "a = 10\n",
    "b = 15 \n",
    "a > b"
   ]
  },
  {
   "cell_type": "code",
   "execution_count": 32,
   "id": "376143b7-d44b-4341-9fb4-5da8eda8b357",
   "metadata": {},
   "outputs": [
    {
     "data": {
      "text/plain": [
       "3"
      ]
     },
     "execution_count": 32,
     "metadata": {},
     "output_type": "execute_result"
    }
   ],
   "source": [
    "#Bitwise Operator\n",
    "5^6"
   ]
  },
  {
   "cell_type": "code",
   "execution_count": 34,
   "id": "e6757db0-2131-4b65-a29b-c408e9ce5800",
   "metadata": {},
   "outputs": [
    {
     "data": {
      "text/plain": [
       "'0b11'"
      ]
     },
     "execution_count": 34,
     "metadata": {},
     "output_type": "execute_result"
    }
   ],
   "source": [
    "bin(3) #It shows the binary representation of 3"
   ]
  },
  {
   "cell_type": "code",
   "execution_count": 35,
   "id": "e2ece949-f9b6-497f-8db8-13cada81c26a",
   "metadata": {},
   "outputs": [
    {
     "data": {
      "text/plain": [
       "38.5"
      ]
     },
     "execution_count": 35,
     "metadata": {},
     "output_type": "execute_result"
    }
   ],
   "source": [
    "#Floor Operator\n",
    "77/2"
   ]
  },
  {
   "cell_type": "code",
   "execution_count": 36,
   "id": "dafc663e-1806-4f1d-a256-598df686bcc7",
   "metadata": {},
   "outputs": [
    {
     "data": {
      "text/plain": [
       "38"
      ]
     },
     "execution_count": 36,
     "metadata": {},
     "output_type": "execute_result"
    }
   ],
   "source": [
    "77//2 #This operator gives nearest decimal value"
   ]
  },
  {
   "cell_type": "code",
   "execution_count": 37,
   "id": "bb828fab-052d-4c84-af4c-0426c0d21ad1",
   "metadata": {},
   "outputs": [],
   "source": [
    "#Question5 =  Explain the concept of type casting in Python with examples\n",
    "Answer = \"\"\" It is nothing but changing of one data type to another. It allows to change the representation of data. It is also known as data conversion\"\"\""
   ]
  },
  {
   "cell_type": "code",
   "execution_count": 38,
   "id": "4e855583-be92-4ea3-9900-c9e564bf1aa1",
   "metadata": {},
   "outputs": [
    {
     "data": {
      "text/plain": [
       "int"
      ]
     },
     "execution_count": 38,
     "metadata": {},
     "output_type": "execute_result"
    }
   ],
   "source": [
    "#Example for type casting\n",
    "a = 56\n",
    "type(a)"
   ]
  },
  {
   "cell_type": "code",
   "execution_count": 39,
   "id": "f469edf8-0a3a-4317-bce7-5d90d4590afc",
   "metadata": {},
   "outputs": [
    {
     "data": {
      "text/plain": [
       "56.0"
      ]
     },
     "execution_count": 39,
     "metadata": {},
     "output_type": "execute_result"
    }
   ],
   "source": [
    "float(a) #Integer data type is converted into float data type"
   ]
  },
  {
   "cell_type": "code",
   "execution_count": 42,
   "id": "e053c682-a6ce-4a98-b2d3-562061d963c0",
   "metadata": {},
   "outputs": [
    {
     "data": {
      "text/plain": [
       "float"
      ]
     },
     "execution_count": 42,
     "metadata": {},
     "output_type": "execute_result"
    }
   ],
   "source": [
    "a = 56.8\n",
    "type(a)"
   ]
  },
  {
   "cell_type": "code",
   "execution_count": 43,
   "id": "e12605de-c102-49c6-abf4-7fadefdf1afd",
   "metadata": {},
   "outputs": [
    {
     "data": {
      "text/plain": [
       "'56.8'"
      ]
     },
     "execution_count": 43,
     "metadata": {},
     "output_type": "execute_result"
    }
   ],
   "source": [
    "str(a) #Float data type is converted into string."
   ]
  },
  {
   "cell_type": "code",
   "execution_count": 59,
   "id": "4800c827-53d4-4b2d-9c67-7e65d03a67c1",
   "metadata": {},
   "outputs": [],
   "source": [
    "#Question6 = How do conditional statements work in Python? Illustrate with examples\n",
    "Answer = \"\"\"Conditional statements allow to control the flow of program based or certain condition.\n",
    "This helps to make decisions and execute different code blocks depending on whether a condition is true or false\"\"\""
   ]
  },
  {
   "cell_type": "code",
   "execution_count": 52,
   "id": "aa5821de-e28a-4807-a8ff-70b8c8fb56ef",
   "metadata": {},
   "outputs": [
    {
     "name": "stdout",
     "output_type": "stream",
     "text": [
      "Grade C\n"
     ]
    }
   ],
   "source": [
    "#Example of conditional statement (IF-ELIF-ELSE)\n",
    "Marks = 65\n",
    "if Marks>=90:\n",
    "    print(\"Grade A\")\n",
    "elif 70<=Marks<=90:\n",
    "    print(\"Grade B\")\n",
    "elif 50<=Marks<=70:\n",
    "    print(\"Grade C\")\n",
    "else:\n",
    "    print(\"Grade D\")"
   ]
  },
  {
   "cell_type": "code",
   "execution_count": 53,
   "id": "a5c375eb-a249-4592-8f6a-417f9bd5d591",
   "metadata": {},
   "outputs": [],
   "source": [
    "#Question7 =  Describe the different types of loops in Python and their use cases with examples\n",
    "Answer = \"\"\" Loops are used to repeat block of code based on condition. They are essential for automating repetitive tasks, iteration of data and controlling program.\n",
    "Different Types of LOOPS\n",
    "1. For Loop - The for loop iterates over a sequence (such as a list, tuple, or string) and executes a block of code for each element. It is used where number of iteration is known in advance.\n",
    "2. While Loop - The while loop repeatedly executes a block of code as long as a specified condition remains true. It is used when performing an action until a certain condition is met.\n",
    "\"\"\"\n"
   ]
  },
  {
   "cell_type": "code",
   "execution_count": 58,
   "id": "608478cb-bef8-4ea7-9822-546a0d133621",
   "metadata": {},
   "outputs": [
    {
     "name": "stdout",
     "output_type": "stream",
     "text": [
      "Maths\n",
      "Physics\n",
      "English\n",
      "Chemistry\n",
      "Bio\n"
     ]
    }
   ],
   "source": [
    "#Example For Loop\n",
    "Subjects = (\"Maths\",\"Physics\",\"English\",\"Chemistry\",\"Bio\")\n",
    "for subject in Subjects:\n",
    "    print(subject)"
   ]
  },
  {
   "cell_type": "code",
   "execution_count": 55,
   "id": "0ab5d11f-74a6-41f1-8649-8a296432e0c6",
   "metadata": {},
   "outputs": [
    {
     "name": "stdout",
     "output_type": "stream",
     "text": [
      "10\n",
      "9\n",
      "8\n",
      "7\n",
      "6\n",
      "5\n",
      "4\n",
      "3\n",
      "2\n",
      "1\n"
     ]
    }
   ],
   "source": [
    "#Example While Loop\n",
    "count = 10\n",
    "while count > 0 :\n",
    "    print (count)\n",
    "    count = count - 1"
   ]
  },
  {
   "cell_type": "code",
   "execution_count": null,
   "id": "33250ae0-143c-4e8f-b052-c83f0bbcec6f",
   "metadata": {},
   "outputs": [],
   "source": []
  }
 ],
 "metadata": {
  "kernelspec": {
   "display_name": "Python 3 (ipykernel)",
   "language": "python",
   "name": "python3"
  },
  "language_info": {
   "codemirror_mode": {
    "name": "ipython",
    "version": 3
   },
   "file_extension": ".py",
   "mimetype": "text/x-python",
   "name": "python",
   "nbconvert_exporter": "python",
   "pygments_lexer": "ipython3",
   "version": "3.10.8"
  }
 },
 "nbformat": 4,
 "nbformat_minor": 5
}
